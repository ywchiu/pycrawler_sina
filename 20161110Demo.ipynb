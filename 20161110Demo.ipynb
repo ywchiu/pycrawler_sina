{
 "cells": [
  {
   "cell_type": "markdown",
   "metadata": {},
   "source": [
    "## 抓取新浪新聞列表"
   ]
  },
  {
   "cell_type": "code",
   "execution_count": 6,
   "metadata": {
    "collapsed": false
   },
   "outputs": [],
   "source": [
    "import requests\n",
    "res = requests.get('http://news.sina.com.cn/china/')\n",
    "res.encoding = 'utf-8'\n",
    "#print(res.text)"
   ]
  },
  {
   "cell_type": "code",
   "execution_count": 34,
   "metadata": {
    "collapsed": false
   },
   "outputs": [],
   "source": [
    "from bs4 import BeautifulSoup\n",
    "soup = BeautifulSoup(res.text, 'html.parser')\n",
    "for news in soup.select('.news-item'):    \n",
    "    if len(news.select('h2')) > 0:\n",
    "        #print(news)    \n",
    "        h2 = news.select('h2')[0].text                \n",
    "        a = news.select('a')[0]['href']        \n",
    "        time = news.select('.time')[0].text\n",
    "        \n",
    "        #print(time, h2, a)\n",
    "        #print('==================================')"
   ]
  },
  {
   "cell_type": "markdown",
   "metadata": {},
   "source": [
    "## 抓取新聞內文"
   ]
  },
  {
   "cell_type": "code",
   "execution_count": 29,
   "metadata": {
    "collapsed": false
   },
   "outputs": [],
   "source": [
    "import requests\n",
    "from bs4 import BeautifulSoup\n",
    "res = requests.get('http://news.sina.com.cn/c/2016-11-10/doc-ifxxsfip4305308.shtml')\n",
    "res.encoding = 'utf-8'\n",
    "#print(res.text)\n",
    "soup = BeautifulSoup(res.text, 'html.parser')"
   ]
  },
  {
   "cell_type": "code",
   "execution_count": 35,
   "metadata": {
    "collapsed": false
   },
   "outputs": [
    {
     "data": {
      "text/plain": [
       "'美媒：中国在打造自己的TPP并一直在扩大'"
      ]
     },
     "execution_count": 35,
     "metadata": {},
     "output_type": "execute_result"
    }
   ],
   "source": [
    "soup.select('#artibodyTitle')[0].text"
   ]
  },
  {
   "cell_type": "code",
   "execution_count": 50,
   "metadata": {
    "collapsed": false
   },
   "outputs": [
    {
     "data": {
      "text/plain": [
       "'2016年11月10日04:14'"
      ]
     },
     "execution_count": 50,
     "metadata": {},
     "output_type": "execute_result"
    }
   ],
   "source": [
    "timesource = soup.select('.time-source')[0].contents[0].strip()\n",
    "timesource"
   ]
  },
  {
   "cell_type": "code",
   "execution_count": 51,
   "metadata": {
    "collapsed": false
   },
   "outputs": [
    {
     "data": {
      "text/plain": [
       "'环球时报'"
      ]
     },
     "execution_count": 51,
     "metadata": {},
     "output_type": "execute_result"
    }
   ],
   "source": [
    "medianame = soup.select('.time-source')[0].contents[1].text.strip()\n",
    "medianame"
   ]
  },
  {
   "cell_type": "markdown",
   "metadata": {},
   "source": [
    "## Python strptime and strftime\n",
    "- https://docs.python.org/3/library/datetime.html#strftime-and-strptime-behavior"
   ]
  },
  {
   "cell_type": "code",
   "execution_count": 61,
   "metadata": {
    "collapsed": false
   },
   "outputs": [
    {
     "data": {
      "text/plain": [
       "datetime.datetime(2016, 11, 10, 9, 50, 14, 572769)"
      ]
     },
     "execution_count": 61,
     "metadata": {},
     "output_type": "execute_result"
    }
   ],
   "source": [
    "from datetime import datetime \n",
    "current_time = datetime.now()\n",
    "current_time"
   ]
  },
  {
   "cell_type": "code",
   "execution_count": 62,
   "metadata": {
    "collapsed": false
   },
   "outputs": [
    {
     "name": "stdout",
     "output_type": "stream",
     "text": [
      "<class 'datetime.datetime'>\n"
     ]
    },
    {
     "data": {
      "text/plain": [
       "datetime.datetime(2016, 11, 10, 4, 14)"
      ]
     },
     "execution_count": 62,
     "metadata": {},
     "output_type": "execute_result"
    }
   ],
   "source": [
    "dt = datetime.strptime('2016年11月10日04:14', '%Y年%m月%d日%H:%M')\n",
    "print(type(dt))\n",
    "dt"
   ]
  },
  {
   "cell_type": "code",
   "execution_count": 64,
   "metadata": {
    "collapsed": false
   },
   "outputs": [
    {
     "name": "stdout",
     "output_type": "stream",
     "text": [
      "-1 day, 18:23:45.427231\n"
     ]
    }
   ],
   "source": [
    "print(dt - current_time)"
   ]
  },
  {
   "cell_type": "code",
   "execution_count": 60,
   "metadata": {
    "collapsed": false
   },
   "outputs": [
    {
     "name": "stdout",
     "output_type": "stream",
     "text": [
      "<class 'str'>\n"
     ]
    },
    {
     "data": {
      "text/plain": [
       "'November 10, 2016'"
      ]
     },
     "execution_count": 60,
     "metadata": {},
     "output_type": "execute_result"
    }
   ],
   "source": [
    "print(type(dt.strftime('%B %d, %Y')))\n",
    "dt.strftime('%B %d, %Y')"
   ]
  },
  {
   "cell_type": "code",
   "execution_count": 66,
   "metadata": {
    "collapsed": false
   },
   "outputs": [
    {
     "data": {
      "text/plain": [
       "datetime.datetime(2016, 11, 11, 9, 52, 29, 648495)"
      ]
     },
     "execution_count": 66,
     "metadata": {},
     "output_type": "execute_result"
    }
   ],
   "source": [
    "from datetime import datetime, timedelta\n",
    "current_time = datetime.now()\n",
    "current_time + timedelta(days = 1)"
   ]
  },
  {
   "cell_type": "code",
   "execution_count": 68,
   "metadata": {
    "collapsed": false
   },
   "outputs": [
    {
     "data": {
      "text/plain": [
       "datetime.datetime(2016, 11, 9, 9, 52, 29, 648495)"
      ]
     },
     "execution_count": 68,
     "metadata": {},
     "output_type": "execute_result"
    }
   ],
   "source": [
    "current_time + timedelta(days = -1)"
   ]
  },
  {
   "cell_type": "code",
   "execution_count": 70,
   "metadata": {
    "collapsed": false
   },
   "outputs": [
    {
     "data": {
      "text/plain": [
       "datetime.datetime(2016, 10, 11, 9, 52, 29, 648495)"
      ]
     },
     "execution_count": 70,
     "metadata": {},
     "output_type": "execute_result"
    }
   ],
   "source": [
    "current_time + timedelta(days = -30)"
   ]
  },
  {
   "cell_type": "code",
   "execution_count": 72,
   "metadata": {
    "collapsed": false
   },
   "outputs": [
    {
     "name": "stdout",
     "output_type": "stream",
     "text": [
      "2016-11-09\n",
      "2016-11-08\n",
      "2016-11-07\n",
      "2016-11-06\n",
      "2016-11-05\n",
      "2016-11-04\n",
      "2016-11-03\n",
      "2016-11-02\n",
      "2016-11-01\n"
     ]
    }
   ],
   "source": [
    "for d in range(1,10):\n",
    "    print((current_time + timedelta(days = -d)).strftime('%Y-%m-%d'))"
   ]
  },
  {
   "cell_type": "code",
   "execution_count": 77,
   "metadata": {
    "collapsed": false
   },
   "outputs": [
    {
     "data": {
      "text/plain": [
       "1234861418.0"
      ]
     },
     "execution_count": 77,
     "metadata": {},
     "output_type": "execute_result"
    }
   ],
   "source": [
    "import time\n",
    "t = (2009, 2, 17, 17, 3, 38, 1, 48, 0)\n",
    "secs = time.mktime( t )\n",
    "secs"
   ]
  },
  {
   "cell_type": "code",
   "execution_count": 79,
   "metadata": {
    "collapsed": false
   },
   "outputs": [
    {
     "data": {
      "text/plain": [
       "1478742749.0"
      ]
     },
     "execution_count": 79,
     "metadata": {},
     "output_type": "execute_result"
    }
   ],
   "source": [
    "time.mktime(current_time.timetuple())"
   ]
  },
  {
   "cell_type": "code",
   "execution_count": 86,
   "metadata": {
    "collapsed": false
   },
   "outputs": [
    {
     "data": {
      "text/plain": [
       "'2016/11/10'"
      ]
     },
     "execution_count": 86,
     "metadata": {},
     "output_type": "execute_result"
    }
   ],
   "source": [
    "dt = datetime.fromtimestamp(1478742749)\n",
    "dt.strftime('%Y/%m/%d')"
   ]
  },
  {
   "cell_type": "markdown",
   "metadata": {},
   "source": [
    "## 取得內文"
   ]
  },
  {
   "cell_type": "code",
   "execution_count": 91,
   "metadata": {
    "collapsed": false
   },
   "outputs": [
    {
     "data": {
      "text/plain": [
       "1"
      ]
     },
     "execution_count": 91,
     "metadata": {},
     "output_type": "execute_result"
    }
   ],
   "source": [
    "a = [1,2,3,4,5]\n",
    "# 取第一筆資料\n",
    "a[0]"
   ]
  },
  {
   "cell_type": "code",
   "execution_count": 92,
   "metadata": {
    "collapsed": false
   },
   "outputs": [
    {
     "data": {
      "text/plain": [
       "5"
      ]
     },
     "execution_count": 92,
     "metadata": {},
     "output_type": "execute_result"
    }
   ],
   "source": [
    "# 取最後一筆資料\n",
    "a[-1]"
   ]
  },
  {
   "cell_type": "code",
   "execution_count": 93,
   "metadata": {
    "collapsed": false
   },
   "outputs": [
    {
     "data": {
      "text/plain": [
       "[2, 3, 4, 5]"
      ]
     },
     "execution_count": 93,
     "metadata": {},
     "output_type": "execute_result"
    }
   ],
   "source": [
    "# 從第二個以後開始取資料\n",
    "a[1:] # for(i = 1; i< len; i ++)"
   ]
  },
  {
   "cell_type": "code",
   "execution_count": 94,
   "metadata": {
    "collapsed": false
   },
   "outputs": [
    {
     "data": {
      "text/plain": [
       "[1, 2, 3, 4]"
      ]
     },
     "execution_count": 94,
     "metadata": {},
     "output_type": "execute_result"
    }
   ],
   "source": [
    "#最後一筆我不要\n",
    "a[:-1] # for(i = 0 ; i< last one, i++)"
   ]
  },
  {
   "cell_type": "code",
   "execution_count": 102,
   "metadata": {
    "collapsed": false,
    "scrolled": true
   },
   "outputs": [
    {
     "data": {
      "text/plain": [
       "'原标题：美媒：中国在打造自己的TPP，并一直在扩大 总统竞选期间，我们不断听到对跨太平洋伙伴关系协定的攻击。对TPP的争论不少都围绕中国展开。支持者把它视为战略性而非经济的条约，认为对遏制中国不可缺少。反对者把它看成威胁，认为可能会鼓励签署国让中国借由“后门”进入。事实上，这两种看法都错了，错的原因也一样。TPP对拖慢中国的经济和政治力量的崛起并无助益，对美国工人的影响也微乎其微。原因在于，TPP对中国并不重要。 正如新加坡投资人吉姆·伊斯坎所分析，TPP谈判的8年间，北京并非无所作为。中国一直在发展与亚太地区国家的经贸关系，构筑牢固的贸易网络。如今，在美国忙于争论TPP利弊之际，中国已与12个TPP签约国中的9个签订自贸协定。美国在说，中国在做。当华盛顿还在争论TPP是遏制中国的最佳方式还是中国经济帝国主义的特洛伊木马时，中国人已建起自己的TPP，并一直在扩大。 中国还在构建与贸易伙伴的新纽带——物理上的连接，包括机场、道路和港口，提供从混凝土、钢铁到融资的一切所需。波士顿咨询集团高级合伙人哈罗尔德·西尔金称，“一带一路”倡议加强中国与别国的关系的同时，美国显然在后退。西尔金警告：“美国应竭力去做成功竞争所必要的事，否则将陷入衰落。如果我们在贸易方面耍大牌，那就给中国人开了方便之门，他们有准备也有意愿和能力填充我们造成的任何空缺。” 此种背景下，不禁让人担心，像中国这样的国家多久会成为主导该地区的经济强国。现在，拉美超过10%的出口流向中国，近18%进口源自中国。一个共产党威权国家让托马斯·杰斐逊的国度领教了什么才是自由贸易，这也算目前混乱时代的奇事。'"
      ]
     },
     "execution_count": 102,
     "metadata": {},
     "output_type": "execute_result"
    }
   ],
   "source": [
    "# 最後一個p 不要\n",
    "article = []\n",
    "for p in soup.select('#artibody p')[:-1]:\n",
    "    article.append(p.text.strip())\n",
    "' '.join(article)"
   ]
  },
  {
   "cell_type": "code",
   "execution_count": 104,
   "metadata": {
    "collapsed": false
   },
   "outputs": [
    {
     "data": {
      "text/plain": [
       "'原标题：美媒：中国在打造自己的TPP，并一直在扩大总统竞选期间，我们不断听到对跨太平洋伙伴关系协定的攻击。对TPP的争论不少都围绕中国展开。支持者把它视为战略性而非经济的条约，认为对遏制中国不可缺少。反对者把它看成威胁，认为可能会鼓励签署国让中国借由“后门”进入。事实上，这两种看法都错了，错的原因也一样。TPP对拖慢中国的经济和政治力量的崛起并无助益，对美国工人的影响也微乎其微。原因在于，TPP对中国并不重要。正如新加坡投资人吉姆·伊斯坎所分析，TPP谈判的8年间，北京并非无所作为。中国一直在发展与亚太地区国家的经贸关系，构筑牢固的贸易网络。如今，在美国忙于争论TPP利弊之际，中国已与12个TPP签约国中的9个签订自贸协定。美国在说，中国在做。当华盛顿还在争论TPP是遏制中国的最佳方式还是中国经济帝国主义的特洛伊木马时，中国人已建起自己的TPP，并一直在扩大。中国还在构建与贸易伙伴的新纽带——物理上的连接，包括机场、道路和港口，提供从混凝土、钢铁到融资的一切所需。波士顿咨询集团高级合伙人哈罗尔德·西尔金称，“一带一路”倡议加强中国与别国的关系的同时，美国显然在后退。西尔金警告：“美国应竭力去做成功竞争所必要的事，否则将陷入衰落。如果我们在贸易方面耍大牌，那就给中国人开了方便之门，他们有准备也有意愿和能力填充我们造成的任何空缺。”此种背景下，不禁让人担心，像中国这样的国家多久会成为主导该地区的经济强国。现在，拉美超过10%的出口流向中国，近18%进口源自中国。一个共产党威权国家让托马斯·杰斐逊的国度领教了什么才是自由贸易，这也算目前混乱时代的奇事。'"
      ]
     },
     "execution_count": 104,
     "metadata": {},
     "output_type": "execute_result"
    }
   ],
   "source": [
    "''.join([p.text.strip() for p in soup.select('#artibody p')[:-1]])"
   ]
  },
  {
   "cell_type": "code",
   "execution_count": 103,
   "metadata": {
    "collapsed": false
   },
   "outputs": [
    {
     "data": {
      "text/plain": [
       "[2, 4, 6, 8, 10]"
      ]
     },
     "execution_count": 103,
     "metadata": {},
     "output_type": "execute_result"
    }
   ],
   "source": [
    "a= [1,2,3,4,5]\n",
    "[ele * 2 for ele in a]"
   ]
  },
  {
   "cell_type": "markdown",
   "metadata": {},
   "source": [
    "## 抽取責任編輯"
   ]
  },
  {
   "cell_type": "code",
   "execution_count": 109,
   "metadata": {
    "collapsed": false
   },
   "outputs": [
    {
     "data": {
      "text/plain": [
       "'隗俊 '"
      ]
     },
     "execution_count": 109,
     "metadata": {},
     "output_type": "execute_result"
    }
   ],
   "source": [
    "editor = soup.select('.article-editor')[0].text.strip('责任编辑：')\n",
    "editor"
   ]
  },
  {
   "cell_type": "markdown",
   "metadata": {},
   "source": [
    "## 抽取評論數"
   ]
  },
  {
   "cell_type": "code",
   "execution_count": 110,
   "metadata": {
    "collapsed": false
   },
   "outputs": [
    {
     "data": {
      "text/plain": [
       "[<span id=\"commentCount1\"></span>]"
      ]
     },
     "execution_count": 110,
     "metadata": {},
     "output_type": "execute_result"
    }
   ],
   "source": [
    "soup.select('#commentCount1')"
   ]
  },
  {
   "cell_type": "code",
   "execution_count": 134,
   "metadata": {
    "collapsed": false
   },
   "outputs": [
    {
     "data": {
      "text/plain": [
       "6"
      ]
     },
     "execution_count": 134,
     "metadata": {},
     "output_type": "execute_result"
    }
   ],
   "source": [
    "import requests\n",
    "import json\n",
    "res = requests.get('http://comment5.news.sina.com.cn/page/info?version=1&format=js&channel=gn&newsid=comos-fxxsfip4305308&group=&compress=0&ie=utf-8&oe=utf-8&page=1&page_size=20')\n",
    "comments = res.text.strip('var data=')\n",
    "json.loads(comments)['result']['count']['total']"
   ]
  },
  {
   "cell_type": "code",
   "execution_count": 125,
   "metadata": {
    "collapsed": true
   },
   "outputs": [],
   "source": [
    "# ifxxsfip4305308\n",
    "newsurl = 'http://news.sina.com.cn/c/2016-11-10/doc-ifxxsfip4305308.shtml'"
   ]
  },
  {
   "cell_type": "code",
   "execution_count": 135,
   "metadata": {
    "collapsed": false
   },
   "outputs": [
    {
     "data": {
      "text/plain": [
       "'fxxsfip4305308'"
      ]
     },
     "execution_count": 135,
     "metadata": {},
     "output_type": "execute_result"
    }
   ],
   "source": [
    "newsurl.split('/')[-1].lstrip('doc-i').rstrip('.shtml')"
   ]
  },
  {
   "cell_type": "markdown",
   "metadata": {},
   "source": [
    "## 正規表達法"
   ]
  },
  {
   "cell_type": "code",
   "execution_count": 137,
   "metadata": {
    "collapsed": false
   },
   "outputs": [
    {
     "data": {
      "text/plain": [
       "True"
      ]
     },
     "execution_count": 137,
     "metadata": {},
     "output_type": "execute_result"
    }
   ],
   "source": [
    "'apple' == 'apple'"
   ]
  },
  {
   "cell_type": "code",
   "execution_count": 139,
   "metadata": {
    "collapsed": false
   },
   "outputs": [
    {
     "name": "stdout",
     "output_type": "stream",
     "text": [
      "<_sre.SRE_Match object; span=(0, 1), match='a'>\n",
      "None\n"
     ]
    }
   ],
   "source": [
    "import re\n",
    "s = 'a'\n",
    "print(re.search('a', s))\n",
    "\n",
    "s = 'b'\n",
    "print(re.search('a', s))"
   ]
  },
  {
   "cell_type": "code",
   "execution_count": 140,
   "metadata": {
    "collapsed": false
   },
   "outputs": [
    {
     "name": "stdout",
     "output_type": "stream",
     "text": [
      "<_sre.SRE_Match object; span=(0, 1), match='y'>\n"
     ]
    }
   ],
   "source": [
    "# [abc] => a or b or c\n",
    "s = 'y'\n",
    "print(re.search('[abcdefghijklmnopqrstuvwxyz]', s))"
   ]
  },
  {
   "cell_type": "code",
   "execution_count": 141,
   "metadata": {
    "collapsed": false
   },
   "outputs": [
    {
     "name": "stdout",
     "output_type": "stream",
     "text": [
      "<_sre.SRE_Match object; span=(0, 1), match='y'>\n"
     ]
    }
   ],
   "source": [
    "# [abcdefghijklmnopqrstuvwxyz] = [a-z]\n",
    "print(re.search('[a-z]', s))"
   ]
  },
  {
   "cell_type": "code",
   "execution_count": 144,
   "metadata": {
    "collapsed": false
   },
   "outputs": [
    {
     "name": "stdout",
     "output_type": "stream",
     "text": [
      "<_sre.SRE_Match object; span=(0, 1), match='5'>\n",
      "<_sre.SRE_Match object; span=(0, 1), match='5'>\n",
      "<_sre.SRE_Match object; span=(0, 1), match='5'>\n"
     ]
    }
   ],
   "source": [
    "n = '5'\n",
    "print(re.search('[0123456789]', n))\n",
    "\n",
    "# [0123456789] => [0-9]\n",
    "print(re.search('[0-9]', n))\n",
    "# [0-9] = \\d\n",
    "print(re.search('\\d', n))"
   ]
  },
  {
   "cell_type": "code",
   "execution_count": 148,
   "metadata": {
    "collapsed": false
   },
   "outputs": [
    {
     "name": "stdout",
     "output_type": "stream",
     "text": [
      "<_sre.SRE_Match object; span=(0, 1), match='y'>\n",
      "None\n",
      "<_sre.SRE_Match object; span=(0, 1), match='Y'>\n",
      "<_sre.SRE_Match object; span=(0, 1), match='Y'>\n",
      "<_sre.SRE_Match object; span=(0, 1), match='Y'>\n"
     ]
    }
   ],
   "source": [
    "s = 'y'\n",
    "print(re.search('[a-z]', s))\n",
    "\n",
    "s = 'Y'\n",
    "print(re.search('[a-z]', s))\n",
    "print(re.search('[a-zA-Z]', s))\n",
    "print(re.search('[a-zA-Z0-9]', s))\n",
    "\n",
    "# [a-zA-Z0-9] => \\w\n",
    "print(re.search('\\w', s))"
   ]
  },
  {
   "cell_type": "code",
   "execution_count": 153,
   "metadata": {
    "collapsed": false
   },
   "outputs": [
    {
     "name": "stdout",
     "output_type": "stream",
     "text": [
      "<_sre.SRE_Match object; span=(0, 1), match='a'>\n",
      "<_sre.SRE_Match object; span=(0, 5), match='apple'>\n",
      "<_sre.SRE_Match object; span=(0, 5), match='apple'>\n",
      "<_sre.SRE_Match object; span=(0, 5), match='apple'>\n",
      "<_sre.SRE_Match object; span=(0, 5), match='apple'>\n",
      "<_sre.SRE_Match object; span=(0, 5), match='apple'>\n",
      "<_sre.SRE_Match object; span=(0, 5), match='apple'>\n"
     ]
    }
   ],
   "source": [
    "s = 'apple'\n",
    "print(re.search('\\w', s))\n",
    "\n",
    "# match 5 alphabet => {}\n",
    "print(re.search('\\w{5}', s))\n",
    "\n",
    "\n",
    "# {min ,max }\n",
    "# e.g. match 3 ~ 6 \n",
    "print(re.search('\\w{3,6}', s))\n",
    "\n",
    "# e.g. match 1 ~  \n",
    "print(re.search('\\w{1,}', s))\n",
    "# {1,} => +\n",
    "print(re.search('\\w+', s))\n",
    "\n",
    "\n",
    "# e.g. match 0 ~  \n",
    "print(re.search('\\w{0,}', s))\n",
    "# {0,} => *\n",
    "print(re.search('\\w*', s))"
   ]
  },
  {
   "cell_type": "code",
   "execution_count": 155,
   "metadata": {
    "collapsed": false
   },
   "outputs": [
    {
     "name": "stdout",
     "output_type": "stream",
     "text": [
      "<_sre.SRE_Match object; span=(0, 10), match='0912345678'>\n",
      "None\n",
      "None\n"
     ]
    }
   ],
   "source": [
    "phones = ['0912345678','0912-345-678','0912-345678']\n",
    "for phone in phones:\n",
    "    print(re.match('09\\d{8}' , phone))"
   ]
  },
  {
   "cell_type": "code",
   "execution_count": 156,
   "metadata": {
    "collapsed": false
   },
   "outputs": [
    {
     "name": "stdout",
     "output_type": "stream",
     "text": [
      "<_sre.SRE_Match object; span=(0, 10), match='0912345678'>\n",
      "<_sre.SRE_Match object; span=(0, 12), match='0912-345-678'>\n",
      "<_sre.SRE_Match object; span=(0, 11), match='0912-345678'>\n"
     ]
    }
   ],
   "source": [
    "phones = ['0912345678','0912-345-678','0912-345678']\n",
    "for phone in phones:\n",
    "    print(re.match('09\\d{2}-{0,1}\\d{3}-{0,1}\\d{3}' , phone))"
   ]
  },
  {
   "cell_type": "code",
   "execution_count": 157,
   "metadata": {
    "collapsed": false
   },
   "outputs": [
    {
     "name": "stdout",
     "output_type": "stream",
     "text": [
      "<_sre.SRE_Match object; span=(0, 10), match='0912345678'>\n",
      "<_sre.SRE_Match object; span=(0, 12), match='0912-345-678'>\n",
      "<_sre.SRE_Match object; span=(0, 11), match='0912-345678'>\n"
     ]
    }
   ],
   "source": [
    "# {0,1} => ?\n",
    "for phone in phones:\n",
    "    print(re.match('09\\d{2}-?\\d{3}-?\\d{3}' , phone))"
   ]
  },
  {
   "cell_type": "code",
   "execution_count": 160,
   "metadata": {
    "collapsed": false
   },
   "outputs": [],
   "source": [
    "p = '09123456780929038901830981098310923801230'\n",
    "# ^ => match begin, $ => match end\n",
    "re.match('^09\\d{2}-?\\d{3}-?\\d{3}$' , p)"
   ]
  },
  {
   "cell_type": "code",
   "execution_count": 164,
   "metadata": {
    "collapsed": false
   },
   "outputs": [
    {
     "name": "stdout",
     "output_type": "stream",
     "text": [
      "doc-ifxxsfip4305308.shtml\n",
      "fxxsfip4305308\n"
     ]
    }
   ],
   "source": [
    "# fxxsfip4305308\n",
    "newsurl = 'http://news.sina.com.cn/c/2016-11-10/doc-ifxxsfip4305308.shtml'\n",
    "m = re.search('doc-i(\\w+).shtml', newsurl)\n",
    "# group(0) => match all paterns\n",
    "print(m.group(0))\n",
    "\n",
    "# group(1) => match pattern within first ()\n",
    "print(m.group(1))"
   ]
  },
  {
   "cell_type": "code",
   "execution_count": 169,
   "metadata": {
    "collapsed": false
   },
   "outputs": [
    {
     "name": "stdout",
     "output_type": "stream",
     "text": [
      "http://news.sina.com.cn/c/2016-11-10/doc-ifxxsfip4305308.shtml\n",
      "http://comment5.news.sina.com.cn/page/info?version=1&format=js&channel=gn&newsid=comos-fxxsfip4305308&group=&compress=0&ie=utf-8&oe=utf-8&page=1&page_size=20\n"
     ]
    }
   ],
   "source": [
    "newsurl = 'http://news.sina.com.cn/c/2016-11-10/doc-ifxxsfip4305308.shtml'\n",
    "commentURL = 'http://comment5.news.sina.com.cn/page/info?version=1&format=js&channel=gn&newsid=comos-{}&group=&compress=0&ie=utf-8&oe=utf-8&page=1&page_size=20'\n",
    "print(newsurl)\n",
    "print(commenturl)"
   ]
  },
  {
   "cell_type": "markdown",
   "metadata": {},
   "source": [
    "## 建立一個抽取評論數的函式"
   ]
  },
  {
   "cell_type": "code",
   "execution_count": 28,
   "metadata": {
    "collapsed": false
   },
   "outputs": [],
   "source": [
    "def getCommentCount(newsurl):\n",
    "    m = re.search('doc-i(\\w+).shtml', newsurl)\n",
    "    newsid = m.group(1)\n",
    "    res = requests.get(commentURL.format(newsid))\n",
    "    comments = res.text.strip('var data=')\n",
    "    return json.loads(comments)['result']['count']['total']"
   ]
  },
  {
   "cell_type": "code",
   "execution_count": 173,
   "metadata": {
    "collapsed": false
   },
   "outputs": [
    {
     "data": {
      "text/plain": [
       "2780"
      ]
     },
     "execution_count": 173,
     "metadata": {},
     "output_type": "execute_result"
    }
   ],
   "source": [
    "s = 'http://news.sina.com.cn/c/nd/2016-11-09/doc-ifxxsmif2592720.shtml?cre=chinapc&mod=inf&loc=2&r=1&doct=0&rfunc=89&tj=none&s=0'\n",
    "getCommentCount(s)"
   ]
  },
  {
   "cell_type": "markdown",
   "metadata": {},
   "source": [
    "## 建立新聞內容抽取函式"
   ]
  },
  {
   "cell_type": "code",
   "execution_count": 37,
   "metadata": {
    "collapsed": false
   },
   "outputs": [],
   "source": [
    "import requests\n",
    "from bs4 import BeautifulSoup\n",
    "from datetime import datetime\n",
    "import re, json\n",
    "newsurl = 'http://news.sina.com.cn/o/2016-11-10/doc-ifxxsmuu5252838.shtml'\n",
    "commentURL = 'http://comment5.news.sina.com.cn/page/info?version=1&format=js&channel=gn&newsid=comos-{}&group=&compress=0&ie=utf-8&oe=utf-8&page=1&page_size=20'\n",
    "\n",
    "def getNewsDetail(newsurl):\n",
    "    result = {}\n",
    "    res = requests.get(newsurl)\n",
    "    res.encoding = 'utf-8'\n",
    "    soup = BeautifulSoup(res.text, 'html.parser')\n",
    "    result['title']      = soup.select('#artibodyTitle')[0].text\n",
    "    result['newssource'] = soup.select('.time-source')[0].contents[1].text.strip()\n",
    "    timesource           = soup.select('.time-source')[0].contents[0].strip()\n",
    "    result['dt']         = datetime.strptime(timesource, '%Y年%m月%d日%H:%M')\n",
    "    result['article']    = ''.join([p.text.strip() for p in soup.select('#artibody p')[:-1]])\n",
    "    try:\n",
    "        result['editor']     = soup.select('.article-editor')[0].text.lstrip('责任编辑：')\n",
    "    except:\n",
    "        print('editor not found')\n",
    "    result['comments']   = getCommentCount(newsurl)\n",
    "    return result "
   ]
  },
  {
   "cell_type": "code",
   "execution_count": 39,
   "metadata": {
    "collapsed": false
   },
   "outputs": [
    {
     "data": {
      "text/plain": [
       "{'article': '原标题：台湾新北街头发生百人打群架事件 警方制止反被打中新网11月10日电 据台湾《中时电子报》报道，台湾新北市三重区正义北路9日晚10时许发生街头斗殴事件，目击者指出，两派人马疑似因为车祸纠纷发生争执，其中一方打电话找了数十人前往助阵。警方获报后赶抵现场制止，竟也遭殴打、咬伤，警方随后出动快打部队控制现场状况，并带回相关涉案人员侦办。9日新北市三重区正义北路晚上10点多传出集体打群架事件，有网友提供影片表示，现场疑似因车祸纠纷而引发斗殴，一名摩托车骑士左转撞上一名抱小孩过马路的父亲，骑士因口气很凶，引发许多人前来追打，警方获报到场维持秩序，斗殴的激烈场面被网友拍下。根据网友上传的影片可看到，现场车祸纠纷引发近百人打群架，大批警力前往维持秩序，警方到场后还一度场面失控，连警察都被拉扯。有网友表示，本来只是单纯车祸擦伤，但疑似骑士是因撞到三重角头（注：黑社会的头头），态度还很差，才会被上百人围殴。由于斗殴现场正位于三重人车量大的正义北路上，一群男子叫嚣殴打的声音吓坏经过的路人和附近住户，民众将过程拍下发上网，让不少网友直呼“治安败坏”、“三重日常”。',\n",
       " 'comments': 44,\n",
       " 'dt': datetime.datetime(2016, 11, 10, 10, 30),\n",
       " 'editor': '康云凯 ',\n",
       " 'newssource': '中国新闻网',\n",
       " 'title': '台湾街头发生百人打群架 警方制止反被打(图)'}"
      ]
     },
     "execution_count": 39,
     "metadata": {},
     "output_type": "execute_result"
    }
   ],
   "source": [
    "getNewsDetail('http://news.sina.com.cn/o/2016-11-10/doc-ifxxsmuu5242123.shtml')"
   ]
  },
  {
   "cell_type": "code",
   "execution_count": 41,
   "metadata": {
    "collapsed": false
   },
   "outputs": [
    {
     "data": {
      "text/plain": [
       "'http://api.roll.news.sina.com.cn/zt_list?channel=news&cat_1=gnxw&cat_2==gdxw1||=gatxw||=zs-pl||=mtjj&level==1||=2&show_ext=1&show_all=1&show_num=22&tag=1&format=json&page=8&callback=newsloadercallback&_=1478757941311'"
      ]
     },
     "execution_count": 41,
     "metadata": {},
     "output_type": "execute_result"
    }
   ],
   "source": [
    "a = 'http://api.roll.news.sina.com.cn/zt_list?channel=news&cat_1=gnxw&cat_2==gdxw1||=gatxw||=zs-pl||=mtjj&level==1||=2&show_ext=1&show_all=1&show_num=22&tag=1&format=json&page=8&callback=newsloadercallback&_=1478757941311'\n",
    "a"
   ]
  },
  {
   "cell_type": "code",
   "execution_count": 43,
   "metadata": {
    "collapsed": false
   },
   "outputs": [
    {
     "data": {
      "text/plain": [
       "'http://api.roll.news.sina.com.cn/zt_list?channel=news&cat_1=gnxw&cat_2==gdxw1||=gatxw||=zs-pl||=mtjj&level==1||=2&show_ext=1&show_all=1&show_num=22&tag=1&format=json&page=9&callback=newsloadercallback&_=1478757982735'"
      ]
     },
     "execution_count": 43,
     "metadata": {},
     "output_type": "execute_result"
    }
   ],
   "source": [
    "b = 'http://api.roll.news.sina.com.cn/zt_list?channel=news&cat_1=gnxw&cat_2==gdxw1||=gatxw||=zs-pl||=mtjj&level==1||=2&show_ext=1&show_all=1&show_num=22&tag=1&format=json&page=9&callback=newsloadercallback&_=1478757982735'\n",
    "b"
   ]
  },
  {
   "cell_type": "markdown",
   "metadata": {},
   "source": [
    "## 整理API 資料"
   ]
  },
  {
   "cell_type": "code",
   "execution_count": 49,
   "metadata": {
    "collapsed": false
   },
   "outputs": [
    {
     "data": {
      "text/plain": [
       "{'result': {'count': '100',\n",
       "  'data': [{'column': 'gdxw1',\n",
       "    'comment_channel': 'gn',\n",
       "    'createtime': '1478019689',\n",
       "    'ext1': '',\n",
       "    'ext2': 'gn:comos-fxxfuff7615013:0',\n",
       "    'ext3': '惠民资金乱象:领补助偷梁换柱',\n",
       "    'ext4': 'gn:comos-fxxfuff7615013:0',\n",
       "    'ext5': '查实问题线索43.2万条，涉及违规资金6.02亿元；全省共查出不符合政策规定领取补助的人数317406人，涉及党员干部59209人……今年4月至8月，湖北省纪委组织全省运用大数据对2014年至2015年退耕还林、农村低保、农村危房改造等8项惠民政策落实情况监督检查，查处了一批虚报冒领问题。',\n",
       "    'id': '1-1-33457144',\n",
       "    'img': '',\n",
       "    'keywords': '惠民资金',\n",
       "    'level': '1',\n",
       "    'media_name': '经济参考报',\n",
       "    'media_type': '',\n",
       "    'old_level': '1',\n",
       "    'title': '惠民资金乱象:申报无中生有 村干部变戏法套钱',\n",
       "    'url': 'http://news.sina.com.cn/c/nd/2016-11-02/doc-ifxxfuff7615013.shtml'},\n",
       "   {'column': 'gdxw1',\n",
       "    'comment_channel': 'gn',\n",
       "    'createtime': '1478019419',\n",
       "    'ext1': '',\n",
       "    'ext2': 'gn:comos-fxxfysn8500657:0',\n",
       "    'ext3': '多省酝酿“土十条”地方细则',\n",
       "    'ext4': 'gn:comos-fxxfysn8500657:0',\n",
       "    'ext5': '围绕土壤污染治理的环保风暴正在蓄势待发。近日，《经济参考报》记者从多个省份了解到，《土壤环境保护和污染治理行动计划》（以下简称“土十条”）出台后，辽宁、山西、甘肃、广东、四川、宁夏等多个省份开始酝酿地方“土十条”细则。',\n",
       "    'id': '1-1-33457115',\n",
       "    'img': '',\n",
       "    'keywords': '土十条,土壤污染',\n",
       "    'level': '1',\n",
       "    'media_name': '经济参考报',\n",
       "    'media_type': '',\n",
       "    'old_level': '1',\n",
       "    'title': '土壤污染触目惊心 多省酝酿“土十条”地方细则',\n",
       "    'url': 'http://news.sina.com.cn/c/nd/2016-11-02/doc-ifxxfysn8500657.shtml'},\n",
       "   {'column': 'gdxw1',\n",
       "    'comment_channel': 'gn',\n",
       "    'createtime': '1478018893',\n",
       "    'ext1': '',\n",
       "    'ext2': 'gn:comos-fxxfysn8499748:0',\n",
       "    'ext3': '10月份热点城市楼市降温',\n",
       "    'ext4': 'gn:comos-fxxfysn8499748:0',\n",
       "    'ext5': '中新网北京11月2日电 （种卿）“金九银十”交界，一线城市和热点二线城市掀起一轮楼市调控浪潮。如今10月已过，效果如何呢？中新网（微信公众号：cns2012）记者综合多家机构发布的最新数据来看，10月份，一线和热点二线城市楼市成交量减少，房价走势趋稳；三、四线城市市场交易状况向好，促“去库存…',\n",
       "    'id': '1-1-33457114',\n",
       "    'img': 'http://n.sinaimg.cn/news/transform/20161102/Cyzm-fxxhmcp4370163.jpg',\n",
       "    'keywords': '楼市,楼市调控',\n",
       "    'level': '1',\n",
       "    'media_name': '中国新闻网',\n",
       "    'media_type': 'tw',\n",
       "    'old_level': '1',\n",
       "    'title': '热点城市楼市调控新政首月:房价趋稳 成交降温',\n",
       "    'url': 'http://news.sina.com.cn/c/nd/2016-11-02/doc-ifxxfysn8499748.shtml'},\n",
       "   {'column': 'gdxw1',\n",
       "    'comment_channel': 'gn',\n",
       "    'createtime': '1478018727',\n",
       "    'ext1': '',\n",
       "    'ext2': 'gn:comos-fxxfysn8499471:0',\n",
       "    'ext3': '专家:社保缴费基数将有所降低',\n",
       "    'ext4': 'gn:comos-fxxfysn8499471:0',\n",
       "    'ext5': '中新网北京11月2日电（记者 李金磊）在社保缴费费率阶段性降低后，社保缴费基数即将迎来调整。国务院近期印发的《关于激发重点群体活力带动城乡居民增收的实施意见》提出，将城镇私营单位在岗职工平均工资纳入缴费基数统计口径范围，形成合理的社会保险和住房公积金缴费基数，避免对低收入群体的制…',\n",
       "    'id': '1-1-33457113',\n",
       "    'img': '',\n",
       "    'keywords': '社保缴费基数',\n",
       "    'level': '1',\n",
       "    'media_name': '中国新闻网',\n",
       "    'media_type': '',\n",
       "    'old_level': '1',\n",
       "    'title': '社保缴费基数将调整 低收入者到手工资有望增加',\n",
       "    'url': 'http://news.sina.com.cn/c/nd/2016-11-02/doc-ifxxfysn8499471.shtml'},\n",
       "   {'column': 'gdxw1',\n",
       "    'comment_channel': 'gn',\n",
       "    'createtime': '1478015038',\n",
       "    'ext1': '',\n",
       "    'ext2': 'gn:comos-fxxfuff7605411:0',\n",
       "    'ext3': '深圳治远光灯:违者看灯一分钟',\n",
       "    'ext4': 'gn:comos-fxxfuff7605411:0',\n",
       "    'ext5': '调查：深圳交警罚乱开远光者看灯一分钟，你如何看？\\n@深圳交警：#深圳交警行动# 今晚整治乱开远光灯，查到就坐这把“绿椅子”好好体验一分钟！',\n",
       "    'id': '1-1-33457096',\n",
       "    'img': '',\n",
       "    'keywords': '深圳,远光灯',\n",
       "    'level': '1',\n",
       "    'media_name': '政府网站',\n",
       "    'media_type': 'tw',\n",
       "    'old_level': '1',\n",
       "    'title': '深圳整治乱开远光灯新招:违者罚看灯一分钟(图)',\n",
       "    'url': 'http://news.sina.com.cn/c/nd/2016-11-01/doc-ifxxfuff7605411.shtml'},\n",
       "   {'column': 'gdxw1',\n",
       "    'comment_channel': '',\n",
       "    'createtime': '1478014798',\n",
       "    'ext1': '',\n",
       "    'ext2': 'gn:comos-fxxfuff7604849:0',\n",
       "    'ext3': '90岁教授绘出国人心电图图谱',\n",
       "    'ext4': 'gn:comos-fxxfuff7604849:0',\n",
       "    'ext5': '原标题：谢振武：“绘”出中国人的心电图图谱\\n红网长沙11月1日（时刻新闻记者 洪雷 通讯员 魏惊宇 刘祥）在没有电脑的时代，他和他的团队完成了5000多例健康人群的心电跟踪；他的三本著作，成为专属于中国人的心电图诊断标准；他年逾八旬从临床一线退下，一生研究填补多项“空白”，两次获得“…',\n",
       "    'id': '1-1-33458467',\n",
       "    'img': '',\n",
       "    'keywords': '心电图,终身成就奖,长沙,儿科',\n",
       "    'level': '0',\n",
       "    'media_name': '红网',\n",
       "    'media_type': '',\n",
       "    'old_level': '2',\n",
       "    'title': '90岁教授制定国人心电图诊断标准 获终身成就奖',\n",
       "    'url': 'http://news.sina.com.cn/o/2016-11-01/doc-ifxxfuff7604849.shtml'},\n",
       "   {'column': 'gdxw1',\n",
       "    'comment_channel': 'gn',\n",
       "    'createtime': '1478014303',\n",
       "    'ext1': '',\n",
       "    'ext2': 'gn:comos-fxxfysn8490560:0',\n",
       "    'ext3': '红十字会法修订草案进行审议',\n",
       "    'ext4': 'gn:comos-fxxfysn8490560:0',\n",
       "    'ext5': '新华社北京11月1日电（记者施雨岑）十二届全国人大常委会第二十四次会议1日下午对红十字会法修订草案二审稿进行了分组审议，如何加大对红十字会的监督力度、重塑其公信力引起了与会人员的热议。\\n红十字会法修订草案二审稿规定，红十字会应当建立健全信息公开制度，规范信息发布，在统一的信息平…',\n",
       "    'id': '1-1-33457084',\n",
       "    'img': '',\n",
       "    'keywords': '红十字会法',\n",
       "    'level': '1',\n",
       "    'media_name': '新华社',\n",
       "    'media_type': '',\n",
       "    'old_level': '1',\n",
       "    'title': '全国人大常委会委员:应加大对红会监督力度',\n",
       "    'url': 'http://news.sina.com.cn/c/nd/2016-11-01/doc-ifxxfysn8490560.shtml'},\n",
       "   {'column': 'gdxw1',\n",
       "    'comment_channel': 'gn',\n",
       "    'createtime': '1478014119',\n",
       "    'ext1': '',\n",
       "    'ext2': 'gn:comos-fxxfysn8490050:0',\n",
       "    'ext3': '王娜娜:最迫切期待就是上大学',\n",
       "    'ext4': 'gn:comos-fxxfysn8490050:0',\n",
       "    'ext5': '2016年11月11日，新京报创刊13周年。13年，是风华正茂的又一次启程。\\n这一年，新京报记录了千万张面孔。他们或是国情大政影响下的“二胎母亲”，凭借一己之力追凶17年的农妇；或是在湄公河行动后坚守边防的缉毒民警，在创新潮头改变世界的创业者，大山深处悬崖村的孩子们；或是大贤村受灾村民，…',\n",
       "    'id': '1-1-33457085',\n",
       "    'img': '',\n",
       "    'keywords': '王娜娜',\n",
       "    'level': '1',\n",
       "    'media_name': '新京报',\n",
       "    'media_type': 'zwsp',\n",
       "    'old_level': '1',\n",
       "    'title': '被顶替上学者王娜娜：最迫切的期待就是上大学',\n",
       "    'url': 'http://news.sina.com.cn/c/nd/2016-11-01/doc-ifxxfysn8490050.shtml'},\n",
       "   {'column': 'gdxw1',\n",
       "    'comment_channel': 'gn',\n",
       "    'createtime': '1478013296',\n",
       "    'ext1': '',\n",
       "    'ext2': 'gn:comos-fxxfysn8488468:0',\n",
       "    'ext3': '11月起中国游客赴阿联酋免签',\n",
       "    'ext4': 'gn:comos-fxxfysn8488468:0',\n",
       "    'ext5': '原标题：本月起中国游客赴阿联酋免签 最长可停留30天\\n今后去阿联酋，免签。据阿联酋官方网站公布，从11月1日起，阿拉伯联合酋长国政府给予中国游客免签待遇正式实施，凡持有效护照的中国公民可入境阿联酋，可免办签证，最长停留30天。该消息一出，受到众多游客和旅行社的关注。旅行社表示，赴阿…',\n",
       "    'id': '1-1-33457077',\n",
       "    'img': '',\n",
       "    'keywords': '阿联酋,中国游客,30天,免签',\n",
       "    'level': '1',\n",
       "    'media_name': '大洋网-广州日报',\n",
       "    'media_type': '',\n",
       "    'old_level': '1',\n",
       "    'title': '11月起中国游客赴阿联酋免签 最长可停留30天',\n",
       "    'url': 'http://news.sina.com.cn/c/2016-11-01/doc-ifxxfysn8488468.shtml'},\n",
       "   {'column': 'gdxw1',\n",
       "    'comment_channel': 'gn',\n",
       "    'createtime': '1478013213',\n",
       "    'ext1': '',\n",
       "    'ext2': 'gn:comos-fxxfuff7601420:0',\n",
       "    'ext3': '耿惠昌任港澳台侨委副主任',\n",
       "    'ext4': 'gn:comos-fxxfuff7601420:0',\n",
       "    'ext5': '新华社北京11月1日电政协第十二届全国委员会常务委员会第十八次会议1日下午在京闭幕。中共中央政治局常委、全国政协主席俞正声主持会议并讲话。\\n这次常委会议的主要任务是学习贯彻中共十八届六中全会精神。中共中央对这次会议高度重视，中共中央政治局常委、中央纪律检查委员会书记王岐山应邀出…',\n",
       "    'id': '1-1-33457076',\n",
       "    'img': '',\n",
       "    'keywords': '耿惠昌',\n",
       "    'level': '1',\n",
       "    'media_name': '新华社',\n",
       "    'media_type': '',\n",
       "    'old_level': '1',\n",
       "    'title': '耿惠昌任全国政协港澳台侨委员会副主任',\n",
       "    'url': 'http://news.sina.com.cn/c/nd/2016-11-01/doc-ifxxfuff7601420.shtml'},\n",
       "   {'column': 'gdxw1',\n",
       "    'comment_channel': 'sh',\n",
       "    'createtime': '1478012980',\n",
       "    'ext1': '',\n",
       "    'ext2': 'gn:comos-fxxfysn8487861:0',\n",
       "    'ext3': '河北一烈士纪念碑迁建7年未果',\n",
       "    'ext4': 'gn:comos-fxxfysn8487861:0',\n",
       "    'ext5': '屹立51年后，位于保定市区东风公园内的“谢臣烈士纪念碑”，面临着一场危机。\\n53年前，牺牲于抗洪前线的保定籍战士谢臣，被国防部追授“爱民模范”，并由民政部认定为“革命烈士”。随后，保定当地政府在其牺牲地和市区内各自兴建了包括纪念碑、纪念馆等在内的纪念设施。而位于保定市区核心位置…',\n",
       "    'id': '1-1-33457101',\n",
       "    'img': '',\n",
       "    'keywords': '烈士纪念碑',\n",
       "    'level': '1',\n",
       "    'media_name': '新京报',\n",
       "    'media_type': '',\n",
       "    'old_level': '1',\n",
       "    'title': '河北保定欲迁建烈士纪念碑为工程让路 烈属反对',\n",
       "    'url': 'http://news.sina.com.cn/s/wh/2016-11-01/doc-ifxxfysn8487861.shtml'},\n",
       "   {'column': 'gdxw1',\n",
       "    'comment_channel': 'gn',\n",
       "    'createtime': '1478012814',\n",
       "    'ext1': '',\n",
       "    'ext2': 'gn:comos-fxxfuff7600606:0',\n",
       "    'ext3': '深圳一42层在建楼盘突发火灾',\n",
       "    'ext4': 'gn:comos-fxxfuff7600606:0',\n",
       "    'ext5': '最新消息：\\n深圳消防铁军：11月1日21时45分，火灾被完全扑灭，现场无人员伤亡。前期处置动态见附图。',\n",
       "    'id': '1-1-33457074',\n",
       "    'img': '',\n",
       "    'keywords': '深圳,火灾',\n",
       "    'level': '1',\n",
       "    'media_name': '新华社',\n",
       "    'media_type': 'tw',\n",
       "    'old_level': '1',\n",
       "    'title': '深圳一42层在建楼盘突发火灾 现场无人员伤亡',\n",
       "    'url': 'http://news.sina.com.cn/c/nd/2016-11-01/doc-ifxxfuff7600606.shtml'},\n",
       "   {'column': 'gdxw1',\n",
       "    'comment_channel': 'gn',\n",
       "    'createtime': '1478008767',\n",
       "    'ext1': '',\n",
       "    'ext2': 'gn:comos-fxxfysn8477856:0',\n",
       "    'ext3': '山西襄汾通报两干部打架事件',\n",
       "    'ext4': 'gn:comos-fxxfysn8477856:0',\n",
       "    'ext5': '原标题：山西襄汾警方还原“两干部打架事件”：纠纷因狗而起\\n中新网临汾11月1日电 （记者 范丽芳 屈丽霞）10月31日，有网友发帖称，山西省临汾市襄汾县环保局原局长高战某一家三口在公园围殴一名七旬老人，并上传两段视频，引发社会关注。1日，当地警方通报案件查处进展，双方因狗追咬而发生纠…',\n",
       "    'id': '1-1-33457040',\n",
       "    'img': '',\n",
       "    'keywords': '环保局,干部打架',\n",
       "    'level': '0',\n",
       "    'media_name': '中国新闻网',\n",
       "    'media_type': '',\n",
       "    'old_level': '2',\n",
       "    'title': '山西襄汾通报两干部打架事件：因一方遭狗咬',\n",
       "    'url': 'http://news.sina.com.cn/c/2016-11-01/doc-ifxxfysn8477856.shtml'},\n",
       "   {'column': 'gdxw1',\n",
       "    'comment_channel': 'gn',\n",
       "    'createtime': '1478007328',\n",
       "    'ext1': '',\n",
       "    'ext2': 'gn:comos-fxxfysn8474332:0',\n",
       "    'ext3': '妻子加入护村队举报丈夫吸毒',\n",
       "    'ext4': 'gn:comos-fxxfysn8474332:0',\n",
       "    'ext5': '电影《湄公河行动》热映，中缅边境的毒品和罪恶又戳了一次人们的神经。\\n无论在电影还是现实中，来自“金三角”的毒品泛滥触目惊心。来自警方的资料显示，西双版纳州因为毗邻 “金三角”，全州有15个乡镇接壤缅、老边境，长达966.3公里的国境线，没有天然屏障，边境一线小道众多，禁毒工作面临异…',\n",
       "    'id': '1-1-33457029',\n",
       "    'img': '',\n",
       "    'keywords': '吸毒,护村队,云南',\n",
       "    'level': '1',\n",
       "    'media_name': '法制晚报',\n",
       "    'media_type': '',\n",
       "    'old_level': '1',\n",
       "    'title': '揭秘云南边境女子护村队:把28个亲友送入戒毒所',\n",
       "    'url': 'http://news.sina.com.cn/c/nd/2016-11-01/doc-ifxxfysn8474332.shtml'},\n",
       "   {'column': 'gdxw1',\n",
       "    'comment_channel': '',\n",
       "    'createtime': '1478005942',\n",
       "    'ext1': '',\n",
       "    'ext2': 'gn:comos-fxxfysn8470509:0',\n",
       "    'ext3': '韩海警向中国渔船机枪射击',\n",
       "    'ext4': 'gn:comos-fxxfysn8470509:0',\n",
       "    'ext5': '原标题：韩媒：韩海警向中国渔船进行机枪射击 首次使用班组武器\\n韩联社11月1日援引韩国中部海洋警备安全本部消息称，当天韩国海警在打击“非法捕捞”的中国渔船时进行机枪射击，在此过程中没有发生人员伤亡或船体破损。这是韩国海警首次针对中国渔船使用班组武器。',\n",
       "    'id': '1-1-33457015',\n",
       "    'img': '',\n",
       "    'keywords': '中国渔船,非法捕捞',\n",
       "    'level': '1',\n",
       "    'media_name': '环球时报',\n",
       "    'media_type': '',\n",
       "    'old_level': '1',\n",
       "    'title': '韩媒：韩海警向中国渔船机枪射击 首用班组武器',\n",
       "    'url': 'http://news.sina.com.cn/o/2016-11-01/doc-ifxxfysn8470509.shtml'},\n",
       "   {'column': 'gdxw1',\n",
       "    'comment_channel': 'gn',\n",
       "    'createtime': '1478005758',\n",
       "    'ext1': '',\n",
       "    'ext2': 'gn:comos-fxxfysn8469986:0',\n",
       "    'ext3': '广东缉拿95名重点涉枪逃犯',\n",
       "    'ext4': 'gn:comos-fxxfysn8469986:0',\n",
       "    'ext5': '[警方悬赏！！！缉拿95名重点涉枪逃犯]广东茂名警方日前发布通缉令，对何桂初等95名重点涉枪逃犯公开通缉！凡在12 月31 日前提供线索协助抓获一名通缉嫌犯，奖励3000元至10000元。同时，保证举报人的人身安全。95名嫌犯详戳↓↓举报电话：110或0668-2283110 。扩散！',\n",
       "    'id': '1-1-33457013',\n",
       "    'img': '',\n",
       "    'keywords': '通缉,涉枪,逃犯',\n",
       "    'level': '1',\n",
       "    'media_name': '新闻晨报',\n",
       "    'media_type': '',\n",
       "    'old_level': '1',\n",
       "    'title': '广东茂名缉拿95名重点涉枪逃犯 可奖3千至1万元',\n",
       "    'url': 'http://news.sina.com.cn/c/nd/2016-11-01/doc-ifxxfysn8469986.shtml'},\n",
       "   {'column': 'gdxw1',\n",
       "    'comment_channel': '',\n",
       "    'createtime': '1478004882',\n",
       "    'ext1': '',\n",
       "    'ext2': 'gn:comos-fxxfuff7580130:0',\n",
       "    'ext3': '中国490万失信者被限制乘飞机',\n",
       "    'ext4': 'gn:comos-fxxfuff7580130:0',\n",
       "    'ext5': '原标题：中国490万“失信者”被限制乘坐飞机\\n中新社北京11月1日电（记者 周锐）中国国家发改委副主任连维良11月1日在京透露，基于失信联合惩戒机制，中国目前已累计限制乘坐飞机490.8万人次，限制乘坐列车165万人次。',\n",
       "    'id': '1-1-33457003',\n",
       "    'img': '',\n",
       "    'keywords': '失信,老赖',\n",
       "    'level': '1',\n",
       "    'media_name': '中国新闻网',\n",
       "    'media_type': '',\n",
       "    'old_level': '1',\n",
       "    'title': '中国490万“失信者”被限制乘坐飞机',\n",
       "    'url': 'http://news.sina.com.cn/o/2016-11-01/doc-ifxxfuff7580130.shtml'},\n",
       "   {'column': 'gdxw1',\n",
       "    'comment_channel': 'gn',\n",
       "    'createtime': '1478004645',\n",
       "    'ext1': '',\n",
       "    'ext2': 'gn:comos-fxxfysn8466934:0',\n",
       "    'ext3': '新疆煤矿暴恐案歼敌细节曝光',\n",
       "    'ext4': 'gn:comos-fxxfysn8466934:0',\n",
       "    'ext5': '[致敬反恐英雄！新疆煤矿暴恐案更多歼敌细节曝光]武警新疆总队某支队支队长王刚讲述新疆煤矿暴恐案歼敌细节：为搜索暴恐分子，战士们不吃不喝不睡。在与暴恐分子战斗时，子弹在头顶乱飞，场面极度危险！PS：希望电视台再播出有关反恐、禁毒等节目时，给战士、民警打上马赛克！',\n",
       "    'id': '1-1-33457000',\n",
       "    'img': '',\n",
       "    'keywords': '暴恐,新疆',\n",
       "    'level': '1',\n",
       "    'media_name': '公安部网站',\n",
       "    'media_type': '',\n",
       "    'old_level': '1',\n",
       "    'title': '新疆煤矿暴恐案歼敌细节:战斗时子弹在头顶乱飞',\n",
       "    'url': 'http://news.sina.com.cn/c/nd/2016-11-01/doc-ifxxfysn8466934.shtml'},\n",
       "   {'column': 'gdxw1',\n",
       "    'comment_channel': 'gn',\n",
       "    'createtime': '1478004440',\n",
       "    'ext1': '',\n",
       "    'ext2': 'gn:comos-fxxfysn8466366:0',\n",
       "    'ext3': '面馆为环卫工提供半价拉面',\n",
       "    'ext4': 'gn:comos-fxxfysn8466366:0',\n",
       "    'ext5': '原标题：西宁一面馆为环卫工提供半价拉面 已达万碗（图）\\n中新网西宁11月1日电 （张海雯）“这么冷的天，能吃上一碗热乎乎的拉面，胃里舒服心里舒坦”，1日，环卫工师傅严世旺吃完碗中的最后一口面，跟记者说到。',\n",
       "    'id': '1-1-33456993',\n",
       "    'img': '',\n",
       "    'keywords': '环卫工人,半价,拉面',\n",
       "    'level': '0',\n",
       "    'media_name': '中国新闻网',\n",
       "    'media_type': '',\n",
       "    'old_level': '2',\n",
       "    'title': '西宁一面馆为环卫工提供半价拉面 已达万碗(图)',\n",
       "    'url': 'http://news.sina.com.cn/c/2016-11-01/doc-ifxxfysn8466366.shtml'},\n",
       "   {'column': 'gdxw1',\n",
       "    'comment_channel': 'gn',\n",
       "    'createtime': '1478001710',\n",
       "    'ext1': '',\n",
       "    'ext2': 'gn:comos-fxxfuff7571435:0',\n",
       "    'ext3': '辽宁选出31名省人大常委委员',\n",
       "    'ext4': 'gn:comos-fxxfuff7571435:0',\n",
       "    'ext5': '上午8时30分，大会在雄壮的国歌声中开幕。\\n大会执行主席李希、曾维、周忠轩、赵国红、佟志武、刘政奎、李文科、蒋斌在主席台前排就座。',\n",
       "    'id': '1-1-33456973',\n",
       "    'img': '',\n",
       "    'keywords': '辽宁,人大委员',\n",
       "    'level': '1',\n",
       "    'media_name': '央视',\n",
       "    'media_type': '',\n",
       "    'old_level': '1',\n",
       "    'title': '辽宁选出31名省人大常委会委员',\n",
       "    'url': 'http://news.sina.com.cn/c/nd/2016-11-01/doc-ifxxfuff7571435.shtml'},\n",
       "   {'column': 'gdxw1',\n",
       "    'comment_channel': 'gn',\n",
       "    'createtime': '1478001551',\n",
       "    'ext1': '',\n",
       "    'ext2': 'gn:comos-fxxfuff7570964:0',\n",
       "    'ext3': '邓亚萍再转型:50亿规模新事业',\n",
       "    'ext4': 'gn:comos-fxxfuff7570964:0',\n",
       "    'ext5': '原标题：邓亚萍50亿规模的新事业\\n今年6月辞去人民日报社副秘书长，人民搜索网络股份公司董事、总经理之后，邓亚萍的最新去向公布。',\n",
       "    'id': '1-1-33456970',\n",
       "    'img': '',\n",
       "    'keywords': '邓亚萍',\n",
       "    'level': '1',\n",
       "    'media_name': '新京报',\n",
       "    'media_type': '',\n",
       "    'old_level': '1',\n",
       "    'title': '邓亚萍第4次重要转型：这次是50亿规模的新事业',\n",
       "    'url': 'http://news.sina.com.cn/c/2016-11-01/doc-ifxxfuff7570964.shtml'},\n",
       "   {'column': 'gdxw1',\n",
       "    'comment_channel': 'gn',\n",
       "    'createtime': '1478001033',\n",
       "    'ext1': '',\n",
       "    'ext2': 'gn:comos-fxxfysn8457404:0',\n",
       "    'ext3': '外媒评菲渔船返黄岩岛:美国败',\n",
       "    'ext4': 'gn:comos-fxxfysn8457404:0',\n",
       "    'ext5': '据多家菲律宾媒体报道，近日，菲渔船去黄岩岛捕鱼时，已经不受中方海警拦截。在10月31日举行的中国外交部例行记者会上，有记者就这 一情况提问，外交部发言人华春莹回应称，因菲律宾总统杜特尔特访华，中菲关系得到全面改善，中方基于中菲友好情谊做出了妥善安排。',\n",
       "    'id': '1-1-33456967',\n",
       "    'img': '',\n",
       "    'keywords': '黄岩岛,南海',\n",
       "    'level': '1',\n",
       "    'media_name': '观察者网',\n",
       "    'media_type': '',\n",
       "    'old_level': '1',\n",
       "    'title': '外媒评菲律宾渔船返黄岩岛：中国成功 美国失败',\n",
       "    'url': 'http://news.sina.com.cn/c/nd/2016-11-01/doc-ifxxfysn8457404.shtml'},\n",
       "   {'column': 'gdxw1',\n",
       "    'comment_channel': '',\n",
       "    'createtime': '1477999468',\n",
       "    'ext1': '',\n",
       "    'ext2': 'gn:comos-fxxfysn8453128:0',\n",
       "    'ext3': '中方回应美前官员涉朝核言论',\n",
       "    'ext4': 'gn:comos-fxxfysn8453128:0',\n",
       "    'ext5': '原标题：中方回应美前官员涉朝核言论：一直坚持对话协商\\n中新社北京11月1日电 （梁奕）中国外交部发言人华春莹1日在例行记者会上表示，在朝鲜半岛问题上实现半岛无核化、维护半岛和平稳定是中国和有关各方的最大共同利益。中方一直坚持通过对话协商妥善解决有关问题。',\n",
       "    'id': '1-1-33456946',\n",
       "    'img': '',\n",
       "    'keywords': '朝核,外交部,中朝边境',\n",
       "    'level': '0',\n",
       "    'media_name': '中国新闻网',\n",
       "    'media_type': '',\n",
       "    'old_level': '2',\n",
       "    'title': '比起朝核中国更担心中朝边境不稳？中方回应',\n",
       "    'url': 'http://news.sina.com.cn/o/2016-11-01/doc-ifxxfysn8453128.shtml'},\n",
       "   {'column': 'gdxw1',\n",
       "    'comment_channel': 'gn',\n",
       "    'createtime': '1477999447',\n",
       "    'ext1': '',\n",
       "    'ext2': 'gn:comos-fxxfuff7565410:0',\n",
       "    'ext3': '中纪委:一个行动胜过一打纲领',\n",
       "    'ext4': 'gn:comos-fxxfuff7565410:0',\n",
       "    'ext5': '原标题：中央纪委常委会召开会议\\n中央纪委常委会1日召开会议，传达学习党的十八届六中全会和习近平总书记重要讲话精神，就贯彻落实全会精神作出部署。会议强调，要全面贯彻党的十八大和十八届三中、四中、五中、六中全会精神，深入贯彻习近平总书记系列重要讲话精神，紧密团结在以习近平同志为…',\n",
       "    'id': '1-1-33456944',\n",
       "    'img': '',\n",
       "    'keywords': '中纪委,腐败',\n",
       "    'level': '0',\n",
       "    'media_name': '中央纪委监察部网站',\n",
       "    'media_type': '',\n",
       "    'old_level': '2',\n",
       "    'title': '中纪委常委会召开会议：一个行动胜过一打纲领',\n",
       "    'url': 'http://news.sina.com.cn/c/2016-11-01/doc-ifxxfuff7565410.shtml'},\n",
       "   {'column': 'gdxw1',\n",
       "    'comment_channel': 'gn',\n",
       "    'createtime': '1477998258',\n",
       "    'ext1': '',\n",
       "    'ext2': 'gn:comos-fxxfysn8449868:0',\n",
       "    'ext3': '蒋卓庆任江苏省纪委书记',\n",
       "    'ext4': 'gn:comos-fxxfysn8449868:0',\n",
       "    'ext5': '中国经济网北京11月1日综合报道 中共中央批准：蒋卓庆同志任中共江苏省委委员、常委和省纪委书记；弘强同志不再担任中共江苏省委常委、委员和省纪委书记职务。\\n据中国经济网地方党政领导人物库资料显示，蒋卓庆，1959年8月生，此前担任上海市副市长；弘强，女，1953年11月生。',\n",
       "    'id': '1-1-33456935',\n",
       "    'img': '',\n",
       "    'keywords': '蒋卓庆,纪委书记,官员任免',\n",
       "    'level': '1',\n",
       "    'media_name': '中国经济网',\n",
       "    'media_type': '',\n",
       "    'old_level': '1',\n",
       "    'title': '蒋卓庆任江苏省纪委书记 弘强不再担任(图)',\n",
       "    'url': 'http://news.sina.com.cn/c/nd/2016-11-01/doc-ifxxfysn8449868.shtml'},\n",
       "   {'column': 'gdxw1',\n",
       "    'comment_channel': 'gn',\n",
       "    'createtime': '1477997716',\n",
       "    'ext1': '',\n",
       "    'ext2': 'gn:comos-fxxfuff7560681:0',\n",
       "    'ext3': '袁家军任浙江省委副书记',\n",
       "    'ext4': 'gn:comos-fxxfuff7560681:0',\n",
       "    'ext5': '日前，中共中央决定：袁家军同志任浙江省委副书记，王辉忠同志不再担任浙江省委副书记、常委职务。\\n袁家军，男，汉族，1962年9月生，吉林通化人。1987年7月参加工作，1992年11月加入中国共产党。航空航天部空间技术研究院（五院）空间飞行器设计专业毕业，研究生学历，工学博士。',\n",
       "    'id': '1-1-33456933',\n",
       "    'img': '',\n",
       "    'keywords': '袁家军,王辉忠,官员任免',\n",
       "    'level': '1',\n",
       "    'media_name': '新华报业网',\n",
       "    'media_type': '',\n",
       "    'old_level': '1',\n",
       "    'title': '袁家军任浙江省委副书记 王辉忠不再担任(图)',\n",
       "    'url': 'http://news.sina.com.cn/c/nd/2016-11-01/doc-ifxxfuff7560681.shtml'},\n",
       "   {'column': 'gdxw1',\n",
       "    'comment_channel': 'gn',\n",
       "    'createtime': '1477997594',\n",
       "    'ext1': '',\n",
       "    'ext2': 'gn:comos-fxxfuff7560337:0',\n",
       "    'ext3': '王岐山再赴政协作报告讲了啥',\n",
       "    'ext4': 'gn:comos-fxxfuff7560337:0',\n",
       "    'ext5': '“明确习近平同志在中国共产党的核心领导地位，这是全党的郑重选择，是广大党员和人民的心愿，具有极其重要的现实意义和深远的历史意义。”\\n10月31日，中纪委书记王岐山应邀出席了全国政协的一场会议。',\n",
       "    'id': '1-1-33456955',\n",
       "    'img': '',\n",
       "    'keywords': '王岐山',\n",
       "    'level': '1',\n",
       "    'media_name': '新京报',\n",
       "    'media_type': '',\n",
       "    'old_level': '1',\n",
       "    'title': '揭秘:王岐山再赴政协作内部报告 这次讲了什么',\n",
       "    'url': 'http://news.sina.com.cn/c/nd/2016-11-01/doc-ifxxfuff7560337.shtml'},\n",
       "   {'column': 'gatxw',\n",
       "    'comment_channel': 'gn',\n",
       "    'createtime': '1477997365',\n",
       "    'ext1': '',\n",
       "    'ext2': 'gn:comos-fxxfysn8447373:0',\n",
       "    'ext3': '面包师傅拍陈水扁散步遭恐吓',\n",
       "    'ext4': 'gn:comos-fxxfysn8447373:0',\n",
       "    'ext5': '中国台湾网11月1日讯 据台湾《联合报》报道，用手机拍摄前台湾地区领导人陈水扁散步视频的面包师傅黄士福今下午两点接受媒体公开访问，他说“我只 是一个小老百姓，请那些有权贵的人，放我一马，还我一个平安宁静的生活”。今天下午面包出炉后，不到20分钟，就被特别来声援的民众全数买完了。',\n",
       "    'id': '1-1-33456928',\n",
       "    'img': '',\n",
       "    'keywords': '台湾,陈水扁',\n",
       "    'level': '0',\n",
       "    'media_name': '中国网',\n",
       "    'media_type': '',\n",
       "    'old_level': '2',\n",
       "    'title': '台面包师傅拍陈水扁散步遭恐吓 哀求权贵放一马',\n",
       "    'url': 'http://news.sina.com.cn/c/gat/2016-11-01/doc-ifxxfysn8447373.shtml'},\n",
       "   {'column': 'gdxw1',\n",
       "    'comment_channel': 'gn',\n",
       "    'createtime': '1477997278',\n",
       "    'ext1': '',\n",
       "    'ext2': 'gn:comos-fxxfuff7559422:0',\n",
       "    'ext3': '重庆永川矿难已致18人遇难',\n",
       "    'ext4': 'gn:comos-fxxfuff7559422:0',\n",
       "    'ext5': '原标题：重庆永川矿难已发现18具遗体\\n中青在线重庆永川11月1日电（中国青年报·中青在线记者田文生）重庆市永川区“10·31”金山沟煤矿瓦斯爆炸事故现场应急处置指挥部今天下午宣告，经过全力搜救，“10·31”重庆市永川区金山沟煤矿瓦斯爆炸事故，已发现18名遇难矿工遗体，还有15名矿工下落不…',\n",
       "    'id': '1-1-33456927',\n",
       "    'img': '',\n",
       "    'keywords': '重庆,煤矿爆炸,遇难者',\n",
       "    'level': '0',\n",
       "    'media_name': '中国青年报',\n",
       "    'media_type': '',\n",
       "    'old_level': '2',\n",
       "    'title': '重庆永川矿难已发现18具遇难者遗体 15人仍失联',\n",
       "    'url': 'http://news.sina.com.cn/c/2016-11-01/doc-ifxxfuff7559422.shtml'},\n",
       "   {'column': 'gdxw1',\n",
       "    'comment_channel': 'gn',\n",
       "    'createtime': '1477996793',\n",
       "    'ext1': '',\n",
       "    'ext2': 'gn:comos-fxxfysn8445649:0',\n",
       "    'ext3': '日抗议中国船只东海开采油气',\n",
       "    'ext4': 'gn:comos-fxxfysn8445649:0',\n",
       "    'ext5': '问：美国前朝核特使格鲁奇近日接受采访称，中国和日美韩在朝鲜半岛问题上存在利益分歧，相比朝核开发活动，中国更担心中朝边境不稳，以与华合作为核心的对朝制裁机制不会奏效。中方对此有何回应？\\n答：在朝鲜半岛问题上，坚持实现半岛无核化、维护半岛和平稳定是中国和有关各方的最大共同利益。…',\n",
       "    'id': '1-1-33456925',\n",
       "    'img': '',\n",
       "    'keywords': '外交部,油气',\n",
       "    'level': '1',\n",
       "    'media_name': '外交部网站',\n",
       "    'media_type': '',\n",
       "    'old_level': '1',\n",
       "    'title': '外交部回应“中方召见德国驻华大使”',\n",
       "    'url': 'http://news.sina.com.cn/c/nd/2016-11-01/doc-ifxxfysn8445649.shtml'},\n",
       "   {'column': 'gdxw1',\n",
       "    'comment_channel': 'gn',\n",
       "    'createtime': '1477996248',\n",
       "    'ext1': '',\n",
       "    'ext2': 'gn:comos-fxxfuff7555886:0',\n",
       "    'ext3': '习近平主持深改组会议',\n",
       "    'ext4': 'gn:comos-fxxfuff7555886:0',\n",
       "    'ext5': '(时政)习近平主持召开中央全面深化改革领导小组第二十九次会议强调\\n全面贯彻党的十八届六中全会精神',\n",
       "    'id': '1-1-33456921',\n",
       "    'img': '',\n",
       "    'keywords': '习近平,深改组',\n",
       "    'level': '1',\n",
       "    'media_name': '新华社',\n",
       "    'media_type': '',\n",
       "    'old_level': '1',\n",
       "    'title': '习近平主持深改组会议',\n",
       "    'url': 'http://news.sina.com.cn/c/nd/2016-11-01/doc-ifxxfuff7555886.shtml'},\n",
       "   {'column': 'gatxw',\n",
       "    'comment_channel': 'gn',\n",
       "    'createtime': '1477995243',\n",
       "    'ext1': '',\n",
       "    'ext2': 'gn:comos-fxxfysn8440420:0',\n",
       "    'ext3': '台湾青年抱怨台湾创业环境差',\n",
       "    'ext4': 'gn:comos-fxxfysn8440420:0',\n",
       "    'ext5': '综合/观察者网 朱敏洁\\n综合媒体11月1日报道，中国国民党主席洪秀柱1日继续在北京的参访行程，上午她参观了北京中关村青创基地，下午将在北京人民大会堂与中共中央总书记习近平会晤。',\n",
       "    'id': '1-1-33456886',\n",
       "    'img': '',\n",
       "    'keywords': '洪秀柱',\n",
       "    'level': '0',\n",
       "    'media_name': '观察者网',\n",
       "    'media_type': '',\n",
       "    'old_level': '2',\n",
       "    'title': '台湾青年抱怨台湾创业环境差 洪秀柱:不谈也罢',\n",
       "    'url': 'http://news.sina.com.cn/c/gat/2016-11-01/doc-ifxxfysn8440420.shtml'},\n",
       "   {'column': 'gdxw1',\n",
       "    'comment_channel': 'gn',\n",
       "    'createtime': '1477993972',\n",
       "    'ext1': '',\n",
       "    'ext2': 'gn:comos-fxxfuff7548376:0',\n",
       "    'ext3': '官方回应发文捐款扶贫事件',\n",
       "    'ext4': 'gn:comos-fxxfuff7548376:0',\n",
       "    'ext5': '[云南永胜县要求干部职工捐扶贫款最低1000最高5000，县长已致歉捐款欲退回]10月28日，网曝云南丽江市永胜县政府发文强制全县企事业单位干部职工捐款扶贫，每人1000至5000元，共集资一千多万元。”正处级5000元/人，副处级4000元/人，正科3000元/人，副科2000元/人，科员1000元/人；事业，工勤和管理…',\n",
       "    'id': '1-1-33456874',\n",
       "    'img': '',\n",
       "    'keywords': '捐款,扶贫,致歉,云南',\n",
       "    'level': '1',\n",
       "    'media_name': '京华时报',\n",
       "    'media_type': '',\n",
       "    'old_level': '1',\n",
       "    'title': '云南永胜要求干部捐扶贫款最低千元 县长致歉',\n",
       "    'url': 'http://news.sina.com.cn/c/nd/2016-11-01/doc-ifxxfuff7548376.shtml'},\n",
       "   {'column': 'gdxw1',\n",
       "    'comment_channel': 'gn',\n",
       "    'createtime': '1477993791',\n",
       "    'ext1': '',\n",
       "    'ext2': 'gn:comos-fxxfuff7547811:0',\n",
       "    'ext3': '王保安秘书韩晓亮违纪被双开',\n",
       "    'ext4': 'gn:comos-fxxfuff7547811:0',\n",
       "    'ext5': '原标题：财政部召开警示教育会通报韩晓亮违纪问题处理决定\\n2016年11月1日 来源：中央纪委驻财政部纪检组',\n",
       "    'id': '1-1-33457030',\n",
       "    'img': '',\n",
       "    'keywords': '财政部,韩晓亮,双开',\n",
       "    'level': '1',\n",
       "    'media_name': '财政部网站',\n",
       "    'media_type': '',\n",
       "    'old_level': '1',\n",
       "    'title': '国家统计局原局长王保安秘书韩晓亮被双开',\n",
       "    'url': 'http://news.sina.com.cn/c/nd/2016-11-01/doc-ifxxfuff7547811.shtml'},\n",
       "   {'column': 'gdxw1',\n",
       "    'comment_channel': 'gn',\n",
       "    'createtime': '1477993141',\n",
       "    'ext1': '',\n",
       "    'ext2': 'gn:comos-fxxfuff7545516:0',\n",
       "    'ext3': '原北京市长王安顺新职务确定',\n",
       "    'ext4': 'gn:comos-fxxfuff7545516:0',\n",
       "    'ext5': '王安顺任国务院发展研究中心党组书记\\n王安顺主要经历：',\n",
       "    'id': '1-1-33456840',\n",
       "    'img': '',\n",
       "    'keywords': '王安顺,国务院发展研究中心,官员任免',\n",
       "    'level': '1',\n",
       "    'media_name': '国务院发展研究中心网站',\n",
       "    'media_type': '',\n",
       "    'old_level': '1',\n",
       "    'title': '王安顺任国务院发展研究中心党组书记',\n",
       "    'url': 'http://news.sina.com.cn/c/nd/2016-11-01/doc-ifxxfuff7545516.shtml'},\n",
       "   {'column': 'gatxw',\n",
       "    'comment_channel': 'gn',\n",
       "    'createtime': '1477992014',\n",
       "    'ext1': '',\n",
       "    'ext2': 'gn:comos-fxxfuff7541446:0',\n",
       "    'ext3': '民进党威胁洪秀柱勿踩红线',\n",
       "    'ext4': 'gn:comos-fxxfuff7541446:0',\n",
       "    'ext5': '原标题：民进党威胁洪秀柱“勿踩红线”国民党“立委”：见不得别人好\\n[环球时报驻台北特约记者 萧师言 环球时报记者 谭福榕] 10月31日上午的南京细雨绵绵，国民党主席洪秀柱一行当天最主要的活动是拜谒中山陵。据台湾《联合报》报道，洪秀柱到达中山陵后，受到一些当地民众欢迎，有人高喊“打倒…',\n",
       "    'id': '1-1-33456824',\n",
       "    'img': '',\n",
       "    'keywords': '民进党,国民党,洪秀柱',\n",
       "    'level': '0',\n",
       "    'media_name': '环球时报',\n",
       "    'media_type': '',\n",
       "    'old_level': '2',\n",
       "    'title': '民进党威胁洪秀柱 国民党反击称见不得别人好',\n",
       "    'url': 'http://news.sina.com.cn/c/2016-11-01/doc-ifxxfuff7541446.shtml'},\n",
       "   {'column': 'gdxw1',\n",
       "    'comment_channel': 'gn',\n",
       "    'createtime': '1477991899',\n",
       "    'ext1': '',\n",
       "    'ext2': 'gn:comos-fxxfuff7541005:0',\n",
       "    'ext3': '重庆瓦斯爆炸煤矿系越界开采',\n",
       "    'ext4': 'gn:comos-fxxfuff7541005:0',\n",
       "    'ext5': '[国家煤监：重庆永川瓦斯爆炸煤矿系越界开采、井下设备有问题]国家煤监局副局长桂来保表示，煤矿在安全生产和管理方面都存在一些违法违规现象，第一，该煤矿为超层违界开采，第二，井下的设施设备不完善，不健全，通风系统不合理，安全管理方面也比较混乱。（央广记者刘湛 吴新伟 陈鹏 ）',\n",
       "    'id': '1-1-33456818',\n",
       "    'img': '',\n",
       "    'keywords': '重庆,煤矿爆炸',\n",
       "    'level': '0',\n",
       "    'media_name': '财经网',\n",
       "    'media_type': '',\n",
       "    'old_level': '2',\n",
       "    'title': '国家煤监：重庆永川瓦斯爆炸煤矿系越界开采',\n",
       "    'url': 'http://news.sina.com.cn/c/nd/2016-11-01/doc-ifxxfuff7541005.shtml'},\n",
       "   {'column': 'gatxw',\n",
       "    'comment_channel': 'gn',\n",
       "    'createtime': '1477991644',\n",
       "    'ext1': '',\n",
       "    'ext2': 'gn:comos-fxxfysn8428281:0',\n",
       "    'ext3': '蔡英文当局再演绎逢日必软',\n",
       "    'ext4': 'gn:comos-fxxfysn8428281:0',\n",
       "    'ext5': '中国台湾网11月1日讯“逢陆必反、逢日必软”，并妄图“联合美日对抗大陆”，这一直被各界指为是蔡英文当局的执政思维与惯用伎俩。昨天（10月 31日），在所谓的首届“台日海洋事务合作对话”举行之际，岛内民进党官员、政客兵分东京与台湾“立法院”，将此“套路”又活灵活现地配合演绎了一把。',\n",
       "    'id': '1-1-33456811',\n",
       "    'img': '',\n",
       "    'keywords': '蔡英文,日本',\n",
       "    'level': '1',\n",
       "    'media_name': '中国新闻网',\n",
       "    'media_type': '',\n",
       "    'old_level': '1',\n",
       "    'title': '蔡英文当局再演逢陆必反逢日必软:对日谈判认怂',\n",
       "    'url': 'http://news.sina.com.cn/c/gat/2016-11-01/doc-ifxxfysn8428281.shtml'},\n",
       "   {'column': 'gdxw1',\n",
       "    'comment_channel': 'gn',\n",
       "    'createtime': '1477990102',\n",
       "    'ext1': '',\n",
       "    'ext2': 'gn:comos-fxxfuff7534973:0',\n",
       "    'ext3': '庆丰包子铺等13家餐饮被约谈',\n",
       "    'ext4': 'gn:comos-fxxfuff7534973:0',\n",
       "    'ext5': '原标题：海底捞等13家餐饮连锁企业被约谈 被查处单位和个人拟纳入黑名单\\n法制网记者 王开广今天下午，北京市餐饮单位控烟约谈会暨创建无烟示范餐厅启动仪式在京召开。',\n",
       "    'id': '1-1-33456773',\n",
       "    'img': '',\n",
       "    'keywords': '庆丰包子铺,约谈,控烟',\n",
       "    'level': '0',\n",
       "    'media_name': '中国网',\n",
       "    'media_type': '',\n",
       "    'old_level': '2',\n",
       "    'title': '北京约谈庆丰包子铺等13家控烟不力餐饮企业',\n",
       "    'url': 'http://news.sina.com.cn/c/nd/2016-11-01/doc-ifxxfuff7534973.shtml'},\n",
       "   {'column': 'gatxw',\n",
       "    'comment_channel': 'gn',\n",
       "    'createtime': '1477988821',\n",
       "    'ext1': '',\n",
       "    'ext2': 'gn:comos-fxxfuff7530461:0',\n",
       "    'ext3': '台媒:习近平下午4时见洪秀柱',\n",
       "    'ext4': 'gn:comos-fxxfuff7530461:0',\n",
       "    'ext5': '原标题：习近平今将会见洪秀柱 台媒：大陆看中洪阵营“愿统”力量\\n据台媒报道，国家主席习近平今日（1日）将会见国民党主席洪秀柱。国民党方面昨天定调，洪秀柱将减少军事、国际空间等敏感话题，锁定较有实际的政策性议题，争取实质成果。国民党希望能强化国共平台作为两岸官方以外的第二轨沟通…',\n",
       "    'id': '1-1-33456754',\n",
       "    'img': '',\n",
       "    'keywords': '台湾,洪秀柱,台媒',\n",
       "    'level': '1',\n",
       "    'media_name': '观察者网',\n",
       "    'media_type': '',\n",
       "    'old_level': '1',\n",
       "    'title': '台媒:习近平下午4时见洪秀柱 预计谈五十分钟',\n",
       "    'url': 'http://news.sina.com.cn/c/gat/2016-11-01/doc-ifxxfuff7530461.shtml'},\n",
       "   {'column': 'gatxw',\n",
       "    'comment_channel': 'gn',\n",
       "    'createtime': '1477988035',\n",
       "    'ext1': '',\n",
       "    'ext2': 'gn:comos-fxxfuff7527906:0',\n",
       "    'ext3': '为何说“习洪会”意义更大？',\n",
       "    'ext4': 'gn:comos-fxxfuff7527906:0',\n",
       "    'ext5': '原标题：为什么说今天“习洪会”的意义不亚于2005年的“胡连会”\\n今天下午，中共中央总书记习近平将与中国国民党主席洪秀柱在北京人民大会堂举行会谈。而在之前，国台办发言人表示，在当前两岸关系形势下，国共两党领导人会面具有重大积极意义。这也从侧面验证了将举行“习洪会”的消息。',\n",
       "    'id': '1-1-33456725',\n",
       "    'img': '',\n",
       "    'keywords': '台湾,国民党',\n",
       "    'level': '0',\n",
       "    'media_name': '解放日报',\n",
       "    'media_type': '',\n",
       "    'old_level': '2',\n",
       "    'title': '解析:为何说“习洪会”意义不亚于“胡连会”',\n",
       "    'url': 'http://news.sina.com.cn/c/gat/2016-11-01/doc-ifxxfuff7527906.shtml'},\n",
       "   {'column': 'gdxw1',\n",
       "    'comment_channel': 'gn',\n",
       "    'createtime': '1477986429',\n",
       "    'ext1': '',\n",
       "    'ext2': 'gn:comos-fxxfysn8410607:0',\n",
       "    'ext3': '村干部未及时发放棉被受处分',\n",
       "    'ext4': 'gn:comos-fxxfysn8410607:0',\n",
       "    'ext5': '新华社杭州11月1日专电（记者王俊禄）记者1日从浙江台州市纪委获悉，当地日前通报了9起“为官不为”典型问题，涉及执法监督、安全生产、拆迁补 偿、民生救助、财务管理等多个方面，不少问题事关人民群众切身利益，其中就有干部因御寒棉被等救济物资发放不及时受到党内警告处分。',\n",
       "    'id': '1-1-33456665',\n",
       "    'img': '',\n",
       "    'keywords': '补偿款,御寒棉被',\n",
       "    'level': '1',\n",
       "    'media_name': '新华网',\n",
       "    'media_type': '',\n",
       "    'old_level': '1',\n",
       "    'title': '浙江台州村干部未及时发放御寒棉被受处分',\n",
       "    'url': 'http://news.sina.com.cn/c/nd/2016-11-01/doc-ifxxfysn8410607.shtml'},\n",
       "   {'column': 'gdxw1',\n",
       "    'comment_channel': 'gn',\n",
       "    'createtime': '1477985424',\n",
       "    'ext1': '',\n",
       "    'ext2': 'gn:comos-fxxfysn8406026:0',\n",
       "    'ext3': '官员猛追有夫之妇被其举报',\n",
       "    'ext4': 'gn:comos-fxxfysn8406026:0',\n",
       "    'ext5': '原标题：河南鹿邑官员疑被情妇举报 组织部门介入调查\\n“向已婚女子疯狂‘求婚’、驻村期间公款和情妇租房……”近日，一则针对河南鹿邑县委宣传部部长袁玉峰的举报信息在网上流传。',\n",
       "    'id': '1-1-33456636',\n",
       "    'img': '',\n",
       "    'keywords': '情妇,官员贪腐,河南',\n",
       "    'level': '1',\n",
       "    'media_name': '北京晨报',\n",
       "    'media_type': '',\n",
       "    'old_level': '1',\n",
       "    'title': '河南鹿邑官员被曝猛追有夫之妇 以跳楼逼其离婚',\n",
       "    'url': 'http://news.sina.com.cn/c/nd/2016-11-01/doc-ifxxfysn8406026.shtml'},\n",
       "   {'column': 'gdxw1',\n",
       "    'comment_channel': 'gn',\n",
       "    'createtime': '1477985340',\n",
       "    'ext1': '',\n",
       "    'ext2': 'gn:comos-fxxfuff7517330:0',\n",
       "    'ext3': '重庆煤矿爆炸事故矿长被控制',\n",
       "    'ext4': 'gn:comos-fxxfuff7517330:0',\n",
       "    'ext5': '新华社重庆11月1日电（记者赵宇飞、周凯）记者获悉，重庆永川煤矿爆炸事故法人代表、矿长已被警方控制。截至11月1日上午10时，矿井北巷主巷道中的有害气体已全部排出，正在对失踪人员进行全面搜救，救援取得初步进展。',\n",
       "    'id': '1-1-33456623',\n",
       "    'img': '',\n",
       "    'keywords': '煤矿爆炸,重庆',\n",
       "    'level': '1',\n",
       "    'media_name': '新华网',\n",
       "    'media_type': '',\n",
       "    'old_level': '1',\n",
       "    'title': '重庆永川煤矿爆炸事故法人代表矿长被控制',\n",
       "    'url': 'http://news.sina.com.cn/c/nd/2016-11-01/doc-ifxxfuff7517330.shtml'},\n",
       "   {'column': 'gdxw1',\n",
       "    'comment_channel': 'gn',\n",
       "    'createtime': '1477985022',\n",
       "    'ext1': '',\n",
       "    'ext2': 'gn:comos-fxxfuff7516348:0',\n",
       "    'ext3': '官方:被非法掠夺文物禁拍卖',\n",
       "    'ext4': 'gn:comos-fxxfuff7516348:0',\n",
       "    'ext5': '新华社北京11月1日电（记者施雨岑） 为加强文物拍卖管理，规范文物拍卖行为，国家文物局近日发布的《文物拍卖管理办法》明确提出，被盗窃、盗掘、走私的文物或者明确属于历史上被非法掠夺的中国文物不得作为拍卖标的。',\n",
       "    'id': '1-1-33456595',\n",
       "    'img': '',\n",
       "    'keywords': '国家文物局,中国文物,拍卖',\n",
       "    'level': '0',\n",
       "    'media_name': '新华社',\n",
       "    'media_type': '',\n",
       "    'old_level': '2',\n",
       "    'title': '国家文物局：被非法掠夺的中国文物不得拍卖',\n",
       "    'url': 'http://news.sina.com.cn/c/nd/2016-11-01/doc-ifxxfuff7516348.shtml'},\n",
       "   {'column': 'gdxw1',\n",
       "    'comment_channel': 'gn',\n",
       "    'createtime': '1477983892',\n",
       "    'ext1': '',\n",
       "    'ext2': 'gn:comos-fxxfuff7512875:0',\n",
       "    'ext3': '官员被处分后称免职丢面子',\n",
       "    'ext4': 'gn:comos-fxxfuff7512875:0',\n",
       "    'ext5': '原标题：干部被处分托人说情：开除党籍可接受 免职丢面子\\n晚上快九点了，我正在办公室琢磨一篇案件审理报告，一阵突如其来的电话铃声打断了我的思路。',\n",
       "    'id': '1-1-33456546',\n",
       "    'img': '',\n",
       "    'keywords': '开除党籍,处分,溧阳市',\n",
       "    'level': '0',\n",
       "    'media_name': '中国新闻网',\n",
       "    'media_type': '',\n",
       "    'old_level': '2',\n",
       "    'title': '官员被处分托人说情:除党籍可接受 免职丢面子',\n",
       "    'url': 'http://news.sina.com.cn/c/nd/2016-11-01/doc-ifxxfuff7512875.shtml'},\n",
       "   {'column': 'gdxw1',\n",
       "    'comment_channel': 'gn',\n",
       "    'createtime': '1477983047',\n",
       "    'ext1': '',\n",
       "    'ext2': 'gn:comos-fxxfysn8398376:0',\n",
       "    'ext3': '旧版一角硬币将逐步退市',\n",
       "    'ext4': 'gn:comos-fxxfysn8398376:0',\n",
       "    'ext5': '中新社北京11月1日电 （记者 王恩博）“陪伴我们多年的旧版1角硬币就要退市了，如果还有存货，请好好对待它们吧！”据多家内地媒体报道，中国人民银行日前发出通知，自11月1日起对第四套人民币1角硬币实行只收不付，这让不少怀旧的中国民众担忧起人民币硬币的“钱途”。',\n",
       "    'id': '1-1-33456518',\n",
       "    'img': '',\n",
       "    'keywords': '银行,纸币',\n",
       "    'level': '0',\n",
       "    'media_name': '中国新闻网',\n",
       "    'media_type': '',\n",
       "    'old_level': '2',\n",
       "    'title': '旧版一角硬币将逐步退市 银行今起只收不付',\n",
       "    'url': 'http://news.sina.com.cn/c/nd/2016-11-01/doc-ifxxfysn8398376.shtml'},\n",
       "   {'column': 'gdxw1',\n",
       "    'comment_channel': '',\n",
       "    'createtime': '1477982990',\n",
       "    'ext1': '',\n",
       "    'ext2': 'gn:comos-fxxfysn8398201:0',\n",
       "    'ext3': '世界经济若无中国将陷入困难',\n",
       "    'ext4': 'gn:comos-fxxfysn8398201:0',\n",
       "    'ext5': '原标题：联合早报：没有中国的世界经济会提早进入衰退\\n中新网11月1日电 新加坡《联合早报》1日刊发耶鲁大学教授、摩根士丹利亚洲前主席史蒂芬？罗奇（Stephen S。 Roach）文章称，中国有战略、能力和决心实现伟大的经济结构转型，成为以服务为基础的消费社会，同时成功地规避巨大的周期性困难。…',\n",
       "    'id': '1-1-33456517',\n",
       "    'img': '',\n",
       "    'keywords': '世界经济,经济体',\n",
       "    'level': '0',\n",
       "    'media_name': '中国新闻网',\n",
       "    'media_type': '',\n",
       "    'old_level': '2',\n",
       "    'title': '外媒：世界经济若无中国增长 将陷入巨大困难',\n",
       "    'url': 'http://news.sina.com.cn/o/2016-11-01/doc-ifxxfysn8398201.shtml'},\n",
       "   {'column': 'gdxw1',\n",
       "    'comment_channel': 'gn',\n",
       "    'createtime': '1477981777',\n",
       "    'ext1': '',\n",
       "    'ext2': 'gn:comos-fxxfysn8394365:0',\n",
       "    'ext3': '学者:养老保险拨款将超5000亿',\n",
       "    'ext4': 'gn:comos-fxxfysn8394365:0',\n",
       "    'ext5': '原标题：社保学者预测：今年养老保险财政拨款将超5000亿\\n由于老龄化日益加速，领取养老金的人越来越多，而养老保险收不抵支情况越加严重，各级财政将加大对基本养老保险基金的补贴力度，据学者测算，今年的财政补贴额预测将超过5000亿元。',\n",
       "    'id': '1-1-33456464',\n",
       "    'img': '',\n",
       "    'keywords': '养老保险,财政拨款,养老金',\n",
       "    'level': '1',\n",
       "    'media_name': '第一财经日报',\n",
       "    'media_type': '',\n",
       "    'old_level': '1',\n",
       "    'title': '社保学者：今年养老保险财政拨款或超5000亿',\n",
       "    'url': 'http://news.sina.com.cn/c/nd/2016-11-01/doc-ifxxfysn8394365.shtml'},\n",
       "   {'column': 'gdxw1',\n",
       "    'comment_channel': 'gn',\n",
       "    'createtime': '1477981334',\n",
       "    'ext1': '',\n",
       "    'ext2': 'gn:comos-fxxfuff7504946:0',\n",
       "    'ext3': '高校操场对外收费引争议',\n",
       "    'ext4': 'gn:comos-fxxfuff7504946:0',\n",
       "    'ext5': '原标题：上海理工大学操场部分时间对外收费，每小时15元引居民不满\\n上海理工大学近日贴出告示规定，原先免费对外开放的田径场要开始对外收费了。收费标准是采用充值卡模式，每张卡110元，进入操场10分钟以上，就要按照每小时15元的标准收费。此项举措引起很多家住附近锻炼者的不满。',\n",
       "    'id': '1-1-33456462',\n",
       "    'img': '',\n",
       "    'keywords': '争议,操场,高校',\n",
       "    'level': '0',\n",
       "    'media_name': '人民政协网',\n",
       "    'media_type': '',\n",
       "    'old_level': '2',\n",
       "    'title': '高校操场部分时间对外收费 每小时15元引争议',\n",
       "    'url': 'http://news.sina.com.cn/c/nd/2016-11-01/doc-ifxxfuff7504946.shtml'},\n",
       "   {'column': 'gdxw1',\n",
       "    'comment_channel': '',\n",
       "    'createtime': '1477979997',\n",
       "    'ext1': '',\n",
       "    'ext2': 'gn:comos-fxxfysn8389212:0',\n",
       "    'ext3': '解振华：已完成全年降碳目标',\n",
       "    'ext4': 'gn:comos-fxxfysn8389212:0',\n",
       "    'ext5': '原标题：解振华：今年前三季已经完成全年节能降碳目标\\n中新网11月1日电 中国气候变化事务特别代表解振华1日表示，今年的目标是全年能耗的强度要下降3.4%、碳强度要下降3.9%，前三个季度能耗的强度已经下降了5.2%，碳强度下降了6%左右，也就是说前三个季度已经完成了全年的节能降碳的目标。',\n",
       "    'id': '1-1-33456441',\n",
       "    'img': '',\n",
       "    'keywords': '节能,解振华',\n",
       "    'level': '0',\n",
       "    'media_name': '中国新闻网',\n",
       "    'media_type': '',\n",
       "    'old_level': '2',\n",
       "    'title': '解振华：我国前9月已完成全年节能降碳目标',\n",
       "    'url': 'http://news.sina.com.cn/o/2016-11-01/doc-ifxxfysn8389212.shtml'},\n",
       "   {'column': 'gdxw1',\n",
       "    'comment_channel': '',\n",
       "    'createtime': '1477979682',\n",
       "    'ext1': '',\n",
       "    'ext2': 'gn:comos-fxxfysn8388388:0',\n",
       "    'ext3': '重庆煤矿瓦斯爆炸因越界开采',\n",
       "    'ext4': 'gn:comos-fxxfysn8388388:0',\n",
       "    'ext5': '原标题：国家煤监局：重庆金山沟煤矿瓦斯爆炸系越界开采所致\\n中新网重庆永川11月1日电 （记者 刘相琳）国家煤矿安全监察局副局长桂来保1日在重庆永川金山沟煤矿瓦斯爆炸救援现场接受记者采访时称，初步调查表明，金山沟煤矿瓦斯爆炸系越界开采所致，煤矿在安全生产、安全管理方面存在违法违规现…',\n",
       "    'id': '1-1-33456434',\n",
       "    'img': '',\n",
       "    'keywords': '重庆,瓦斯爆炸',\n",
       "    'level': '0',\n",
       "    'media_name': '中国新闻网',\n",
       "    'media_type': '',\n",
       "    'old_level': '2',\n",
       "    'title': '国家煤监局：重庆煤矿瓦斯爆炸系越界开采所致',\n",
       "    'url': 'http://news.sina.com.cn/o/2016-11-01/doc-ifxxfysn8388388.shtml'},\n",
       "   {'column': 'gdxw1',\n",
       "    'comment_channel': 'gn',\n",
       "    'createtime': '1477979397',\n",
       "    'ext1': '',\n",
       "    'ext2': 'gn:comos-fxxfysn8387434:0',\n",
       "    'ext3': '焦扬成复旦大学首位女书记',\n",
       "    'ext4': 'gn:comos-fxxfysn8387434:0',\n",
       "    'ext5': '原标题：焦扬踏上新舞台，复旦首任女书记是怎样炼成的？\\n时代周报记者 谢江珊 发自上海',\n",
       "    'id': '1-1-33456431',\n",
       "    'img': '',\n",
       "    'keywords': '焦扬,复旦大学,新闻发言人',\n",
       "    'level': '0',\n",
       "    'media_name': '时代周报',\n",
       "    'media_type': '',\n",
       "    'old_level': '2',\n",
       "    'title': '媒体：复旦大学首任女书记是怎样炼成的',\n",
       "    'url': 'http://news.sina.com.cn/c/nd/2016-11-01/doc-ifxxfysn8387434.shtml'},\n",
       "   {'column': 'gdxw1',\n",
       "    'comment_channel': 'gn',\n",
       "    'createtime': '1477978526',\n",
       "    'ext1': '',\n",
       "    'ext2': 'gn:comos-fxxfuff7496747:0',\n",
       "    'ext3': '郭川团队计划将船开回目的地',\n",
       "    'ext4': 'gn:comos-fxxfuff7496747:0',\n",
       "    'ext5': '[郭川团队：全力实现船长愿望，计划将船开回]10月25日，中国郭川在夏威夷海域失联。目前，在相关海域参与搜救的中国货船仍未见郭川的踪迹。同时，郭川团队也已前往夏威夷，将全力实现郭川的愿望，把三体船“中国·青岛号”开回此次航行目的地上海，最终开回郭船长的故乡青岛。不放弃！（央视记者陆…',\n",
       "    'id': '1-1-33456425',\n",
       "    'img': '',\n",
       "    'keywords': '郭川,船长,目的地',\n",
       "    'level': '1',\n",
       "    'media_name': '央视',\n",
       "    'media_type': '',\n",
       "    'old_level': '1',\n",
       "    'title': '郭川团队计划将船开回航行目的地 实现船长愿望',\n",
       "    'url': 'http://news.sina.com.cn/c/nd/2016-11-01/doc-ifxxfuff7496747.shtml'},\n",
       "   {'column': 'gdxw1',\n",
       "    'comment_channel': 'gn',\n",
       "    'createtime': '1477977635',\n",
       "    'ext1': '',\n",
       "    'ext2': 'gn:comos-fxxfuff7494107:0',\n",
       "    'ext3': '气象专家预计我国将迎冷冬',\n",
       "    'ext4': 'gn:comos-fxxfuff7494107:0',\n",
       "    'ext5': '原标题：气象专家预计中国将迎“冷冬” 雾霾或因此减轻\\n中新社北京11月1日电 （陈溯）连日来，多股冷空气“侵袭”中国，北方多地进入“速冻”模式，今年中国的冬天似乎比往年来得更早了些。气象专家预计，今年冬天中国有很大概率迎来“冷冬”，南方需警惕雨雪冰冻灾害，与此同时，雾霾也有望在…',\n",
       "    'id': '1-1-33456413',\n",
       "    'img': '',\n",
       "    'keywords': '拉尼娜,雾霾',\n",
       "    'level': '0',\n",
       "    'media_name': '中国新闻网',\n",
       "    'media_type': '',\n",
       "    'old_level': '2',\n",
       "    'title': '气象专家预计我国将迎冷冬 雾霾或因此减轻',\n",
       "    'url': 'http://news.sina.com.cn/c/2016-11-01/doc-ifxxfuff7494107.shtml'},\n",
       "   {'column': 'gdxw1',\n",
       "    'comment_channel': 'gn',\n",
       "    'createtime': '1477974522',\n",
       "    'ext1': '',\n",
       "    'ext2': 'gn:comos-fxxfysn8374660:0',\n",
       "    'ext3': '重庆瓦斯爆炸煤矿系越界开采',\n",
       "    'ext4': 'gn:comos-fxxfysn8374660:0',\n",
       "    'ext5': '[国家煤监：重庆永川瓦斯爆炸煤矿系越界开采、井下设备有问题]国家煤监局副局长桂来保表示，煤矿在安全生产和管理方面都存在一些违法违规现象，第一，该煤矿为超层违界开采，第二，井下的设施设备不完善，不健全，通风系统不合理，安全管理方面也比较混乱。（央广记者刘湛 吴新伟 陈鹏）',\n",
       "    'id': '1-1-33456384',\n",
       "    'img': '',\n",
       "    'keywords': '瓦斯爆炸,永川,灾难事故',\n",
       "    'level': '0',\n",
       "    'media_name': '央视',\n",
       "    'media_type': '',\n",
       "    'old_level': '2',\n",
       "    'title': '重庆瓦斯爆炸致15人死亡 煤矿系越界开采',\n",
       "    'url': 'http://news.sina.com.cn/c/nd/2016-11-01/doc-ifxxfysn8374660.shtml'},\n",
       "   {'column': 'gdxw1',\n",
       "    'comment_channel': 'gn',\n",
       "    'createtime': '1477973570',\n",
       "    'ext1': '',\n",
       "    'ext2': 'gn:comos-fxxfysn8372162:0',\n",
       "    'ext3': '黄河或现历史最严重凌汛',\n",
       "    'ext4': 'gn:comos-fxxfysn8372162:0',\n",
       "    'ext5': '原标题：受异常气候影响 黄河严防可能出现“历史最严重凌汛”\\n新华社郑州11月1日电（记者张兴军）记者1日从黄河防汛抗旱总指挥部获悉，受异常气候影响，今年冬季黄河流域可能出现偏低气温，为此2016~2017年度黄河防凌工作将立足于严防“历史最严重凌汛”。目前各地正逐级落实防凌责任人，以筑牢…',\n",
       "    'id': '1-1-33456435',\n",
       "    'img': '',\n",
       "    'keywords': '黄河,凌汛',\n",
       "    'level': '1',\n",
       "    'media_name': '新华网',\n",
       "    'media_type': '',\n",
       "    'old_level': '1',\n",
       "    'title': '黄河今年冬季可能出现“历史最严重凌汛”',\n",
       "    'url': 'http://news.sina.com.cn/c/nd/2016-11-01/doc-ifxxfysn8372162.shtml'},\n",
       "   {'column': 'gdxw1',\n",
       "    'comment_channel': '',\n",
       "    'createtime': '1477971313',\n",
       "    'ext1': '',\n",
       "    'ext2': 'gn:comos-fxxfuff7475955:0',\n",
       "    'ext3': '日:中国东海油气平台增至17座',\n",
       "    'ext4': 'gn:comos-fxxfuff7475955:0',\n",
       "    'ext5': '原标题：日媒：中国在东海油气田又建一钻井平台 已增至17座\\n[环球网报道 记者 余鹏飞]据日本媒体报道，日本政府31日正式确认，中国政府在东海“日中中间线”（中方从未承认）油气田附近新建了一处钻井平台。至此中方在该海域的钻井平台增至17座。',\n",
       "    'id': '1-1-33456297',\n",
       "    'img': '',\n",
       "    'keywords': '油气田,东海',\n",
       "    'level': '0',\n",
       "    'media_name': '环球网',\n",
       "    'media_type': '',\n",
       "    'old_level': '2',\n",
       "    'title': '日媒：中方在东海油气田钻井平台增至17座',\n",
       "    'url': 'http://news.sina.com.cn/o/2016-11-01/doc-ifxxfuff7475955.shtml'},\n",
       "   {'column': 'gatxw',\n",
       "    'comment_channel': 'gn',\n",
       "    'createtime': '1477970425',\n",
       "    'ext1': '',\n",
       "    'ext2': 'gn:comos-fxxfuff7472469:0',\n",
       "    'ext3': '台日或搁置冲之鸟主权不谈',\n",
       "    'ext4': 'gn:comos-fxxfuff7472469:0',\n",
       "    'ext5': '原标题：台日或用捕鱼权换“辐射食品” 淡化鸟屿争议\\n延期几个月之久的首次“台日海洋事务合作对话”10月31日在日本东京大仓饭店登场。不过台湾渔民最关心的冲之鸟议题没有形成共识，仍是“各自主张”，不少渔会代表怒批“没有共识开什么会？”',\n",
       "    'id': '1-1-33456270',\n",
       "    'img': '',\n",
       "    'keywords': '钓鱼岛,冲之鸟',\n",
       "    'level': '1',\n",
       "    'media_name': '环球网',\n",
       "    'media_type': '',\n",
       "    'old_level': '1',\n",
       "    'title': '台日或搁置冲之鸟主权不谈 换取台湾捕鱼权',\n",
       "    'url': 'http://news.sina.com.cn/c/2016-11-01/doc-ifxxfuff7472469.shtml'},\n",
       "   {'column': 'gatxw',\n",
       "    'comment_channel': 'gn',\n",
       "    'createtime': '1477970251',\n",
       "    'ext1': '',\n",
       "    'ext2': 'gn:comos-fxxfuff7471849:0',\n",
       "    'ext3': '面包师拍陈水扁后不再摆摊',\n",
       "    'ext4': 'gn:comos-fxxfuff7471849:0',\n",
       "    'ext5': '原标题：拍摄陈水扁影片后麻烦不断 面包师不再摆摊\\n中国台湾网11月1日讯面包师傅黄士福日前在高雄市立美术馆附近摆摊时，拍摄了陈水扁散步影片，影片流出后，相继遭税务部门及卫生局稽查，并遭留言恐吓，引起警方关切，黄士福不堪承受各界压力，决定不再前往摆摊。',\n",
       "    'id': '1-1-33456250',\n",
       "    'img': '',\n",
       "    'keywords': '陈水扁,恐吓,面包师',\n",
       "    'level': '0',\n",
       "    'media_name': '中国网',\n",
       "    'media_type': '',\n",
       "    'old_level': '2',\n",
       "    'title': '面包师拍陈水扁散步后麻烦不断 决定不再摆摊',\n",
       "    'url': 'http://news.sina.com.cn/c/gat/2016-11-01/doc-ifxxfuff7471849.shtml'},\n",
       "   {'column': 'gatxw',\n",
       "    'comment_channel': '',\n",
       "    'createtime': '1477968277',\n",
       "    'ext1': '',\n",
       "    'ext2': 'gn:comos-fxxfuff7465019:0',\n",
       "    'ext3': '台团体占领民进党党员办公室',\n",
       "    'ext4': 'gn:comos-fxxfuff7465019:0',\n",
       "    'ext5': '原标题：台团体不满被砍掉7天假 占领民进党团总召办公室\\n中新网11月1日电 据台湾《联合报》报道，台湾劳工团体不满民进党“立法院”党团强行通过“一例一休劳基法”初审、确认议事录，1日早约20名青年冲入民进党团总召柯建铭的办公室，要求要和柯建铭辩论，但柯建铭人不在办公室，劳团目前在柯…',\n",
       "    'id': '1-1-33456112',\n",
       "    'img': '',\n",
       "    'keywords': '台湾,柯建铭',\n",
       "    'level': '1',\n",
       "    'media_name': '中国新闻网',\n",
       "    'media_type': '',\n",
       "    'old_level': '1',\n",
       "    'title': '台团体占领民进党党员办公室 不满被砍掉7天假',\n",
       "    'url': 'http://news.sina.com.cn/o/2016-11-01/doc-ifxxfuff7465019.shtml'},\n",
       "   {'column': 'gdxw1',\n",
       "    'comment_channel': 'gn',\n",
       "    'createtime': '1477967483',\n",
       "    'ext1': '',\n",
       "    'ext2': 'gn:comos-fxxfuff7462743:0',\n",
       "    'ext3': '大中小学操场有望向公众开放',\n",
       "    'ext4': 'gn:comos-fxxfuff7462743:0',\n",
       "    'ext5': '原标题：大中小学操场等有望向公众开放\\n法制网北京10月31日讯 记者朱宁宁 美术馆、职工书屋被列入公共文化设施范围；大中小学的操场等设施在不影响正常教学秩序的前提下要向社会有序开放；不管是由学校集体组织还是家长自行带领前往，收费的公共文化设施都必须每个月定期向中小学生开放……',\n",
       "    'id': '1-1-33456097',\n",
       "    'img': '',\n",
       "    'keywords': '大中小学,操场',\n",
       "    'level': '0',\n",
       "    'media_name': '华龙网',\n",
       "    'media_type': '',\n",
       "    'old_level': '2',\n",
       "    'title': '少年宫天价培训班将被禁 大中小学操场有望开放',\n",
       "    'url': 'http://news.sina.com.cn/c/nd/2016-11-01/doc-ifxxfuff7462743.shtml'},\n",
       "   {'column': 'gdxw1',\n",
       "    'comment_channel': 'gn',\n",
       "    'createtime': '1477966486',\n",
       "    'ext1': '',\n",
       "    'ext2': 'gn:comos-fxxfuff7460277:0',\n",
       "    'ext3': '欧盟专员嘲笑中国人遭批',\n",
       "    'ext4': 'gn:comos-fxxfuff7460277:0',\n",
       "    'ext5': '原标题：欧盟专员嘲笑中国人遭批评 我专家：欧洲中心主义思想作怪\\n[环球时报驻德国特约记者 昭东]“这确实有些草率。”据德国《明镜》周刊30日报道，对于德国籍欧盟数字经济专员厄廷格近日在一段视频中涉嫌歧视华人和同性恋者遭批评，厄廷格本人29日如此辩护，但他仍不承认错误。',\n",
       "    'id': '1-1-33456063',\n",
       "    'img': '',\n",
       "    'keywords': '欧盟,中国人',\n",
       "    'level': '0',\n",
       "    'media_name': '环球时报',\n",
       "    'media_type': '',\n",
       "    'old_level': '2',\n",
       "    'title': '欧盟专员嘲笑中国人遭批:欧洲中心主义思想作怪',\n",
       "    'url': 'http://news.sina.com.cn/c/2016-11-01/doc-ifxxfuff7460277.shtml'},\n",
       "   {'column': 'gdxw1',\n",
       "    'comment_channel': 'gn',\n",
       "    'createtime': '1477966482',\n",
       "    'ext1': '',\n",
       "    'ext2': 'gn:comos-fxxfysn8348704:0',\n",
       "    'ext3': '德部长对中国收购说“不”',\n",
       "    'ext4': 'gn:comos-fxxfysn8348704:0',\n",
       "    'ext5': '原标题：德部长对中国收购说“不” 呼吁欧盟对华采取强硬姿态\\n[环球时报驻德国特约记者 青木 环球时报记者 王盼盼]“德国对中国收购说‘不’”——继连续叫停两项中国企业对德国公司的收购后，德国经济部长加布里尔在30日出版的德国《世界报》上撰文，呼吁欧盟对中国采取更强硬的姿态，以保障公…',\n",
       "    'id': '1-1-33456105',\n",
       "    'img': '',\n",
       "    'keywords': '德国,欧盟',\n",
       "    'level': '0',\n",
       "    'media_name': '环球时报',\n",
       "    'media_type': '',\n",
       "    'old_level': '2',\n",
       "    'title': '德部长对中国收购说“不” 呼吁欧盟对华强硬',\n",
       "    'url': 'http://news.sina.com.cn/c/2016-11-01/doc-ifxxfysn8348704.shtml'},\n",
       "   {'column': 'gdxw1',\n",
       "    'comment_channel': 'gn',\n",
       "    'createtime': '1477966480',\n",
       "    'ext1': '',\n",
       "    'ext2': 'gn:comos-fxxfysn8348694:0',\n",
       "    'ext3': '马来西亚总理访华欲买巡逻舰',\n",
       "    'ext4': 'gn:comos-fxxfysn8348694:0',\n",
       "    'ext5': '原标题：马来西亚总理访华欲买巡逻舰 英媒：是对美国的打击\\n[环球时报驻马来西亚特约记者 欧贤安 王逸]马来西亚总理纳吉布今天起对中国进行正式访问，这是他就任马来西亚总理以来第三次访华。访问前夕，马来西亚传出纳吉布此访将从中国购买近海巡逻舰的消息，引起西方媒体关注。“如果属实，这…',\n",
       "    'id': '1-1-33456059',\n",
       "    'img': '',\n",
       "    'keywords': '马来西亚,纳吉布',\n",
       "    'level': '0',\n",
       "    'media_name': '环球时报',\n",
       "    'media_type': '',\n",
       "    'old_level': '2',\n",
       "    'title': '大马总理访华欲买巡逻舰 英媒：对美国是打击',\n",
       "    'url': 'http://news.sina.com.cn/c/2016-11-01/doc-ifxxfysn8348694.shtml'},\n",
       "   {'column': 'gatxw',\n",
       "    'comment_channel': '',\n",
       "    'createtime': '1477965881',\n",
       "    'ext1': '',\n",
       "    'ext2': 'gn:comos-fxxfuff7458530:0',\n",
       "    'ext3': '香港9月旅客量跌幅收窄至3%',\n",
       "    'ext4': 'gn:comos-fxxfuff7458530:0',\n",
       "    'ext5': '原标题：香港旅游业现回稳迹象 9月旅客量跌幅收窄至3%\\n中新网11月1日电 据香港《大公报》报道，访港旅游业再现回稳迹象，香港旅游发展局10月31日公布，九月份访港旅客数量跌幅收窄至3%。香港旅发局称，十月份上半个月访港旅客呈上升趋势。立法会议员姚思荣称，暂未确定旅游业是否真正回稳，但近…',\n",
       "    'id': '1-1-33456024',\n",
       "    'img': '',\n",
       "    'keywords': '香港,旅游业',\n",
       "    'level': '0',\n",
       "    'media_name': '中国新闻网',\n",
       "    'media_type': '',\n",
       "    'old_level': '2',\n",
       "    'title': '香港旅游业现回稳迹象 9月旅客量跌幅收窄至3%',\n",
       "    'url': 'http://news.sina.com.cn/o/2016-11-01/doc-ifxxfuff7458530.shtml'},\n",
       "   {'column': 'gatxw',\n",
       "    'comment_channel': 'gn',\n",
       "    'createtime': '1477965613',\n",
       "    'ext1': '',\n",
       "    'ext2': 'gn:comos-fxxfuff7457419:0',\n",
       "    'ext3': '洪秀柱乘坐经济舱抵达北京.图',\n",
       "    'ext4': 'gn:comos-fxxfuff7457419:0',\n",
       "    'ext5': '原标题：洪秀柱坐经济舱到北京（图）\\n海外网10月31日电 洪秀柱31日上午拜谒中山陵后，下午乘坐中国东方航空赴北京，和飞赴南京时一样，洪秀柱选择了经济舱。',\n",
       "    'id': '1-1-33456020',\n",
       "    'img': '',\n",
       "    'keywords': '洪秀柱,经济舱',\n",
       "    'level': '0',\n",
       "    'media_name': '重庆时报',\n",
       "    'media_type': '',\n",
       "    'old_level': '2',\n",
       "    'title': '洪秀柱坐经济舱抵京 笑称身材小经济舱有大空间',\n",
       "    'url': 'http://news.sina.com.cn/c/gat/2016-11-01/doc-ifxxfuff7457419.shtml'},\n",
       "   {'column': 'gdxw1',\n",
       "    'comment_channel': 'gn',\n",
       "    'createtime': '1477965551',\n",
       "    'ext1': '',\n",
       "    'ext2': 'gn:comos-fxxfysn8345576:0',\n",
       "    'ext3': '重庆矿难:扑来的气流像龙卷风',\n",
       "    'ext4': 'gn:comos-fxxfysn8345576:0',\n",
       "    'ext5': '原标题：重庆金山沟煤矿瓦斯爆炸亲历者：扑来的气流像龙卷风\\n中新社重庆永川11月1日电 题：重庆金山沟煤矿瓦斯爆炸亲历者：扑来的气流像龙卷风',\n",
       "    'id': '1-1-33456017',\n",
       "    'img': '',\n",
       "    'keywords': '重庆,瓦斯爆炸',\n",
       "    'level': '0',\n",
       "    'media_name': '中国新闻网',\n",
       "    'media_type': '',\n",
       "    'old_level': '2',\n",
       "    'title': '重庆煤矿瓦斯爆炸亲历者：扑来的气流像龙卷风',\n",
       "    'url': 'http://news.sina.com.cn/c/2016-11-01/doc-ifxxfysn8345576.shtml'},\n",
       "   {'column': 'gdxw1',\n",
       "    'comment_channel': 'gn',\n",
       "    'createtime': '1477965550',\n",
       "    'ext1': '',\n",
       "    'ext2': 'gn:comos-fxxfuff7457160:0',\n",
       "    'ext3': '非洲留学生中国跑马拉松淘金',\n",
       "    'ext4': 'gn:comos-fxxfuff7457160:0',\n",
       "    'ext5': '原标题：非洲学生中国跑马“淘生活”：月收入可达两万元\\n中新社宁波11月1日电 题：非洲学生中国跑马“淘生活”',\n",
       "    'id': '1-1-33456647',\n",
       "    'img': '',\n",
       "    'keywords': '马拉松,非洲',\n",
       "    'level': '1',\n",
       "    'media_name': '中国新闻网',\n",
       "    'media_type': '',\n",
       "    'old_level': '1',\n",
       "    'title': '非洲留学生中国跑马拉松淘金：月收入可达2万元',\n",
       "    'url': 'http://news.sina.com.cn/c/2016-11-01/doc-ifxxfuff7457160.shtml'},\n",
       "   {'column': 'gdxw1',\n",
       "    'comment_channel': 'gn',\n",
       "    'createtime': '1477965543',\n",
       "    'ext1': '',\n",
       "    'ext2': 'gn:comos-fxxfysn8345556:0',\n",
       "    'ext3': '福建村民跨国追讨肉身坐佛',\n",
       "    'ext4': 'gn:comos-fxxfysn8345556:0',\n",
       "    'ext5': '原标题：福建村民跨国追讨“肉身坐佛” 荷兰藏家将在法庭回应\\n中新社大田11月1日电 题：福建村民跨国追讨“肉身坐佛”11月将迎荷兰藏家首次法庭回应',\n",
       "    'id': '1-1-33456016',\n",
       "    'img': '',\n",
       "    'keywords': '肉身坐佛',\n",
       "    'level': '1',\n",
       "    'media_name': '中国新闻网',\n",
       "    'media_type': '',\n",
       "    'old_level': '1',\n",
       "    'title': '福建村民跨国追讨“肉身坐佛” 荷兰藏家将出庭',\n",
       "    'url': 'http://news.sina.com.cn/c/2016-11-01/doc-ifxxfysn8345556.shtml'},\n",
       "   {'column': 'gatxw',\n",
       "    'comment_channel': 'gn',\n",
       "    'createtime': '1477965394',\n",
       "    'ext1': '',\n",
       "    'ext2': 'gn:comos-fxxfuff7456900:0',\n",
       "    'ext3': '学者:香港个别议员宣“港独”',\n",
       "    'ext4': 'gn:comos-fxxfuff7456900:0',\n",
       "    'ext5': '原标题：学者：香港个别候任议员宣“港独”辱国家违法影响恶劣\\n中新社北京10月31日电 （张晓曦）针对日前香港个别候任议员在立法会就职宣誓时公然宣扬“港独”、并夹带侮辱国家、民族言辞，多位内地学者31日接受中新社记者采访指出，相关行为已严重违反基本法，破坏“一国两制”，若不加以制止…',\n",
       "    'id': '1-1-33456055',\n",
       "    'img': '',\n",
       "    'keywords': '香港,港独',\n",
       "    'level': '0',\n",
       "    'media_name': '中国新闻网',\n",
       "    'media_type': '',\n",
       "    'old_level': '2',\n",
       "    'title': '学者：香港个别议员宣“港独”辱国影响恶劣',\n",
       "    'url': 'http://news.sina.com.cn/c/gat/2016-11-01/doc-ifxxfuff7456900.shtml'},\n",
       "   {'column': 'gdxw1',\n",
       "    'comment_channel': '',\n",
       "    'createtime': '1477963818',\n",
       "    'ext1': '',\n",
       "    'ext2': 'gn:comos-fxxfysn8341236:0',\n",
       "    'ext3': '中方东海油气田作业:日方抗议',\n",
       "    'ext4': 'gn:comos-fxxfysn8341236:0',\n",
       "    'ext5': '原标题：中国开采船在东海油气田附近作业 日方抗议\\n【环球网综合报道】日本共同社11月1日报道称，日本外相岸田文雄在1日举行记者会时称，中国将移动式开采船停泊在东海油气田开采设施附近并进行作业，已向中方提出了抗议。',\n",
       "    'id': '1-1-33455946',\n",
       "    'img': '',\n",
       "    'keywords': '油气田,东海',\n",
       "    'level': '1',\n",
       "    'media_name': '环球网',\n",
       "    'media_type': '',\n",
       "    'old_level': '1',\n",
       "    'title': '中国开采船在东海油气田作业 日方无端抗议',\n",
       "    'url': 'http://news.sina.com.cn/o/2016-11-01/doc-ifxxfysn8341236.shtml'},\n",
       "   {'column': 'gdxw1',\n",
       "    'comment_channel': 'gn',\n",
       "    'createtime': '1477963797',\n",
       "    'ext1': '',\n",
       "    'ext2': 'gn:comos-fxxfysn8341118:0',\n",
       "    'ext3': '重庆煤矿爆炸20人仍下落不明',\n",
       "    'ext4': 'gn:comos-fxxfysn8341118:0',\n",
       "    'ext5': '原标题：#重庆金山沟煤矿爆炸#仍有20人下落不明\\n昨天11：30，重庆市永川金山沟煤矿发生瓦斯爆炸事故，33人被困井下。今天凌晨2：40，当地救援指挥部召开新闻发布会：已发现13人无生命特征，20人下落不明，救援仍在紧张进行。重庆将对全市安全生产进行排查，年产9万吨以下煤矿今年全部停产。（央…',\n",
       "    'id': '1-1-33455969',\n",
       "    'img': '',\n",
       "    'keywords': '重庆,煤矿爆炸',\n",
       "    'level': '1',\n",
       "    'media_name': '央视',\n",
       "    'media_type': '',\n",
       "    'old_level': '1',\n",
       "    'title': '重庆煤矿瓦斯爆炸13人身亡 20人仍下落不明',\n",
       "    'url': 'http://news.sina.com.cn/c/nd/2016-11-01/doc-ifxxfysn8341118.shtml'},\n",
       "   {'column': 'zs-pl',\n",
       "    'comment_channel': 'gn',\n",
       "    'createtime': '1477963216',\n",
       "    'ext1': '',\n",
       "    'ext2': 'gn:comos-fxxfysn8339805:0',\n",
       "    'ext3': '美媒：中方不靠核武确立霸权',\n",
       "    'ext4': 'gn:comos-fxxfysn8339805:0',\n",
       "    'ext5': '原标题：美媒：中方不靠核武确立霸权 与美存关键分歧\\n美国消费者新闻与商业频道网站10月31日文章，原题：美中核政策存在关键差异，尤其是在核威慑方面 中国在许多领域都在赶超美国。但就核武器而言，这两个重量级国家不太可能很快发生交叉，这是两国的战略政策差异使然。',\n",
       "    'id': '1-1-33455893',\n",
       "    'img': '',\n",
       "    'keywords': '霸权',\n",
       "    'level': '0',\n",
       "    'media_name': '环球时报',\n",
       "    'media_type': '',\n",
       "    'old_level': '2',\n",
       "    'title': '美媒：中方不靠核武确立霸权 与美存关键分歧',\n",
       "    'url': 'http://news.sina.com.cn/c/2016-11-01/doc-ifxxfysn8339805.shtml'},\n",
       "   {'column': 'gatxw',\n",
       "    'comment_channel': 'gn',\n",
       "    'createtime': '1477963204',\n",
       "    'ext1': '',\n",
       "    'ext2': 'gn:comos-fxxfuff7451107:0',\n",
       "    'ext3': '香港“辱国”议员拒不悔改',\n",
       "    'ext4': 'gn:comos-fxxfuff7451107:0',\n",
       "    'ext5': '原标题：“辱国”议员拒不悔改惹众怒 被斥只会祸国殃民\\n[环球时报驻香港特约记者 叶蓝]香港“青年新政”议员游蕙祯及梁颂恒在庄严的宣誓仪式上公然鼓吹“港独”及使用污言秽语侮辱国家和民族，引起香港乃至全球华人震怒。但是在社会各界的谴责下，二人仍然拒不道歉。有评论称，“港独”的本质是…',\n",
       "    'id': '1-1-33455892',\n",
       "    'img': '',\n",
       "    'keywords': '港独',\n",
       "    'level': '1',\n",
       "    'media_name': '环球时报',\n",
       "    'media_type': '',\n",
       "    'old_level': '1',\n",
       "    'title': '香港“辱国”议员拒不悔改 被斥只会祸国殃民',\n",
       "    'url': 'http://news.sina.com.cn/c/2016-11-01/doc-ifxxfuff7451107.shtml'},\n",
       "   {'column': 'gatxw',\n",
       "    'comment_channel': 'gn',\n",
       "    'createtime': '1477963200',\n",
       "    'ext1': '',\n",
       "    'ext2': 'gn:comos-fxxfuff7451057:0',\n",
       "    'ext3': '驻港部队演练围剿武装分子',\n",
       "    'ext4': 'gn:comos-fxxfuff7451057:0',\n",
       "    'ext5': '原标题：驻港部队演练围剿武装分子 并非针对“港独”势力\\n[环球网军事11月1日报道]解放军驻港部队10月31日在屯门青山举行“香江卫士——2016D”演习。应邀参观的全国人大代表田北辰认为，此次演习并非针对“港独”势力。',\n",
       "    'id': '1-1-33455890',\n",
       "    'img': '',\n",
       "    'keywords': '驻港部队,港独',\n",
       "    'level': '1',\n",
       "    'media_name': '环球网',\n",
       "    'media_type': '',\n",
       "    'old_level': '1',\n",
       "    'title': '驻港部队演练围剿武装 官员:非针对“港独”',\n",
       "    'url': 'http://news.sina.com.cn/c/2016-11-01/doc-ifxxfuff7451057.shtml'},\n",
       "   {'column': 'gdxw1',\n",
       "    'comment_channel': 'gn',\n",
       "    'createtime': '1477963199',\n",
       "    'ext1': '',\n",
       "    'ext2': 'gn:comos-fxxfuff7451042:0',\n",
       "    'ext3': '习近平与洪秀柱将于下午会面',\n",
       "    'ext4': 'gn:comos-fxxfuff7451042:0',\n",
       "    'ext5': '原标题：港媒：洪秀柱登场引领趋势触动未来 远不只一条“象征性的围巾”\\n[环球网综合报道]中国国民党主席洪秀柱率领中国国民党大陆访问团31日下午抵达北京首都机场，开始在京访问行程。根据国民党方面公布的行程，11月1日下午中共中央总书记习近平将与洪秀柱在北京人民大会堂会面。据香港中评社…',\n",
       "    'id': '1-1-33455888',\n",
       "    'img': '',\n",
       "    'keywords': '两岸关系,国民党,洪秀柱',\n",
       "    'level': '1',\n",
       "    'media_name': '环球网',\n",
       "    'media_type': '',\n",
       "    'old_level': '1',\n",
       "    'title': '国民党方面公布行程：习近平洪秀柱下午会面',\n",
       "    'url': 'http://news.sina.com.cn/c/2016-11-01/doc-ifxxfuff7451042.shtml'},\n",
       "   {'column': 'gdxw1',\n",
       "    'comment_channel': 'gn',\n",
       "    'createtime': '1477962938',\n",
       "    'ext1': '',\n",
       "    'ext2': 'gn:comos-fxxfysn8339208:0',\n",
       "    'ext3': '有人为盗张献忠沉银专学潜水',\n",
       "    'ext4': 'gn:comos-fxxfysn8339208:0',\n",
       "    'ext5': '原标题：“张献忠沉银盗掘案”揭秘：有人为挖宝专门花钱学潜水\\n10月27日，流经四川省眉山市彭山区的岷江江口镇段，因为枯水期水位下降不少，一些地方甚至露出了河床。江上水鸟纷飞，几乎没有船只。“以前可热 闹了，江上到处都是挖宝的船。最多的时候有20多艘船，聚集在挖出大帅金印位置几百米…',\n",
       "    'id': '1-1-33455876',\n",
       "    'img': '',\n",
       "    'keywords': '张献忠,沉银被盗案,潜水',\n",
       "    'level': '0',\n",
       "    'media_name': '正义网',\n",
       "    'media_type': '',\n",
       "    'old_level': '2',\n",
       "    'title': '揭秘张献忠沉银案：有人为挖宝专门花钱学潜水',\n",
       "    'url': 'http://news.sina.com.cn/c/nd/2016-11-01/doc-ifxxfysn8339208.shtml'},\n",
       "   {'column': 'gdxw1',\n",
       "    'comment_channel': 'gn',\n",
       "    'createtime': '1477962293',\n",
       "    'ext1': '',\n",
       "    'ext2': 'gn:comos-fxxfysn8337629:0',\n",
       "    'ext3': '多名落马老虎司法程序近尾声',\n",
       "    'ext4': 'gn:comos-fxxfysn8337629:0',\n",
       "    'ext5': '原标题：最高检公布39条大要案信息 多“虎”司法程序近尾声\\n本报北京10月31日讯（记者蔡长春 见习记者李豪）10月25日，最高人民法院官方网站发布消息称，近日，浙江省、吉林省检察机关分别依法对国家行政学院原副院长何家成涉嫌受贿案以及中共北京市委原副书记吕锡文涉嫌受贿案提起公诉。至此，…',\n",
       "    'id': '1-1-33455872',\n",
       "    'img': '',\n",
       "    'keywords': '吕锡文,最高检',\n",
       "    'level': '0',\n",
       "    'media_name': '国际在线',\n",
       "    'media_type': '',\n",
       "    'old_level': '2',\n",
       "    'title': '最高检公布多条大要案信息 多虎司法程序近尾声',\n",
       "    'url': 'http://news.sina.com.cn/c/nd/2016-11-01/doc-ifxxfysn8337629.shtml'},\n",
       "   {'column': 'gdxw1',\n",
       "    'comment_channel': 'sh',\n",
       "    'createtime': '1477962268',\n",
       "    'ext1': '',\n",
       "    'ext2': 'gn:comos-fxxfuff7448892:0',\n",
       "    'ext3': '山西两名官员打架.警方介入',\n",
       "    'ext4': 'gn:comos-fxxfuff7448892:0',\n",
       "    'ext5': '原标题：网传襄汾县滨河公园打架一事襄汾警方正在调查\\n10月30日，百度贴吧、新浪微博和微信公众号网友转发了一段襄汾滨河公园发生打架的视频。31日，襄汾警方回应：',\n",
       "    'id': '1-1-33455858',\n",
       "    'img': '',\n",
       "    'keywords': '襄汾县,打架',\n",
       "    'level': '1',\n",
       "    'media_name': '政府网站',\n",
       "    'media_type': '',\n",
       "    'old_level': '1',\n",
       "    'title': '山西襄汾两名官员公园打架 警方介入调查',\n",
       "    'url': 'http://news.sina.com.cn/s/wh/2016-11-01/doc-ifxxfuff7448892.shtml'},\n",
       "   {'column': 'gatxw',\n",
       "    'comment_channel': 'gn',\n",
       "    'createtime': '1477961434',\n",
       "    'ext1': '',\n",
       "    'ext2': 'gn:comos-fxxfuff7446835:0',\n",
       "    'ext3': '驻港部队举行三军联合演习',\n",
       "    'ext4': 'gn:comos-fxxfuff7446835:0',\n",
       "    'ext5': '10月31日上午，驻香港部队在香港青山综合训练场组织“香江卫士-2016D”三军联合实兵演习，检验驻军部队整体作战能力和实战化训练成效，彰显了驻军保卫香港特别行政区安全的决心和能力。\\n10点30分，演习正式开始。演习构想一股潜特分子秘密占据香港青山地区，组成“毒蝎”特攻队，伺机实施…',\n",
       "    'id': '1-1-33455977',\n",
       "    'img': '',\n",
       "    'keywords': '驻港部队,联合演习',\n",
       "    'level': '0',\n",
       "    'media_name': '央视',\n",
       "    'media_type': 'zwsp',\n",
       "    'old_level': '2',\n",
       "    'title': '威武霸气 驻港部队组织三军联合演习',\n",
       "    'url': 'http://news.sina.com.cn/c/gat/2016-11-01/doc-ifxxfuff7446835.shtml'},\n",
       "   {'column': 'gdxw1',\n",
       "    'comment_channel': 'gn',\n",
       "    'createtime': '1477959678',\n",
       "    'ext1': '',\n",
       "    'ext2': 'gn:comos-fxxfysn8332404:0',\n",
       "    'ext3': '俄媒：中国还不是坦克强国',\n",
       "    'ext4': 'gn:comos-fxxfysn8332404:0',\n",
       "    'ext5': '原标题：俄媒：中国还不是坦克强国 正掌握美俄上代技术\\n[环球网军事11月1日报道]据俄罗斯《晨报》网站10月31日报道，中国能否成为坦克强国？肯定的答案立即就能给出，但此事不会很快发生。中国目前还在奋起直追，掌握上一代的技术，但实现技术突破的时间可能会缩短。',\n",
       "    'id': '1-1-33455801',\n",
       "    'img': '',\n",
       "    'keywords': '坦克',\n",
       "    'level': '0',\n",
       "    'media_name': '环球网',\n",
       "    'media_type': '',\n",
       "    'old_level': '2',\n",
       "    'title': '俄媒：中国还不是坦克强国 正掌握美俄上代技术',\n",
       "    'url': 'http://news.sina.com.cn/c/2016-11-01/doc-ifxxfysn8332404.shtml'},\n",
       "   {'column': 'gdxw1',\n",
       "    'comment_channel': 'gn',\n",
       "    'createtime': '1477959668',\n",
       "    'ext1': '',\n",
       "    'ext2': 'gn:comos-fxxfuff7443568:0',\n",
       "    'ext3': '港媒：国产航母安装神盾雷达',\n",
       "    'ext4': 'gn:comos-fxxfuff7443568:0',\n",
       "    'ext5': '原标题：港媒：国产航母安装神盾雷达 可能还需2年服役\\n[环球网军事11月1日报道]据香港《经济日报》10月31日报道，继国防部日前证实首艘国产航母主船体已合拢成型后，网友再度披露最新的建造进度。从流出的照片可以看出，001A型航母已安装上“中华神盾”雷达系统的底座构件。',\n",
       "    'id': '1-1-33455938',\n",
       "    'img': '',\n",
       "    'keywords': '航母,雷达',\n",
       "    'level': '0',\n",
       "    'media_name': '环球网',\n",
       "    'media_type': '',\n",
       "    'old_level': '2',\n",
       "    'title': '港媒：国产航母安装神盾雷达 可能还需2年服役',\n",
       "    'url': 'http://news.sina.com.cn/c/2016-11-01/doc-ifxxfuff7443568.shtml'},\n",
       "   {'column': 'gdxw1',\n",
       "    'comment_channel': 'gn',\n",
       "    'createtime': '1477959665',\n",
       "    'ext1': '',\n",
       "    'ext2': 'gn:comos-fxxfysn8332344:0',\n",
       "    'ext3': '俄媒：歼20很快交付中国空军',\n",
       "    'ext4': 'gn:comos-fxxfysn8332344:0',\n",
       "    'ext5': '原标题：俄媒：歼20很快交付中国空军 尚未达到最佳状态\\n[环球网军事11月1日报道]据俄罗斯“卫星”新闻通讯社网站10月31日报道，中国国防大学教授房兵10月31日在第十一届中国国际航空航天博览会开幕前夕向记者表示，歼-20战机还在发展之中，动力、隐形性能等尚未达到最理想状态。',\n",
       "    'id': '1-1-33455798',\n",
       "    'img': '',\n",
       "    'keywords': '歼20',\n",
       "    'level': '0',\n",
       "    'media_name': '环球网',\n",
       "    'media_type': '',\n",
       "    'old_level': '2',\n",
       "    'title': '俄媒：歼20很快交付中国空军 尚未达到最佳状态',\n",
       "    'url': 'http://news.sina.com.cn/c/2016-11-01/doc-ifxxfysn8332344.shtml'},\n",
       "   {'column': 'zs-pl',\n",
       "    'comment_channel': 'gn',\n",
       "    'createtime': '1477959664',\n",
       "    'ext1': '',\n",
       "    'ext2': 'gn:comos-fxxfysn8332339:0',\n",
       "    'ext3': '德媒：中国崛起撼动全球',\n",
       "    'ext4': 'gn:comos-fxxfysn8332339:0',\n",
       "    'ext5': '原标题：德媒：中国崛起撼动全球 应融入西方主导秩序\\n[环球网军事11月1日报道]据德国之声电台网站10月29日报道，慕尼黑安全会议主席伊辛格前不久在《法兰克福汇报》发表客席评论文章，题为《中国雄心改变世界格局》。',\n",
       "    'id': '1-1-33455799',\n",
       "    'img': '',\n",
       "    'keywords': '中国崛起',\n",
       "    'level': '0',\n",
       "    'media_name': '环球时报',\n",
       "    'media_type': '',\n",
       "    'old_level': '2',\n",
       "    'title': '德媒：中国崛起撼动全球 应融入西方主导秩序',\n",
       "    'url': 'http://news.sina.com.cn/c/2016-11-01/doc-ifxxfysn8332339.shtml'},\n",
       "   {'column': 'gatxw',\n",
       "    'comment_channel': 'gn',\n",
       "    'createtime': '1477959595',\n",
       "    'ext1': '',\n",
       "    'ext2': 'gn:comos-fxxfysn8332095:0',\n",
       "    'ext3': '国民党妙解中山陵392级台阶',\n",
       "    'ext4': 'gn:comos-fxxfysn8332095:0',\n",
       "    'ext5': '原标题：国民党官员妙解中山陵392级台阶：“三民主义、九二共识”\\n[环球网综合报道]香港中评社11月1日报道，10月31日上午，以国民党主席洪秀柱为首的国民党访问团一行人爬上中山陵的392层台阶。从博爱坊到祭堂的392级石阶，象征着当时全中国的3亿9千200万人民。 在快要登上祭殿时，记者听到国民…',\n",
       "    'id': '1-1-33455796',\n",
       "    'img': '',\n",
       "    'keywords': '中山陵,国民党',\n",
       "    'level': '0',\n",
       "    'media_name': '环球网',\n",
       "    'media_type': '',\n",
       "    'old_level': '2',\n",
       "    'title': '国民党妙解中山陵392级台阶:三民主义 九二共识',\n",
       "    'url': 'http://news.sina.com.cn/c/2016-11-01/doc-ifxxfysn8332095.shtml'},\n",
       "   {'column': 'gatxw',\n",
       "    'comment_channel': 'gn',\n",
       "    'createtime': '1477959589',\n",
       "    'ext1': '',\n",
       "    'ext2': 'gn:comos-fxxfysn8332074:0',\n",
       "    'ext3': '港媒点赞洪秀柱大陆之行',\n",
       "    'ext4': 'gn:comos-fxxfysn8332074:0',\n",
       "    'ext5': '原标题：港媒关注并点赞洪秀柱大陆行：“拥抱和平，才有发展！”\\n[环球网综合报道]江苏省委书记李强于10月30日晚在南京紫金山庄钟山厅会见中国国民党主席洪秀柱一行，洪秀柱发表感言说，国民党不可灰心丧志，此行为两岸和平而来！香港中评社11月1日发表题为《洪秀柱大陆行启示 拥抱和平才有发展…',\n",
       "    'id': '1-1-33455795',\n",
       "    'img': '',\n",
       "    'keywords': '国民党,洪秀柱',\n",
       "    'level': '0',\n",
       "    'media_name': '环球时报',\n",
       "    'media_type': '',\n",
       "    'old_level': '2',\n",
       "    'title': '港媒点赞洪秀柱大陆行：拥抱和平才有发展',\n",
       "    'url': 'http://news.sina.com.cn/c/2016-11-01/doc-ifxxfysn8332074.shtml'},\n",
       "   {'column': 'gdxw1',\n",
       "    'comment_channel': 'gn',\n",
       "    'createtime': '1477959391',\n",
       "    'ext1': '',\n",
       "    'ext2': 'gn:comos-fxxfuff7443063:0',\n",
       "    'ext3': '专家称再现2008年冰灾几率小',\n",
       "    'ext4': 'gn:comos-fxxfuff7443063:0',\n",
       "    'ext5': '原标题：拉尼娜会让今冬寒潮来得更猛？\\n一夜北风，京津冀晋多地气温降至冰点以下。',\n",
       "    'id': '1-1-33455794',\n",
       "    'img': '',\n",
       "    'keywords': '雨雪冰冻灾害,拉尼娜,降温',\n",
       "    'level': '0',\n",
       "    'media_name': '华龙网',\n",
       "    'media_type': '',\n",
       "    'old_level': '2',\n",
       "    'title': '北方多地骤然降温 专家：再现2008年冰灾几率小',\n",
       "    'url': 'http://news.sina.com.cn/c/nd/2016-11-01/doc-ifxxfuff7443063.shtml'},\n",
       "   {'column': 'gatxw',\n",
       "    'comment_channel': 'gn',\n",
       "    'createtime': '1477956937',\n",
       "    'ext1': '',\n",
       "    'ext2': 'gn:comos-fxxfysn8325831:0',\n",
       "    'ext3': '蔡英文向教师温情喊话遭反呛',\n",
       "    'ext4': 'gn:comos-fxxfysn8325831:0',\n",
       "    'ext5': '原标题：蔡英文向教师温情喊话 教师反呛：太晚了！\\n中国台湾网10月31日讯据台湾《联合报》报道，台湾地区领导人蔡英文31日在颁奖活动中向台下教师喊话，盼老师们体会、支持年金改革。长期关注年 金改革的全台教育产业总工会直言“太晚了”，老师早已被台当局污名化太久，且又再次挑起世代…',\n",
       "    'id': '1-1-33455752',\n",
       "    'img': '',\n",
       "    'keywords': '蔡英文,教师,喊话',\n",
       "    'level': '0',\n",
       "    'media_name': '重庆时报',\n",
       "    'media_type': '',\n",
       "    'old_level': '2',\n",
       "    'title': '蔡英文向教师温情喊话 教师反呛：太晚了',\n",
       "    'url': 'http://news.sina.com.cn/c/gat/2016-11-01/doc-ifxxfysn8325831.shtml'},\n",
       "   {'column': 'gdxw1',\n",
       "    'comment_channel': 'gn',\n",
       "    'createtime': '1477956776',\n",
       "    'ext1': '',\n",
       "    'ext2': 'gn:comos-fxxfysn8325320:0',\n",
       "    'ext3': '军方公开政工部门改革后职能',\n",
       "    'ext4': 'gn:comos-fxxfysn8325320:0',\n",
       "    'ext5': '原标题：中国军方首次公开披露政工部门改革后的职能\\n10月10日，《解放军报》题为《裁军30万的背后》的文章披露，军官、士兵、文职人员的管理职能，已归口军委政治工作部。',\n",
       "    'id': '1-1-33455750',\n",
       "    'img': '',\n",
       "    'keywords': '军改,职能变化',\n",
       "    'level': '1',\n",
       "    'media_name': '中国新闻周刊',\n",
       "    'media_type': '',\n",
       "    'old_level': '1',\n",
       "    'title': '军方首次公开披露政工部门改革后职能',\n",
       "    'url': 'http://news.sina.com.cn/c/nd/2016-11-01/doc-ifxxfysn8325320.shtml'},\n",
       "   {'column': 'gdxw1',\n",
       "    'comment_channel': 'gn',\n",
       "    'createtime': '1477954549',\n",
       "    'ext1': '',\n",
       "    'ext2': 'gn:comos-fxxfysn8320319:0',\n",
       "    'ext3': '韩春雨:望能与质疑者当面讨论',\n",
       "    'ext4': 'gn:comos-fxxfysn8320319:0',\n",
       "    'ext5': '原标题：韩春雨透露：八月一场停电损坏了实验材料，让我很被动\\n时代周报记者 付聪 发自石家庄',\n",
       "    'id': '1-1-33455423',\n",
       "    'img': 'http://n.sinaimg.cn/news/transform/20161101/aMiT-fxxfyev8919589.jpg',\n",
       "    'keywords': '韩春雨',\n",
       "    'level': '1',\n",
       "    'media_name': '时代周报',\n",
       "    'media_type': 'tw',\n",
       "    'old_level': '1',\n",
       "    'title': '韩春雨：8月一场停电损坏实验材料让我很被动',\n",
       "    'url': 'http://news.sina.com.cn/c/nd/2016-11-01/doc-ifxxfysn8320319.shtml'},\n",
       "   {'column': 'gdxw1',\n",
       "    'comment_channel': '',\n",
       "    'createtime': '1477953620',\n",
       "    'ext1': '',\n",
       "    'ext2': 'gn:comos-fxxfuff7430471:0',\n",
       "    'ext3': '红会财产收支拟纳入审计监督',\n",
       "    'ext4': 'gn:comos-fxxfuff7430471:0',\n",
       "    'ext5': '原标题：红十字会财产收支拟纳入审计监督\\n本报北京10月31日电 （中国青年报·中青在线记者 王亦君）《红十字会法（修订草案）》（以下称草案二审稿）今天提请十二届全国人大常委会第二十四次会议进行二审。对比草案一审稿，草案二审稿规定，红十字会财产的收入和使用情况，不仅要接受民政等部门…',\n",
       "    'id': '1-1-33455378',\n",
       "    'img': '',\n",
       "    'keywords': '红十字会,全国人大常委会',\n",
       "    'level': '1',\n",
       "    'media_name': '中国青年报',\n",
       "    'media_type': '',\n",
       "    'old_level': '1',\n",
       "    'title': '红会财产收支拟纳入审计监督 公开捐赠款物去向',\n",
       "    'url': 'http://news.sina.com.cn/o/2016-11-01/doc-ifxxfuff7430471.shtml'},\n",
       "   {'column': 'gatxw',\n",
       "    'comment_channel': 'gn',\n",
       "    'createtime': '1477952403',\n",
       "    'ext1': '',\n",
       "    'ext2': 'gn:comos-fxxfuff7428439:0',\n",
       "    'ext3': '台日会议淡化岛屿之争',\n",
       "    'ext4': 'gn:comos-fxxfuff7428439:0',\n",
       "    'ext5': '原标题：台日会议淡化岛屿之争 国民党“立委”：不要逢日必软\\n[环球时报驻台北特约记者 崔明轩]延期几个月之久的首次“台日海洋事务合作对话”10月31日在日本东京大仓饭店登场。不过台湾渔民最关心的冲之鸟议题没有形成共识，仍是“各自主张”，不少渔会代表怒批“没有共识开什么会？”',\n",
       "    'id': '1-1-33455345',\n",
       "    'img': '',\n",
       "    'keywords': '会议,台日,钓鱼岛',\n",
       "    'level': '0',\n",
       "    'media_name': '环球时报',\n",
       "    'media_type': '',\n",
       "    'old_level': '2',\n",
       "    'title': '台日会议淡化岛屿之争 “立委”：勿逢日必软',\n",
       "    'url': 'http://news.sina.com.cn/c/2016-11-01/doc-ifxxfuff7428439.shtml'},\n",
       "   {'column': 'gdxw1',\n",
       "    'comment_channel': '',\n",
       "    'createtime': '1477949694',\n",
       "    'ext1': '',\n",
       "    'ext2': 'gn:comos-fxxfysn8314312:0',\n",
       "    'ext3': '美媒:中梵或签署主教任命协议',\n",
       "    'ext4': 'gn:comos-fxxfysn8314312:0',\n",
       "    'ext5': '原标题：美媒：中国与梵蒂冈或签署主教任命协议\\n【环球时报特约记者 徐珍珍】美国《华尔街日报》10月30日援引知情人士的消息称，中国和梵蒂冈考虑签署主教任命权协议，双方的谈判代表就中国天主教的主教任命问题达成妥协。',\n",
       "    'id': '1-1-33455086',\n",
       "    'img': '',\n",
       "    'keywords': '中国,梵蒂冈,主教任命',\n",
       "    'level': '1',\n",
       "    'media_name': '环球时报',\n",
       "    'media_type': '',\n",
       "    'old_level': '1',\n",
       "    'title': '美媒：中国与梵蒂冈或签署主教任命协议',\n",
       "    'url': 'http://news.sina.com.cn/o/2016-11-01/doc-ifxxfysn8314312.shtml'},\n",
       "   {'column': 'gdxw1',\n",
       "    'comment_channel': 'gn',\n",
       "    'createtime': '1477943390',\n",
       "    'ext1': '',\n",
       "    'ext2': 'gn:comos-fxxfysn8311017:0',\n",
       "    'ext3': '蔡奇被任命为北京市代市长',\n",
       "    'ext4': 'gn:comos-fxxfysn8311017:0',\n",
       "    'ext5': '原标题：蔡奇被任命为北京市代市长 曾被称“ 网络达人”\\n本报记者 晏耀斌 北京报道',\n",
       "    'id': '1-1-33454725',\n",
       "    'img': '',\n",
       "    'keywords': '蔡奇,北京代市长',\n",
       "    'level': '1',\n",
       "    'media_name': '中国经营报',\n",
       "    'media_type': '',\n",
       "    'old_level': '1',\n",
       "    'title': '蔡奇被任命为北京市代市长 曾被称“网络达人”',\n",
       "    'url': 'http://news.sina.com.cn/c/nd/2016-11-01/doc-ifxxfysn8311017.shtml'},\n",
       "   {'column': 'gdxw1',\n",
       "    'comment_channel': '',\n",
       "    'createtime': '1477941009',\n",
       "    'ext1': '',\n",
       "    'ext2': 'gn:comos-fxxfuff7421020:0',\n",
       "    'ext3': '四川发现新物种:扁颅鼠兔。图',\n",
       "    'ext4': 'gn:comos-fxxfuff7421020:0',\n",
       "    'ext5': '原标题：唐家河自然保护区发现“新物种”：扁颅鼠兔\\n10月31日，成都商报记者从唐家河自然保护区获悉，当地发现了一种名叫“扁颅鼠兔”的新物种，该物种因分布范围狭窄，种群数量稀少，珍稀程度不亚于伊犁鼠兔。',\n",
       "    'id': '1-1-33454672',\n",
       "    'img': '',\n",
       "    'keywords': '自然保护区,四川,新物种,扁颅鼠兔',\n",
       "    'level': '1',\n",
       "    'media_name': '中国网',\n",
       "    'media_type': '',\n",
       "    'old_level': '1',\n",
       "    'title': '四川唐家河自然保护区发现新物种:扁颅鼠兔(图)',\n",
       "    'url': 'http://news.sina.com.cn/o/2016-11-01/doc-ifxxfuff7421020.shtml'},\n",
       "   {'column': 'gdxw1',\n",
       "    'comment_channel': '',\n",
       "    'createtime': '1477940536',\n",
       "    'ext1': '',\n",
       "    'ext2': 'gn:comos-fxxfysn8309626:0',\n",
       "    'ext3': '重庆煤矿瓦斯爆炸15人遇难',\n",
       "    'ext4': 'gn:comos-fxxfysn8309626:0',\n",
       "    'ext5': '原标题：重庆一煤矿瓦斯爆炸 15人遇难18人下落不明\\n10月31日11时33分左右，重庆市永川区金山沟煤矿井下发生瓦斯爆炸事故，造成33人被困。截至发稿时，已发现15具遇难者遗体，仍有18人下落不明。',\n",
       "    'id': '1-1-33454602',\n",
       "    'img': '',\n",
       "    'keywords': '瓦斯爆炸,煤矿,灾难事故',\n",
       "    'level': '0',\n",
       "    'media_name': '华商网-华商报',\n",
       "    'media_type': '',\n",
       "    'old_level': '2',\n",
       "    'title': '重庆煤矿瓦斯爆炸 15人遇难18人下落不明',\n",
       "    'url': 'http://news.sina.com.cn/o/2016-11-01/doc-ifxxfysn8309626.shtml'},\n",
       "   {'column': 'gdxw1',\n",
       "    'comment_channel': '',\n",
       "    'createtime': '1477940401',\n",
       "    'ext1': '',\n",
       "    'ext2': 'gn:comos-fxxfuff7419833:0',\n",
       "    'ext3': '西安网约车征意见:车型要求高',\n",
       "    'ext4': 'gn:comos-fxxfuff7419833:0',\n",
       "    'ext5': '原标题：网约车辆拟要求排量2.0L或1.8T以上\\n&gt;&gt;司机',\n",
       "    'id': '1-1-33454663',\n",
       "    'img': '',\n",
       "    'keywords': '西安,网约车',\n",
       "    'level': '1',\n",
       "    'media_name': '华商网-华商报',\n",
       "    'media_type': '',\n",
       "    'old_level': '1',\n",
       "    'title': '西安网约车新规征求意见：对车型要求严苛',\n",
       "    'url': 'http://news.sina.com.cn/o/2016-11-01/doc-ifxxfuff7419833.shtml'},\n",
       "   {'column': 'gatxw',\n",
       "    'comment_channel': 'gn',\n",
       "    'createtime': '1477938571',\n",
       "    'ext1': '',\n",
       "    'ext2': 'gn:comos-fxxfysn8308227:0',\n",
       "    'ext3': '绿营威胁洪秀柱“勿踩红线”',\n",
       "    'ext4': 'gn:comos-fxxfysn8308227:0',\n",
       "    'ext5': '[环球时报驻台北特约记者 萧师言 环球时报记者 谭福榕]10月31日上午的南京细雨绵绵，国民党主席洪秀柱一行当天最主要的活动是拜谒中山陵。据台湾《联合报》报道，洪秀柱到达中山陵后，受到一些当地民众欢迎，有人高喊“打倒蔡英文”“支持洪秀柱”“两岸一家亲”等口号。谒陵过程中，有上百名大陆民…',\n",
       "    'id': '1-1-33454479',\n",
       "    'img': '',\n",
       "    'keywords': '洪秀柱,民进党',\n",
       "    'level': '1',\n",
       "    'media_name': '环球时报',\n",
       "    'media_type': '',\n",
       "    'old_level': '1',\n",
       "    'title': '民进党威胁洪秀柱“勿踩红线” 不得签任何协议',\n",
       "    'url': 'http://news.sina.com.cn/c/gat/2016-11-01/doc-ifxxfysn8308227.shtml'},\n",
       "   {'column': 'gdxw1',\n",
       "    'comment_channel': 'gn',\n",
       "    'createtime': '1477937039',\n",
       "    'ext1': '',\n",
       "    'ext2': 'gn:comos-fxxfuff7417908:0',\n",
       "    'ext3': '这个中国人口最少的乡仅32人',\n",
       "    'ext4': 'gn:comos-fxxfuff7417908:0',\n",
       "    'ext5': '位于喜马拉雅山脉南麓、中印边境线上的玉麦乡，是中国人口最少的行政乡。从拉萨向南行驶400公里到达山南市隆子县，从县城到乡里还有200公里的泥泞山路。（图片来自新华网）\\n玉麦乡境域面积1976平方公里，下辖一个村，共有9户居民32人。 （图片来自新华网）',\n",
       "    'id': '1-1-33454455',\n",
       "    'img': '',\n",
       "    'keywords': '玉麦乡',\n",
       "    'level': '1',\n",
       "    'media_name': '中国西藏网',\n",
       "    'media_type': '',\n",
       "    'old_level': '1',\n",
       "    'title': '中国人口最少的乡仅32人 为何引来西藏书记调研',\n",
       "    'url': 'http://news.sina.com.cn/c/nd/2016-11-01/doc-ifxxfuff7417908.shtml'}],\n",
       "  'encoding': 'utf-8',\n",
       "  'last_time': '1478019689',\n",
       "  'serverSeconds': '1478758470',\n",
       "  'status': {'code': '0'},\n",
       "  'total': '412775'}}"
      ]
     },
     "execution_count": 49,
     "metadata": {},
     "output_type": "execute_result"
    }
   ],
   "source": [
    "import requests\n",
    "from bs4 import BeautifulSoup\n",
    "import json\n",
    "apiurl = 'http://api.roll.news.sina.com.cn/zt_list?channel=news&cat_1=gnxw&cat_2==gdxw1||=gatxw||=zs-pl||=mtjj&level==1||=2&show_ext=1&show_all=1&show_num=100&tag=1&format=json&page=8&callback=newsloadercallback'\n",
    "res = requests.get(apiurl)\n",
    "jd = json.loads(res.text.lstrip('  newsloadercallback(').rstrip(');'))\n",
    "jd"
   ]
  },
  {
   "cell_type": "code",
   "execution_count": null,
   "metadata": {
    "collapsed": true
   },
   "outputs": [],
   "source": []
  }
 ],
 "metadata": {
  "anaconda-cloud": {},
  "kernelspec": {
   "display_name": "Python [Root]",
   "language": "python",
   "name": "Python [Root]"
  },
  "language_info": {
   "codemirror_mode": {
    "name": "ipython",
    "version": 3
   },
   "file_extension": ".py",
   "mimetype": "text/x-python",
   "name": "python",
   "nbconvert_exporter": "python",
   "pygments_lexer": "ipython3",
   "version": "3.5.2"
  }
 },
 "nbformat": 4,
 "nbformat_minor": 0
}
