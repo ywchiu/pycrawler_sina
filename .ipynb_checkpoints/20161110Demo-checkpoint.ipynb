{
 "cells": [
  {
   "cell_type": "markdown",
   "metadata": {},
   "source": [
    "## 抓取新浪新聞列表"
   ]
  },
  {
   "cell_type": "code",
   "execution_count": 6,
   "metadata": {
    "collapsed": false
   },
   "outputs": [],
   "source": [
    "import requests\n",
    "res = requests.get('http://news.sina.com.cn/china/')\n",
    "res.encoding = 'utf-8'\n",
    "#print(res.text)"
   ]
  },
  {
   "cell_type": "code",
   "execution_count": 34,
   "metadata": {
    "collapsed": false
   },
   "outputs": [],
   "source": [
    "from bs4 import BeautifulSoup\n",
    "soup = BeautifulSoup(res.text, 'html.parser')\n",
    "for news in soup.select('.news-item'):    \n",
    "    if len(news.select('h2')) > 0:\n",
    "        #print(news)    \n",
    "        h2 = news.select('h2')[0].text                \n",
    "        a = news.select('a')[0]['href']        \n",
    "        time = news.select('.time')[0].text\n",
    "        \n",
    "        #print(time, h2, a)\n",
    "        #print('==================================')"
   ]
  },
  {
   "cell_type": "markdown",
   "metadata": {},
   "source": [
    "## 抓取新聞內文"
   ]
  },
  {
   "cell_type": "code",
   "execution_count": 29,
   "metadata": {
    "collapsed": false
   },
   "outputs": [],
   "source": [
    "import requests\n",
    "from bs4 import BeautifulSoup\n",
    "res = requests.get('http://news.sina.com.cn/c/2016-11-10/doc-ifxxsfip4305308.shtml')\n",
    "res.encoding = 'utf-8'\n",
    "#print(res.text)\n",
    "soup = BeautifulSoup(res.text, 'html.parser')"
   ]
  },
  {
   "cell_type": "code",
   "execution_count": 35,
   "metadata": {
    "collapsed": false
   },
   "outputs": [
    {
     "data": {
      "text/plain": [
       "'美媒：中国在打造自己的TPP并一直在扩大'"
      ]
     },
     "execution_count": 35,
     "metadata": {},
     "output_type": "execute_result"
    }
   ],
   "source": [
    "soup.select('#artibodyTitle')[0].text"
   ]
  },
  {
   "cell_type": "code",
   "execution_count": 50,
   "metadata": {
    "collapsed": false
   },
   "outputs": [
    {
     "data": {
      "text/plain": [
       "'2016年11月10日04:14'"
      ]
     },
     "execution_count": 50,
     "metadata": {},
     "output_type": "execute_result"
    }
   ],
   "source": [
    "timesource = soup.select('.time-source')[0].contents[0].strip()\n",
    "timesource"
   ]
  },
  {
   "cell_type": "code",
   "execution_count": 51,
   "metadata": {
    "collapsed": false
   },
   "outputs": [
    {
     "data": {
      "text/plain": [
       "'环球时报'"
      ]
     },
     "execution_count": 51,
     "metadata": {},
     "output_type": "execute_result"
    }
   ],
   "source": [
    "medianame = soup.select('.time-source')[0].contents[1].text.strip()\n",
    "medianame"
   ]
  },
  {
   "cell_type": "markdown",
   "metadata": {},
   "source": [
    "## Python strptime and strftime\n",
    "- https://docs.python.org/3/library/datetime.html#strftime-and-strptime-behavior"
   ]
  },
  {
   "cell_type": "code",
   "execution_count": 61,
   "metadata": {
    "collapsed": false
   },
   "outputs": [
    {
     "data": {
      "text/plain": [
       "datetime.datetime(2016, 11, 10, 9, 50, 14, 572769)"
      ]
     },
     "execution_count": 61,
     "metadata": {},
     "output_type": "execute_result"
    }
   ],
   "source": [
    "from datetime import datetime \n",
    "current_time = datetime.now()\n",
    "current_time"
   ]
  },
  {
   "cell_type": "code",
   "execution_count": 62,
   "metadata": {
    "collapsed": false
   },
   "outputs": [
    {
     "name": "stdout",
     "output_type": "stream",
     "text": [
      "<class 'datetime.datetime'>\n"
     ]
    },
    {
     "data": {
      "text/plain": [
       "datetime.datetime(2016, 11, 10, 4, 14)"
      ]
     },
     "execution_count": 62,
     "metadata": {},
     "output_type": "execute_result"
    }
   ],
   "source": [
    "dt = datetime.strptime('2016年11月10日04:14', '%Y年%m月%d日%H:%M')\n",
    "print(type(dt))\n",
    "dt"
   ]
  },
  {
   "cell_type": "code",
   "execution_count": 64,
   "metadata": {
    "collapsed": false
   },
   "outputs": [
    {
     "name": "stdout",
     "output_type": "stream",
     "text": [
      "-1 day, 18:23:45.427231\n"
     ]
    }
   ],
   "source": [
    "print(dt - current_time)"
   ]
  },
  {
   "cell_type": "code",
   "execution_count": 60,
   "metadata": {
    "collapsed": false
   },
   "outputs": [
    {
     "name": "stdout",
     "output_type": "stream",
     "text": [
      "<class 'str'>\n"
     ]
    },
    {
     "data": {
      "text/plain": [
       "'November 10, 2016'"
      ]
     },
     "execution_count": 60,
     "metadata": {},
     "output_type": "execute_result"
    }
   ],
   "source": [
    "print(type(dt.strftime('%B %d, %Y')))\n",
    "dt.strftime('%B %d, %Y')"
   ]
  },
  {
   "cell_type": "code",
   "execution_count": 66,
   "metadata": {
    "collapsed": false
   },
   "outputs": [
    {
     "data": {
      "text/plain": [
       "datetime.datetime(2016, 11, 11, 9, 52, 29, 648495)"
      ]
     },
     "execution_count": 66,
     "metadata": {},
     "output_type": "execute_result"
    }
   ],
   "source": [
    "from datetime import datetime, timedelta\n",
    "current_time = datetime.now()\n",
    "current_time + timedelta(days = 1)"
   ]
  },
  {
   "cell_type": "code",
   "execution_count": 68,
   "metadata": {
    "collapsed": false
   },
   "outputs": [
    {
     "data": {
      "text/plain": [
       "datetime.datetime(2016, 11, 9, 9, 52, 29, 648495)"
      ]
     },
     "execution_count": 68,
     "metadata": {},
     "output_type": "execute_result"
    }
   ],
   "source": [
    "current_time + timedelta(days = -1)"
   ]
  },
  {
   "cell_type": "code",
   "execution_count": 70,
   "metadata": {
    "collapsed": false
   },
   "outputs": [
    {
     "data": {
      "text/plain": [
       "datetime.datetime(2016, 10, 11, 9, 52, 29, 648495)"
      ]
     },
     "execution_count": 70,
     "metadata": {},
     "output_type": "execute_result"
    }
   ],
   "source": [
    "current_time + timedelta(days = -30)"
   ]
  },
  {
   "cell_type": "code",
   "execution_count": 72,
   "metadata": {
    "collapsed": false
   },
   "outputs": [
    {
     "name": "stdout",
     "output_type": "stream",
     "text": [
      "2016-11-09\n",
      "2016-11-08\n",
      "2016-11-07\n",
      "2016-11-06\n",
      "2016-11-05\n",
      "2016-11-04\n",
      "2016-11-03\n",
      "2016-11-02\n",
      "2016-11-01\n"
     ]
    }
   ],
   "source": [
    "for d in range(1,10):\n",
    "    print((current_time + timedelta(days = -d)).strftime('%Y-%m-%d'))"
   ]
  },
  {
   "cell_type": "code",
   "execution_count": 77,
   "metadata": {
    "collapsed": false
   },
   "outputs": [
    {
     "data": {
      "text/plain": [
       "1234861418.0"
      ]
     },
     "execution_count": 77,
     "metadata": {},
     "output_type": "execute_result"
    }
   ],
   "source": [
    "import time\n",
    "t = (2009, 2, 17, 17, 3, 38, 1, 48, 0)\n",
    "secs = time.mktime( t )\n",
    "secs"
   ]
  },
  {
   "cell_type": "code",
   "execution_count": 79,
   "metadata": {
    "collapsed": false
   },
   "outputs": [
    {
     "data": {
      "text/plain": [
       "1478742749.0"
      ]
     },
     "execution_count": 79,
     "metadata": {},
     "output_type": "execute_result"
    }
   ],
   "source": [
    "time.mktime(current_time.timetuple())"
   ]
  },
  {
   "cell_type": "code",
   "execution_count": 86,
   "metadata": {
    "collapsed": false
   },
   "outputs": [
    {
     "data": {
      "text/plain": [
       "'2016/11/10'"
      ]
     },
     "execution_count": 86,
     "metadata": {},
     "output_type": "execute_result"
    }
   ],
   "source": [
    "dt = datetime.fromtimestamp(1478742749)\n",
    "dt.strftime('%Y/%m/%d')"
   ]
  },
  {
   "cell_type": "markdown",
   "metadata": {},
   "source": [
    "## 取得內文"
   ]
  },
  {
   "cell_type": "code",
   "execution_count": 91,
   "metadata": {
    "collapsed": false
   },
   "outputs": [
    {
     "data": {
      "text/plain": [
       "1"
      ]
     },
     "execution_count": 91,
     "metadata": {},
     "output_type": "execute_result"
    }
   ],
   "source": [
    "a = [1,2,3,4,5]\n",
    "# 取第一筆資料\n",
    "a[0]"
   ]
  },
  {
   "cell_type": "code",
   "execution_count": 92,
   "metadata": {
    "collapsed": false
   },
   "outputs": [
    {
     "data": {
      "text/plain": [
       "5"
      ]
     },
     "execution_count": 92,
     "metadata": {},
     "output_type": "execute_result"
    }
   ],
   "source": [
    "# 取最後一筆資料\n",
    "a[-1]"
   ]
  },
  {
   "cell_type": "code",
   "execution_count": 93,
   "metadata": {
    "collapsed": false
   },
   "outputs": [
    {
     "data": {
      "text/plain": [
       "[2, 3, 4, 5]"
      ]
     },
     "execution_count": 93,
     "metadata": {},
     "output_type": "execute_result"
    }
   ],
   "source": [
    "# 從第二個以後開始取資料\n",
    "a[1:] # for(i = 1; i< len; i ++)"
   ]
  },
  {
   "cell_type": "code",
   "execution_count": 94,
   "metadata": {
    "collapsed": false
   },
   "outputs": [
    {
     "data": {
      "text/plain": [
       "[1, 2, 3, 4]"
      ]
     },
     "execution_count": 94,
     "metadata": {},
     "output_type": "execute_result"
    }
   ],
   "source": [
    "#最後一筆我不要\n",
    "a[:-1] # for(i = 0 ; i< last one, i++)"
   ]
  },
  {
   "cell_type": "code",
   "execution_count": 102,
   "metadata": {
    "collapsed": false,
    "scrolled": true
   },
   "outputs": [
    {
     "data": {
      "text/plain": [
       "'原标题：美媒：中国在打造自己的TPP，并一直在扩大 总统竞选期间，我们不断听到对跨太平洋伙伴关系协定的攻击。对TPP的争论不少都围绕中国展开。支持者把它视为战略性而非经济的条约，认为对遏制中国不可缺少。反对者把它看成威胁，认为可能会鼓励签署国让中国借由“后门”进入。事实上，这两种看法都错了，错的原因也一样。TPP对拖慢中国的经济和政治力量的崛起并无助益，对美国工人的影响也微乎其微。原因在于，TPP对中国并不重要。 正如新加坡投资人吉姆·伊斯坎所分析，TPP谈判的8年间，北京并非无所作为。中国一直在发展与亚太地区国家的经贸关系，构筑牢固的贸易网络。如今，在美国忙于争论TPP利弊之际，中国已与12个TPP签约国中的9个签订自贸协定。美国在说，中国在做。当华盛顿还在争论TPP是遏制中国的最佳方式还是中国经济帝国主义的特洛伊木马时，中国人已建起自己的TPP，并一直在扩大。 中国还在构建与贸易伙伴的新纽带——物理上的连接，包括机场、道路和港口，提供从混凝土、钢铁到融资的一切所需。波士顿咨询集团高级合伙人哈罗尔德·西尔金称，“一带一路”倡议加强中国与别国的关系的同时，美国显然在后退。西尔金警告：“美国应竭力去做成功竞争所必要的事，否则将陷入衰落。如果我们在贸易方面耍大牌，那就给中国人开了方便之门，他们有准备也有意愿和能力填充我们造成的任何空缺。” 此种背景下，不禁让人担心，像中国这样的国家多久会成为主导该地区的经济强国。现在，拉美超过10%的出口流向中国，近18%进口源自中国。一个共产党威权国家让托马斯·杰斐逊的国度领教了什么才是自由贸易，这也算目前混乱时代的奇事。'"
      ]
     },
     "execution_count": 102,
     "metadata": {},
     "output_type": "execute_result"
    }
   ],
   "source": [
    "# 最後一個p 不要\n",
    "article = []\n",
    "for p in soup.select('#artibody p')[:-1]:\n",
    "    article.append(p.text.strip())\n",
    "' '.join(article)"
   ]
  },
  {
   "cell_type": "code",
   "execution_count": 104,
   "metadata": {
    "collapsed": false
   },
   "outputs": [
    {
     "data": {
      "text/plain": [
       "'原标题：美媒：中国在打造自己的TPP，并一直在扩大总统竞选期间，我们不断听到对跨太平洋伙伴关系协定的攻击。对TPP的争论不少都围绕中国展开。支持者把它视为战略性而非经济的条约，认为对遏制中国不可缺少。反对者把它看成威胁，认为可能会鼓励签署国让中国借由“后门”进入。事实上，这两种看法都错了，错的原因也一样。TPP对拖慢中国的经济和政治力量的崛起并无助益，对美国工人的影响也微乎其微。原因在于，TPP对中国并不重要。正如新加坡投资人吉姆·伊斯坎所分析，TPP谈判的8年间，北京并非无所作为。中国一直在发展与亚太地区国家的经贸关系，构筑牢固的贸易网络。如今，在美国忙于争论TPP利弊之际，中国已与12个TPP签约国中的9个签订自贸协定。美国在说，中国在做。当华盛顿还在争论TPP是遏制中国的最佳方式还是中国经济帝国主义的特洛伊木马时，中国人已建起自己的TPP，并一直在扩大。中国还在构建与贸易伙伴的新纽带——物理上的连接，包括机场、道路和港口，提供从混凝土、钢铁到融资的一切所需。波士顿咨询集团高级合伙人哈罗尔德·西尔金称，“一带一路”倡议加强中国与别国的关系的同时，美国显然在后退。西尔金警告：“美国应竭力去做成功竞争所必要的事，否则将陷入衰落。如果我们在贸易方面耍大牌，那就给中国人开了方便之门，他们有准备也有意愿和能力填充我们造成的任何空缺。”此种背景下，不禁让人担心，像中国这样的国家多久会成为主导该地区的经济强国。现在，拉美超过10%的出口流向中国，近18%进口源自中国。一个共产党威权国家让托马斯·杰斐逊的国度领教了什么才是自由贸易，这也算目前混乱时代的奇事。'"
      ]
     },
     "execution_count": 104,
     "metadata": {},
     "output_type": "execute_result"
    }
   ],
   "source": [
    "''.join([p.text.strip() for p in soup.select('#artibody p')[:-1]])"
   ]
  },
  {
   "cell_type": "code",
   "execution_count": 103,
   "metadata": {
    "collapsed": false
   },
   "outputs": [
    {
     "data": {
      "text/plain": [
       "[2, 4, 6, 8, 10]"
      ]
     },
     "execution_count": 103,
     "metadata": {},
     "output_type": "execute_result"
    }
   ],
   "source": [
    "a= [1,2,3,4,5]\n",
    "[ele * 2 for ele in a]"
   ]
  },
  {
   "cell_type": "markdown",
   "metadata": {},
   "source": [
    "## 抽取責任編輯"
   ]
  },
  {
   "cell_type": "code",
   "execution_count": 109,
   "metadata": {
    "collapsed": false
   },
   "outputs": [
    {
     "data": {
      "text/plain": [
       "'隗俊 '"
      ]
     },
     "execution_count": 109,
     "metadata": {},
     "output_type": "execute_result"
    }
   ],
   "source": [
    "editor = soup.select('.article-editor')[0].text.strip('责任编辑：')\n",
    "editor"
   ]
  },
  {
   "cell_type": "markdown",
   "metadata": {},
   "source": [
    "## 抽取評論數"
   ]
  },
  {
   "cell_type": "code",
   "execution_count": 110,
   "metadata": {
    "collapsed": false
   },
   "outputs": [
    {
     "data": {
      "text/plain": [
       "[<span id=\"commentCount1\"></span>]"
      ]
     },
     "execution_count": 110,
     "metadata": {},
     "output_type": "execute_result"
    }
   ],
   "source": [
    "soup.select('#commentCount1')"
   ]
  },
  {
   "cell_type": "code",
   "execution_count": 134,
   "metadata": {
    "collapsed": false
   },
   "outputs": [
    {
     "data": {
      "text/plain": [
       "6"
      ]
     },
     "execution_count": 134,
     "metadata": {},
     "output_type": "execute_result"
    }
   ],
   "source": [
    "import requests\n",
    "import json\n",
    "res = requests.get('http://comment5.news.sina.com.cn/page/info?version=1&format=js&channel=gn&newsid=comos-fxxsfip4305308&group=&compress=0&ie=utf-8&oe=utf-8&page=1&page_size=20')\n",
    "comments = res.text.strip('var data=')\n",
    "json.loads(comments)['result']['count']['total']"
   ]
  },
  {
   "cell_type": "code",
   "execution_count": 125,
   "metadata": {
    "collapsed": true
   },
   "outputs": [],
   "source": [
    "# ifxxsfip4305308\n",
    "newsurl = 'http://news.sina.com.cn/c/2016-11-10/doc-ifxxsfip4305308.shtml'"
   ]
  },
  {
   "cell_type": "code",
   "execution_count": 135,
   "metadata": {
    "collapsed": false
   },
   "outputs": [
    {
     "data": {
      "text/plain": [
       "'fxxsfip4305308'"
      ]
     },
     "execution_count": 135,
     "metadata": {},
     "output_type": "execute_result"
    }
   ],
   "source": [
    "newsurl.split('/')[-1].lstrip('doc-i').rstrip('.shtml')"
   ]
  },
  {
   "cell_type": "markdown",
   "metadata": {},
   "source": [
    "## 正規表達法"
   ]
  },
  {
   "cell_type": "code",
   "execution_count": 137,
   "metadata": {
    "collapsed": false
   },
   "outputs": [
    {
     "data": {
      "text/plain": [
       "True"
      ]
     },
     "execution_count": 137,
     "metadata": {},
     "output_type": "execute_result"
    }
   ],
   "source": [
    "'apple' == 'apple'"
   ]
  },
  {
   "cell_type": "code",
   "execution_count": 139,
   "metadata": {
    "collapsed": false
   },
   "outputs": [
    {
     "name": "stdout",
     "output_type": "stream",
     "text": [
      "<_sre.SRE_Match object; span=(0, 1), match='a'>\n",
      "None\n"
     ]
    }
   ],
   "source": [
    "import re\n",
    "s = 'a'\n",
    "print(re.search('a', s))\n",
    "\n",
    "s = 'b'\n",
    "print(re.search('a', s))"
   ]
  },
  {
   "cell_type": "code",
   "execution_count": 140,
   "metadata": {
    "collapsed": false
   },
   "outputs": [
    {
     "name": "stdout",
     "output_type": "stream",
     "text": [
      "<_sre.SRE_Match object; span=(0, 1), match='y'>\n"
     ]
    }
   ],
   "source": [
    "# [abc] => a or b or c\n",
    "s = 'y'\n",
    "print(re.search('[abcdefghijklmnopqrstuvwxyz]', s))"
   ]
  },
  {
   "cell_type": "code",
   "execution_count": 141,
   "metadata": {
    "collapsed": false
   },
   "outputs": [
    {
     "name": "stdout",
     "output_type": "stream",
     "text": [
      "<_sre.SRE_Match object; span=(0, 1), match='y'>\n"
     ]
    }
   ],
   "source": [
    "# [abcdefghijklmnopqrstuvwxyz] = [a-z]\n",
    "print(re.search('[a-z]', s))"
   ]
  },
  {
   "cell_type": "code",
   "execution_count": 144,
   "metadata": {
    "collapsed": false
   },
   "outputs": [
    {
     "name": "stdout",
     "output_type": "stream",
     "text": [
      "<_sre.SRE_Match object; span=(0, 1), match='5'>\n",
      "<_sre.SRE_Match object; span=(0, 1), match='5'>\n",
      "<_sre.SRE_Match object; span=(0, 1), match='5'>\n"
     ]
    }
   ],
   "source": [
    "n = '5'\n",
    "print(re.search('[0123456789]', n))\n",
    "\n",
    "# [0123456789] => [0-9]\n",
    "print(re.search('[0-9]', n))\n",
    "# [0-9] = \\d\n",
    "print(re.search('\\d', n))"
   ]
  },
  {
   "cell_type": "code",
   "execution_count": 148,
   "metadata": {
    "collapsed": false
   },
   "outputs": [
    {
     "name": "stdout",
     "output_type": "stream",
     "text": [
      "<_sre.SRE_Match object; span=(0, 1), match='y'>\n",
      "None\n",
      "<_sre.SRE_Match object; span=(0, 1), match='Y'>\n",
      "<_sre.SRE_Match object; span=(0, 1), match='Y'>\n",
      "<_sre.SRE_Match object; span=(0, 1), match='Y'>\n"
     ]
    }
   ],
   "source": [
    "s = 'y'\n",
    "print(re.search('[a-z]', s))\n",
    "\n",
    "s = 'Y'\n",
    "print(re.search('[a-z]', s))\n",
    "print(re.search('[a-zA-Z]', s))\n",
    "print(re.search('[a-zA-Z0-9]', s))\n",
    "\n",
    "# [a-zA-Z0-9] => \\w\n",
    "print(re.search('\\w', s))"
   ]
  },
  {
   "cell_type": "code",
   "execution_count": 153,
   "metadata": {
    "collapsed": false
   },
   "outputs": [
    {
     "name": "stdout",
     "output_type": "stream",
     "text": [
      "<_sre.SRE_Match object; span=(0, 1), match='a'>\n",
      "<_sre.SRE_Match object; span=(0, 5), match='apple'>\n",
      "<_sre.SRE_Match object; span=(0, 5), match='apple'>\n",
      "<_sre.SRE_Match object; span=(0, 5), match='apple'>\n",
      "<_sre.SRE_Match object; span=(0, 5), match='apple'>\n",
      "<_sre.SRE_Match object; span=(0, 5), match='apple'>\n",
      "<_sre.SRE_Match object; span=(0, 5), match='apple'>\n"
     ]
    }
   ],
   "source": [
    "s = 'apple'\n",
    "print(re.search('\\w', s))\n",
    "\n",
    "# match 5 alphabet => {}\n",
    "print(re.search('\\w{5}', s))\n",
    "\n",
    "\n",
    "# {min ,max }\n",
    "# e.g. match 3 ~ 6 \n",
    "print(re.search('\\w{3,6}', s))\n",
    "\n",
    "# e.g. match 1 ~  \n",
    "print(re.search('\\w{1,}', s))\n",
    "# {1,} => +\n",
    "print(re.search('\\w+', s))\n",
    "\n",
    "\n",
    "# e.g. match 0 ~  \n",
    "print(re.search('\\w{0,}', s))\n",
    "# {0,} => *\n",
    "print(re.search('\\w*', s))"
   ]
  },
  {
   "cell_type": "code",
   "execution_count": 155,
   "metadata": {
    "collapsed": false
   },
   "outputs": [
    {
     "name": "stdout",
     "output_type": "stream",
     "text": [
      "<_sre.SRE_Match object; span=(0, 10), match='0912345678'>\n",
      "None\n",
      "None\n"
     ]
    }
   ],
   "source": [
    "phones = ['0912345678','0912-345-678','0912-345678']\n",
    "for phone in phones:\n",
    "    print(re.match('09\\d{8}' , phone))"
   ]
  },
  {
   "cell_type": "code",
   "execution_count": 156,
   "metadata": {
    "collapsed": false
   },
   "outputs": [
    {
     "name": "stdout",
     "output_type": "stream",
     "text": [
      "<_sre.SRE_Match object; span=(0, 10), match='0912345678'>\n",
      "<_sre.SRE_Match object; span=(0, 12), match='0912-345-678'>\n",
      "<_sre.SRE_Match object; span=(0, 11), match='0912-345678'>\n"
     ]
    }
   ],
   "source": [
    "phones = ['0912345678','0912-345-678','0912-345678']\n",
    "for phone in phones:\n",
    "    print(re.match('09\\d{2}-{0,1}\\d{3}-{0,1}\\d{3}' , phone))"
   ]
  },
  {
   "cell_type": "code",
   "execution_count": 157,
   "metadata": {
    "collapsed": false
   },
   "outputs": [
    {
     "name": "stdout",
     "output_type": "stream",
     "text": [
      "<_sre.SRE_Match object; span=(0, 10), match='0912345678'>\n",
      "<_sre.SRE_Match object; span=(0, 12), match='0912-345-678'>\n",
      "<_sre.SRE_Match object; span=(0, 11), match='0912-345678'>\n"
     ]
    }
   ],
   "source": [
    "# {0,1} => ?\n",
    "for phone in phones:\n",
    "    print(re.match('09\\d{2}-?\\d{3}-?\\d{3}' , phone))"
   ]
  },
  {
   "cell_type": "code",
   "execution_count": 160,
   "metadata": {
    "collapsed": false
   },
   "outputs": [],
   "source": [
    "p = '09123456780929038901830981098310923801230'\n",
    "# ^ => match begin, $ => match end\n",
    "re.match('^09\\d{2}-?\\d{3}-?\\d{3}$' , p)"
   ]
  },
  {
   "cell_type": "code",
   "execution_count": 164,
   "metadata": {
    "collapsed": false
   },
   "outputs": [
    {
     "name": "stdout",
     "output_type": "stream",
     "text": [
      "doc-ifxxsfip4305308.shtml\n",
      "fxxsfip4305308\n"
     ]
    }
   ],
   "source": [
    "# fxxsfip4305308\n",
    "newsurl = 'http://news.sina.com.cn/c/2016-11-10/doc-ifxxsfip4305308.shtml'\n",
    "m = re.search('doc-i(\\w+).shtml', newsurl)\n",
    "# group(0) => match all paterns\n",
    "print(m.group(0))\n",
    "\n",
    "# group(1) => match pattern within first ()\n",
    "print(m.group(1))"
   ]
  },
  {
   "cell_type": "code",
   "execution_count": 169,
   "metadata": {
    "collapsed": false
   },
   "outputs": [
    {
     "name": "stdout",
     "output_type": "stream",
     "text": [
      "http://news.sina.com.cn/c/2016-11-10/doc-ifxxsfip4305308.shtml\n",
      "http://comment5.news.sina.com.cn/page/info?version=1&format=js&channel=gn&newsid=comos-fxxsfip4305308&group=&compress=0&ie=utf-8&oe=utf-8&page=1&page_size=20\n"
     ]
    }
   ],
   "source": [
    "newsurl = 'http://news.sina.com.cn/c/2016-11-10/doc-ifxxsfip4305308.shtml'\n",
    "commentURL = 'http://comment5.news.sina.com.cn/page/info?version=1&format=js&channel=gn&newsid=comos-{}&group=&compress=0&ie=utf-8&oe=utf-8&page=1&page_size=20'\n",
    "print(newsurl)\n",
    "print(commenturl)"
   ]
  },
  {
   "cell_type": "markdown",
   "metadata": {},
   "source": [
    "## 建立一個抽取評論數的函式"
   ]
  },
  {
   "cell_type": "code",
   "execution_count": 28,
   "metadata": {
    "collapsed": false
   },
   "outputs": [],
   "source": [
    "def getCommentCount(newsurl):\n",
    "    m = re.search('doc-i(\\w+).shtml', newsurl)\n",
    "    newsid = m.group(1)\n",
    "    res = requests.get(commentURL.format(newsid))\n",
    "    comments = res.text.strip('var data=')\n",
    "    return json.loads(comments)['result']['count']['total']"
   ]
  },
  {
   "cell_type": "code",
   "execution_count": 173,
   "metadata": {
    "collapsed": false
   },
   "outputs": [
    {
     "data": {
      "text/plain": [
       "2780"
      ]
     },
     "execution_count": 173,
     "metadata": {},
     "output_type": "execute_result"
    }
   ],
   "source": [
    "s = 'http://news.sina.com.cn/c/nd/2016-11-09/doc-ifxxsmif2592720.shtml?cre=chinapc&mod=inf&loc=2&r=1&doct=0&rfunc=89&tj=none&s=0'\n",
    "getCommentCount(s)"
   ]
  },
  {
   "cell_type": "markdown",
   "metadata": {},
   "source": [
    "## 建立新聞內容抽取函式"
   ]
  },
  {
   "cell_type": "code",
   "execution_count": 59,
   "metadata": {
    "collapsed": false
   },
   "outputs": [],
   "source": [
    "import requests\n",
    "from bs4 import BeautifulSoup\n",
    "from datetime import datetime\n",
    "import re, json\n",
    "newsurl = 'http://news.sina.com.cn/o/2016-11-10/doc-ifxxsmuu5252838.shtml'\n",
    "commentURL = 'http://comment5.news.sina.com.cn/page/info?version=1&format=js&channel=gn&newsid=comos-{}&group=&compress=0&ie=utf-8&oe=utf-8&page=1&page_size=20'\n",
    "\n",
    "def getNewsDetail(newsurl):\n",
    "    result = {}\n",
    "    res = requests.get(newsurl)\n",
    "    res.encoding = 'utf-8'\n",
    "    soup = BeautifulSoup(res.text, 'html.parser')\n",
    "    result['title']      = soup.select('#artibodyTitle')[0].text\n",
    "    result['newssource'] = soup.select('.time-source')[0].contents[1].text.strip()\n",
    "    timesource           = soup.select('.time-source')[0].contents[0].strip()\n",
    "    result['dt']         = datetime.strptime(timesource, '%Y年%m月%d日%H:%M')\n",
    "    result['article']    = ''.join([p.text.strip() for p in soup.select('#artibody p')[:-1]])\n",
    "    try:\n",
    "        result['editor']     = soup.select('.article-editor')[0].text.lstrip('责任编辑：')\n",
    "    except:\n",
    "        print('editor not found')\n",
    "    result['comments']   = getCommentCount(newsurl)\n",
    "    return result "
   ]
  },
  {
   "cell_type": "code",
   "execution_count": 39,
   "metadata": {
    "collapsed": false
   },
   "outputs": [
    {
     "data": {
      "text/plain": [
       "{'article': '原标题：台湾新北街头发生百人打群架事件 警方制止反被打中新网11月10日电 据台湾《中时电子报》报道，台湾新北市三重区正义北路9日晚10时许发生街头斗殴事件，目击者指出，两派人马疑似因为车祸纠纷发生争执，其中一方打电话找了数十人前往助阵。警方获报后赶抵现场制止，竟也遭殴打、咬伤，警方随后出动快打部队控制现场状况，并带回相关涉案人员侦办。9日新北市三重区正义北路晚上10点多传出集体打群架事件，有网友提供影片表示，现场疑似因车祸纠纷而引发斗殴，一名摩托车骑士左转撞上一名抱小孩过马路的父亲，骑士因口气很凶，引发许多人前来追打，警方获报到场维持秩序，斗殴的激烈场面被网友拍下。根据网友上传的影片可看到，现场车祸纠纷引发近百人打群架，大批警力前往维持秩序，警方到场后还一度场面失控，连警察都被拉扯。有网友表示，本来只是单纯车祸擦伤，但疑似骑士是因撞到三重角头（注：黑社会的头头），态度还很差，才会被上百人围殴。由于斗殴现场正位于三重人车量大的正义北路上，一群男子叫嚣殴打的声音吓坏经过的路人和附近住户，民众将过程拍下发上网，让不少网友直呼“治安败坏”、“三重日常”。',\n",
       " 'comments': 44,\n",
       " 'dt': datetime.datetime(2016, 11, 10, 10, 30),\n",
       " 'editor': '康云凯 ',\n",
       " 'newssource': '中国新闻网',\n",
       " 'title': '台湾街头发生百人打群架 警方制止反被打(图)'}"
      ]
     },
     "execution_count": 39,
     "metadata": {},
     "output_type": "execute_result"
    }
   ],
   "source": [
    "getNewsDetail('http://news.sina.com.cn/o/2016-11-10/doc-ifxxsmuu5242123.shtml')"
   ]
  },
  {
   "cell_type": "code",
   "execution_count": 41,
   "metadata": {
    "collapsed": false
   },
   "outputs": [
    {
     "data": {
      "text/plain": [
       "'http://api.roll.news.sina.com.cn/zt_list?channel=news&cat_1=gnxw&cat_2==gdxw1||=gatxw||=zs-pl||=mtjj&level==1||=2&show_ext=1&show_all=1&show_num=22&tag=1&format=json&page=8&callback=newsloadercallback&_=1478757941311'"
      ]
     },
     "execution_count": 41,
     "metadata": {},
     "output_type": "execute_result"
    }
   ],
   "source": [
    "a = 'http://api.roll.news.sina.com.cn/zt_list?channel=news&cat_1=gnxw&cat_2==gdxw1||=gatxw||=zs-pl||=mtjj&level==1||=2&show_ext=1&show_all=1&show_num=22&tag=1&format=json&page=8&callback=newsloadercallback&_=1478757941311'\n",
    "a"
   ]
  },
  {
   "cell_type": "code",
   "execution_count": 43,
   "metadata": {
    "collapsed": false
   },
   "outputs": [
    {
     "data": {
      "text/plain": [
       "'http://api.roll.news.sina.com.cn/zt_list?channel=news&cat_1=gnxw&cat_2==gdxw1||=gatxw||=zs-pl||=mtjj&level==1||=2&show_ext=1&show_all=1&show_num=22&tag=1&format=json&page=9&callback=newsloadercallback&_=1478757982735'"
      ]
     },
     "execution_count": 43,
     "metadata": {},
     "output_type": "execute_result"
    }
   ],
   "source": [
    "b = 'http://api.roll.news.sina.com.cn/zt_list?channel=news&cat_1=gnxw&cat_2==gdxw1||=gatxw||=zs-pl||=mtjj&level==1||=2&show_ext=1&show_all=1&show_num=22&tag=1&format=json&page=9&callback=newsloadercallback&_=1478757982735'\n",
    "b"
   ]
  },
  {
   "cell_type": "markdown",
   "metadata": {},
   "source": [
    "## 整理API 資料"
   ]
  },
  {
   "cell_type": "code",
   "execution_count": 55,
   "metadata": {
    "collapsed": false
   },
   "outputs": [],
   "source": [
    "import requests\n",
    "from bs4 import BeautifulSoup\n",
    "import json\n",
    "apiurl = 'http://api.roll.news.sina.com.cn/zt_list?channel=news&cat_1=gnxw&cat_2==gdxw1||=gatxw||=zs-pl||=mtjj&level==1||=2&show_ext=1&show_all=1&show_num=22&tag=1&format=json&page=8&callback=newsloadercallback'\n",
    "res = requests.get(apiurl)\n",
    "jd = json.loads(res.text.lstrip('  newsloadercallback(').rstrip(');'))\n",
    "#jd"
   ]
  },
  {
   "cell_type": "code",
   "execution_count": 57,
   "metadata": {
    "collapsed": false
   },
   "outputs": [
    {
     "name": "stdout",
     "output_type": "stream",
     "text": [
      "http://news.sina.com.cn/c/nd/2016-11-08/doc-ifxxmyuk6231660.shtml\n",
      "http://news.sina.com.cn/c/nd/2016-11-08/doc-ifxxneua4415768.shtml\n",
      "http://news.sina.com.cn/o/2016-11-08/doc-ifxxnffr7078585.shtml\n",
      "http://news.sina.com.cn/o/2016-11-08/doc-ifxxnffr7077633.shtml\n",
      "http://news.sina.com.cn/o/2016-11-08/doc-ifxxmyuk6228193.shtml\n",
      "http://news.sina.com.cn/o/2016-11-08/doc-ifxxnffr7074289.shtml\n",
      "http://news.sina.com.cn/c/nd/2016-11-08/doc-ifxxneua4410026.shtml\n",
      "http://news.sina.com.cn/o/2016-11-08/doc-ifxxnffr7072674.shtml\n",
      "http://news.sina.com.cn/c/nd/2016-11-08/doc-ifxxneua4407669.shtml\n",
      "http://news.sina.com.cn/c/2016-11-08/doc-ifxxnffr7067804.shtml\n",
      "http://news.sina.com.cn/o/2016-11-08/doc-ifxxnffr7066349.shtml\n",
      "http://news.sina.com.cn/c/2016-11-08/doc-ifxxnffr7064444.shtml\n",
      "http://news.sina.com.cn/c/zs/2016-11-08/doc-ifxxneua4396926.shtml\n",
      "http://news.sina.com.cn/c/nd/2016-11-08/doc-ifxxneua4396922.shtml\n",
      "http://news.sina.com.cn/c/nd/2016-11-08/doc-ifxxnffr7043222.shtml\n",
      "http://news.sina.com.cn/o/2016-11-08/doc-ifxxmyuk6195028.shtml\n",
      "http://news.sina.com.cn/c/gat/2016-11-08/doc-ifxxnety7638622.shtml\n",
      "http://news.sina.com.cn/c/gat/2016-11-08/doc-ifxxneua4385295.shtml\n",
      "http://news.sina.com.cn/o/2016-11-08/doc-ifxxmyuk6193481.shtml\n",
      "http://news.sina.com.cn/o/2016-11-08/doc-ifxxmyuk6193474.shtml\n",
      "http://news.sina.com.cn/o/2016-11-08/doc-ifxxnffr7041396.shtml\n",
      "http://news.sina.com.cn/c/nd/2016-11-08/doc-ifxxnety7638391.shtml\n"
     ]
    }
   ],
   "source": [
    "for ent in jd['result']['data']:\n",
    "    print(ent['url'])"
   ]
  },
  {
   "cell_type": "markdown",
   "metadata": {},
   "source": [
    "## 剖析API 的 URL 連結"
   ]
  },
  {
   "cell_type": "code",
   "execution_count": 66,
   "metadata": {
    "collapsed": false
   },
   "outputs": [],
   "source": [
    "import requests\n",
    "from bs4 import BeautifulSoup\n",
    "import json\n",
    "apiurl = 'http://api.roll.news.sina.com.cn/zt_list?channel=news&cat_1=gnxw&cat_2==gdxw1||=gatxw||=zs-pl||=mtjj&level==1||=2&show_ext=1&show_all=1&show_num=22&tag=1&format=json&page=8&callback=newsloadercallback'\n",
    "\n",
    "def parseListLinks(url):\n",
    "    newsdetails = []\n",
    "    res = requests.get(url)\n",
    "    jd = json.loads(res.text.lstrip('  newsloadercallback(').rstrip(');'))\n",
    "    for ent in jd['result']['data']:\n",
    "        newsdetails.append(getNewsDetail(ent['url']))\n",
    "    return newsdetails"
   ]
  },
  {
   "cell_type": "code",
   "execution_count": 68,
   "metadata": {
    "collapsed": false
   },
   "outputs": [],
   "source": [
    "apiurl = 'http://api.roll.news.sina.com.cn/zt_list?channel=news&cat_1=gnxw&cat_2==gdxw1||=gatxw||=zs-pl||=mtjj&level==1||=2&show_ext=1&show_all=1&show_num=22&tag=1&format=json&page=8&callback=newsloadercallback'\n",
    "#parseListLinks(apiurl)"
   ]
  },
  {
   "cell_type": "code",
   "execution_count": 71,
   "metadata": {
    "collapsed": false
   },
   "outputs": [],
   "source": [
    "apiformat = 'http://api.roll.news.sina.com.cn/zt_list?channel=news&cat_1=gnxw&cat_2==gdxw1||=gatxw||=zs-pl||=mtjj&level==1||=2&show_ext=1&show_all=1&show_num=22&tag=1&format=json&page={}&callback=newsloadercallback'\n",
    "news_total = []\n",
    "for page in range(1,3):\n",
    "    news_total.extend(parseListLinks(apiformat.format(page)))"
   ]
  },
  {
   "cell_type": "code",
   "execution_count": 73,
   "metadata": {
    "collapsed": false
   },
   "outputs": [
    {
     "data": {
      "text/plain": [
       "44"
      ]
     },
     "execution_count": 73,
     "metadata": {},
     "output_type": "execute_result"
    }
   ],
   "source": [
    "len(news_total)"
   ]
  },
  {
   "cell_type": "code",
   "execution_count": 74,
   "metadata": {
    "collapsed": false
   },
   "outputs": [
    {
     "data": {
      "text/plain": [
       "{'article': '原标题：湖北恩施州局地遭雪灾 直接经济损失近3100万元中新网11月10日电 据民政部网站消息，湖北省恩施州部分地区近日遭受雪灾，造成3.3万人受灾，农作物受灾面积300余公顷，直接经济损失近3100万元。据湖北省民政厅报告，11月8日以来，恩施土家族苗族自治州大部普降中到大雨、局部暴雨，高海拔地区出现大雪、局部暴雪，部分地区积雪超过10厘米，导致5县（市）部分房屋、大棚及电力等设施因积雪压塌、受损，部分蔬菜、药材、苗圃等作物受灾，部分公路交通受阻，对群众生产生活造成影响。截至11月10日9时统计，恩施土家族苗族自治州恩施、利川、建始等5个县（市）3.3万人受灾，近600间房屋不同程度损坏，农作物受灾面积300余公顷，直接经济损失近3100万元。',\n",
       " 'comments': 0,\n",
       " 'dt': datetime.datetime(2016, 11, 10, 14, 18),\n",
       " 'editor': '康云凯 ',\n",
       " 'newssource': '中国新闻网',\n",
       " 'title': '湖北恩施局地遇暴雪厚度超10厘米 3.3万人受灾'}"
      ]
     },
     "execution_count": 74,
     "metadata": {},
     "output_type": "execute_result"
    }
   ],
   "source": [
    "news_total[0]"
   ]
  },
  {
   "cell_type": "markdown",
   "metadata": {},
   "source": [
    "## List Extend"
   ]
  },
  {
   "cell_type": "code",
   "execution_count": 70,
   "metadata": {
    "collapsed": false
   },
   "outputs": [
    {
     "data": {
      "text/plain": [
       "[1, 2, 3, 2, 3]"
      ]
     },
     "execution_count": 70,
     "metadata": {},
     "output_type": "execute_result"
    }
   ],
   "source": [
    "a = [1,2,3]\n",
    "b = [2,3]\n",
    "a.extend(b)\n",
    "a"
   ]
  }
 ],
 "metadata": {
  "anaconda-cloud": {},
  "kernelspec": {
   "display_name": "Python [Root]",
   "language": "python",
   "name": "Python [Root]"
  },
  "language_info": {
   "codemirror_mode": {
    "name": "ipython",
    "version": 3
   },
   "file_extension": ".py",
   "mimetype": "text/x-python",
   "name": "python",
   "nbconvert_exporter": "python",
   "pygments_lexer": "ipython3",
   "version": "3.5.2"
  }
 },
 "nbformat": 4,
 "nbformat_minor": 0
}
