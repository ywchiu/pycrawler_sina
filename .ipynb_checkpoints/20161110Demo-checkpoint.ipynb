{
 "cells": [
  {
   "cell_type": "markdown",
   "metadata": {},
   "source": [
    "## 抓取新浪新聞列表"
   ]
  },
  {
   "cell_type": "code",
   "execution_count": 6,
   "metadata": {
    "collapsed": false
   },
   "outputs": [],
   "source": [
    "import requests\n",
    "res = requests.get('http://news.sina.com.cn/china/')\n",
    "res.encoding = 'utf-8'\n",
    "#print(res.text)"
   ]
  },
  {
   "cell_type": "code",
   "execution_count": 34,
   "metadata": {
    "collapsed": false
   },
   "outputs": [],
   "source": [
    "from bs4 import BeautifulSoup\n",
    "soup = BeautifulSoup(res.text, 'html.parser')\n",
    "for news in soup.select('.news-item'):    \n",
    "    if len(news.select('h2')) > 0:\n",
    "        #print(news)    \n",
    "        h2 = news.select('h2')[0].text                \n",
    "        a = news.select('a')[0]['href']        \n",
    "        time = news.select('.time')[0].text\n",
    "        \n",
    "        #print(time, h2, a)\n",
    "        #print('==================================')"
   ]
  },
  {
   "cell_type": "markdown",
   "metadata": {},
   "source": [
    "## 抓取新聞內文"
   ]
  },
  {
   "cell_type": "code",
   "execution_count": 29,
   "metadata": {
    "collapsed": false
   },
   "outputs": [],
   "source": [
    "import requests\n",
    "from bs4 import BeautifulSoup\n",
    "res = requests.get('http://news.sina.com.cn/c/2016-11-10/doc-ifxxsfip4305308.shtml')\n",
    "res.encoding = 'utf-8'\n",
    "#print(res.text)\n",
    "soup = BeautifulSoup(res.text, 'html.parser')"
   ]
  },
  {
   "cell_type": "code",
   "execution_count": 35,
   "metadata": {
    "collapsed": false
   },
   "outputs": [
    {
     "data": {
      "text/plain": [
       "'美媒：中国在打造自己的TPP并一直在扩大'"
      ]
     },
     "execution_count": 35,
     "metadata": {},
     "output_type": "execute_result"
    }
   ],
   "source": [
    "soup.select('#artibodyTitle')[0].text"
   ]
  },
  {
   "cell_type": "code",
   "execution_count": 50,
   "metadata": {
    "collapsed": false
   },
   "outputs": [
    {
     "data": {
      "text/plain": [
       "'2016年11月10日04:14'"
      ]
     },
     "execution_count": 50,
     "metadata": {},
     "output_type": "execute_result"
    }
   ],
   "source": [
    "timesource = soup.select('.time-source')[0].contents[0].strip()\n",
    "timesource"
   ]
  },
  {
   "cell_type": "code",
   "execution_count": 51,
   "metadata": {
    "collapsed": false
   },
   "outputs": [
    {
     "data": {
      "text/plain": [
       "'环球时报'"
      ]
     },
     "execution_count": 51,
     "metadata": {},
     "output_type": "execute_result"
    }
   ],
   "source": [
    "medianame = soup.select('.time-source')[0].contents[1].text.strip()\n",
    "medianame"
   ]
  },
  {
   "cell_type": "markdown",
   "metadata": {},
   "source": [
    "## Python strptime and strftime\n",
    "- https://docs.python.org/3/library/datetime.html#strftime-and-strptime-behavior"
   ]
  },
  {
   "cell_type": "code",
   "execution_count": 61,
   "metadata": {
    "collapsed": false
   },
   "outputs": [
    {
     "data": {
      "text/plain": [
       "datetime.datetime(2016, 11, 10, 9, 50, 14, 572769)"
      ]
     },
     "execution_count": 61,
     "metadata": {},
     "output_type": "execute_result"
    }
   ],
   "source": [
    "from datetime import datetime \n",
    "current_time = datetime.now()\n",
    "current_time"
   ]
  },
  {
   "cell_type": "code",
   "execution_count": 62,
   "metadata": {
    "collapsed": false
   },
   "outputs": [
    {
     "name": "stdout",
     "output_type": "stream",
     "text": [
      "<class 'datetime.datetime'>\n"
     ]
    },
    {
     "data": {
      "text/plain": [
       "datetime.datetime(2016, 11, 10, 4, 14)"
      ]
     },
     "execution_count": 62,
     "metadata": {},
     "output_type": "execute_result"
    }
   ],
   "source": [
    "dt = datetime.strptime('2016年11月10日04:14', '%Y年%m月%d日%H:%M')\n",
    "print(type(dt))\n",
    "dt"
   ]
  },
  {
   "cell_type": "code",
   "execution_count": 64,
   "metadata": {
    "collapsed": false
   },
   "outputs": [
    {
     "name": "stdout",
     "output_type": "stream",
     "text": [
      "-1 day, 18:23:45.427231\n"
     ]
    }
   ],
   "source": [
    "print(dt - current_time)"
   ]
  },
  {
   "cell_type": "code",
   "execution_count": 60,
   "metadata": {
    "collapsed": false
   },
   "outputs": [
    {
     "name": "stdout",
     "output_type": "stream",
     "text": [
      "<class 'str'>\n"
     ]
    },
    {
     "data": {
      "text/plain": [
       "'November 10, 2016'"
      ]
     },
     "execution_count": 60,
     "metadata": {},
     "output_type": "execute_result"
    }
   ],
   "source": [
    "print(type(dt.strftime('%B %d, %Y')))\n",
    "dt.strftime('%B %d, %Y')"
   ]
  },
  {
   "cell_type": "code",
   "execution_count": 66,
   "metadata": {
    "collapsed": false
   },
   "outputs": [
    {
     "data": {
      "text/plain": [
       "datetime.datetime(2016, 11, 11, 9, 52, 29, 648495)"
      ]
     },
     "execution_count": 66,
     "metadata": {},
     "output_type": "execute_result"
    }
   ],
   "source": [
    "from datetime import datetime, timedelta\n",
    "current_time = datetime.now()\n",
    "current_time + timedelta(days = 1)"
   ]
  },
  {
   "cell_type": "code",
   "execution_count": 68,
   "metadata": {
    "collapsed": false
   },
   "outputs": [
    {
     "data": {
      "text/plain": [
       "datetime.datetime(2016, 11, 9, 9, 52, 29, 648495)"
      ]
     },
     "execution_count": 68,
     "metadata": {},
     "output_type": "execute_result"
    }
   ],
   "source": [
    "current_time + timedelta(days = -1)"
   ]
  },
  {
   "cell_type": "code",
   "execution_count": 70,
   "metadata": {
    "collapsed": false
   },
   "outputs": [
    {
     "data": {
      "text/plain": [
       "datetime.datetime(2016, 10, 11, 9, 52, 29, 648495)"
      ]
     },
     "execution_count": 70,
     "metadata": {},
     "output_type": "execute_result"
    }
   ],
   "source": [
    "current_time + timedelta(days = -30)"
   ]
  },
  {
   "cell_type": "code",
   "execution_count": 72,
   "metadata": {
    "collapsed": false
   },
   "outputs": [
    {
     "name": "stdout",
     "output_type": "stream",
     "text": [
      "2016-11-09\n",
      "2016-11-08\n",
      "2016-11-07\n",
      "2016-11-06\n",
      "2016-11-05\n",
      "2016-11-04\n",
      "2016-11-03\n",
      "2016-11-02\n",
      "2016-11-01\n"
     ]
    }
   ],
   "source": [
    "for d in range(1,10):\n",
    "    print((current_time + timedelta(days = -d)).strftime('%Y-%m-%d'))"
   ]
  },
  {
   "cell_type": "code",
   "execution_count": 77,
   "metadata": {
    "collapsed": false
   },
   "outputs": [
    {
     "data": {
      "text/plain": [
       "1234861418.0"
      ]
     },
     "execution_count": 77,
     "metadata": {},
     "output_type": "execute_result"
    }
   ],
   "source": [
    "import time\n",
    "t = (2009, 2, 17, 17, 3, 38, 1, 48, 0)\n",
    "secs = time.mktime( t )\n",
    "secs"
   ]
  },
  {
   "cell_type": "code",
   "execution_count": 79,
   "metadata": {
    "collapsed": false
   },
   "outputs": [
    {
     "data": {
      "text/plain": [
       "1478742749.0"
      ]
     },
     "execution_count": 79,
     "metadata": {},
     "output_type": "execute_result"
    }
   ],
   "source": [
    "time.mktime(current_time.timetuple())"
   ]
  },
  {
   "cell_type": "code",
   "execution_count": 86,
   "metadata": {
    "collapsed": false
   },
   "outputs": [
    {
     "data": {
      "text/plain": [
       "'2016/11/10'"
      ]
     },
     "execution_count": 86,
     "metadata": {},
     "output_type": "execute_result"
    }
   ],
   "source": [
    "dt = datetime.fromtimestamp(1478742749)\n",
    "dt.strftime('%Y/%m/%d')"
   ]
  },
  {
   "cell_type": "markdown",
   "metadata": {},
   "source": [
    "## 取得內文"
   ]
  },
  {
   "cell_type": "code",
   "execution_count": 91,
   "metadata": {
    "collapsed": false
   },
   "outputs": [
    {
     "data": {
      "text/plain": [
       "1"
      ]
     },
     "execution_count": 91,
     "metadata": {},
     "output_type": "execute_result"
    }
   ],
   "source": [
    "a = [1,2,3,4,5]\n",
    "# 取第一筆資料\n",
    "a[0]"
   ]
  },
  {
   "cell_type": "code",
   "execution_count": 92,
   "metadata": {
    "collapsed": false
   },
   "outputs": [
    {
     "data": {
      "text/plain": [
       "5"
      ]
     },
     "execution_count": 92,
     "metadata": {},
     "output_type": "execute_result"
    }
   ],
   "source": [
    "# 取最後一筆資料\n",
    "a[-1]"
   ]
  },
  {
   "cell_type": "code",
   "execution_count": 93,
   "metadata": {
    "collapsed": false
   },
   "outputs": [
    {
     "data": {
      "text/plain": [
       "[2, 3, 4, 5]"
      ]
     },
     "execution_count": 93,
     "metadata": {},
     "output_type": "execute_result"
    }
   ],
   "source": [
    "# 從第二個以後開始取資料\n",
    "a[1:] # for(i = 1; i< len; i ++)"
   ]
  },
  {
   "cell_type": "code",
   "execution_count": 94,
   "metadata": {
    "collapsed": false
   },
   "outputs": [
    {
     "data": {
      "text/plain": [
       "[1, 2, 3, 4]"
      ]
     },
     "execution_count": 94,
     "metadata": {},
     "output_type": "execute_result"
    }
   ],
   "source": [
    "#最後一筆我不要\n",
    "a[:-1] # for(i = 0 ; i< last one, i++)"
   ]
  },
  {
   "cell_type": "code",
   "execution_count": 102,
   "metadata": {
    "collapsed": false,
    "scrolled": true
   },
   "outputs": [
    {
     "data": {
      "text/plain": [
       "'原标题：美媒：中国在打造自己的TPP，并一直在扩大 总统竞选期间，我们不断听到对跨太平洋伙伴关系协定的攻击。对TPP的争论不少都围绕中国展开。支持者把它视为战略性而非经济的条约，认为对遏制中国不可缺少。反对者把它看成威胁，认为可能会鼓励签署国让中国借由“后门”进入。事实上，这两种看法都错了，错的原因也一样。TPP对拖慢中国的经济和政治力量的崛起并无助益，对美国工人的影响也微乎其微。原因在于，TPP对中国并不重要。 正如新加坡投资人吉姆·伊斯坎所分析，TPP谈判的8年间，北京并非无所作为。中国一直在发展与亚太地区国家的经贸关系，构筑牢固的贸易网络。如今，在美国忙于争论TPP利弊之际，中国已与12个TPP签约国中的9个签订自贸协定。美国在说，中国在做。当华盛顿还在争论TPP是遏制中国的最佳方式还是中国经济帝国主义的特洛伊木马时，中国人已建起自己的TPP，并一直在扩大。 中国还在构建与贸易伙伴的新纽带——物理上的连接，包括机场、道路和港口，提供从混凝土、钢铁到融资的一切所需。波士顿咨询集团高级合伙人哈罗尔德·西尔金称，“一带一路”倡议加强中国与别国的关系的同时，美国显然在后退。西尔金警告：“美国应竭力去做成功竞争所必要的事，否则将陷入衰落。如果我们在贸易方面耍大牌，那就给中国人开了方便之门，他们有准备也有意愿和能力填充我们造成的任何空缺。” 此种背景下，不禁让人担心，像中国这样的国家多久会成为主导该地区的经济强国。现在，拉美超过10%的出口流向中国，近18%进口源自中国。一个共产党威权国家让托马斯·杰斐逊的国度领教了什么才是自由贸易，这也算目前混乱时代的奇事。'"
      ]
     },
     "execution_count": 102,
     "metadata": {},
     "output_type": "execute_result"
    }
   ],
   "source": [
    "# 最後一個p 不要\n",
    "article = []\n",
    "for p in soup.select('#artibody p')[:-1]:\n",
    "    article.append(p.text.strip())\n",
    "' '.join(article)"
   ]
  },
  {
   "cell_type": "code",
   "execution_count": 104,
   "metadata": {
    "collapsed": false
   },
   "outputs": [
    {
     "data": {
      "text/plain": [
       "'原标题：美媒：中国在打造自己的TPP，并一直在扩大总统竞选期间，我们不断听到对跨太平洋伙伴关系协定的攻击。对TPP的争论不少都围绕中国展开。支持者把它视为战略性而非经济的条约，认为对遏制中国不可缺少。反对者把它看成威胁，认为可能会鼓励签署国让中国借由“后门”进入。事实上，这两种看法都错了，错的原因也一样。TPP对拖慢中国的经济和政治力量的崛起并无助益，对美国工人的影响也微乎其微。原因在于，TPP对中国并不重要。正如新加坡投资人吉姆·伊斯坎所分析，TPP谈判的8年间，北京并非无所作为。中国一直在发展与亚太地区国家的经贸关系，构筑牢固的贸易网络。如今，在美国忙于争论TPP利弊之际，中国已与12个TPP签约国中的9个签订自贸协定。美国在说，中国在做。当华盛顿还在争论TPP是遏制中国的最佳方式还是中国经济帝国主义的特洛伊木马时，中国人已建起自己的TPP，并一直在扩大。中国还在构建与贸易伙伴的新纽带——物理上的连接，包括机场、道路和港口，提供从混凝土、钢铁到融资的一切所需。波士顿咨询集团高级合伙人哈罗尔德·西尔金称，“一带一路”倡议加强中国与别国的关系的同时，美国显然在后退。西尔金警告：“美国应竭力去做成功竞争所必要的事，否则将陷入衰落。如果我们在贸易方面耍大牌，那就给中国人开了方便之门，他们有准备也有意愿和能力填充我们造成的任何空缺。”此种背景下，不禁让人担心，像中国这样的国家多久会成为主导该地区的经济强国。现在，拉美超过10%的出口流向中国，近18%进口源自中国。一个共产党威权国家让托马斯·杰斐逊的国度领教了什么才是自由贸易，这也算目前混乱时代的奇事。'"
      ]
     },
     "execution_count": 104,
     "metadata": {},
     "output_type": "execute_result"
    }
   ],
   "source": [
    "''.join([p.text.strip() for p in soup.select('#artibody p')[:-1]])"
   ]
  },
  {
   "cell_type": "code",
   "execution_count": 103,
   "metadata": {
    "collapsed": false
   },
   "outputs": [
    {
     "data": {
      "text/plain": [
       "[2, 4, 6, 8, 10]"
      ]
     },
     "execution_count": 103,
     "metadata": {},
     "output_type": "execute_result"
    }
   ],
   "source": [
    "a= [1,2,3,4,5]\n",
    "[ele * 2 for ele in a]"
   ]
  },
  {
   "cell_type": "markdown",
   "metadata": {},
   "source": [
    "## 抽取責任編輯"
   ]
  },
  {
   "cell_type": "code",
   "execution_count": 109,
   "metadata": {
    "collapsed": false
   },
   "outputs": [
    {
     "data": {
      "text/plain": [
       "'隗俊 '"
      ]
     },
     "execution_count": 109,
     "metadata": {},
     "output_type": "execute_result"
    }
   ],
   "source": [
    "editor = soup.select('.article-editor')[0].text.strip('责任编辑：')\n",
    "editor"
   ]
  },
  {
   "cell_type": "markdown",
   "metadata": {},
   "source": [
    "## 抽取評論數"
   ]
  },
  {
   "cell_type": "code",
   "execution_count": 110,
   "metadata": {
    "collapsed": false
   },
   "outputs": [
    {
     "data": {
      "text/plain": [
       "[<span id=\"commentCount1\"></span>]"
      ]
     },
     "execution_count": 110,
     "metadata": {},
     "output_type": "execute_result"
    }
   ],
   "source": [
    "soup.select('#commentCount1')"
   ]
  },
  {
   "cell_type": "code",
   "execution_count": 134,
   "metadata": {
    "collapsed": false
   },
   "outputs": [
    {
     "data": {
      "text/plain": [
       "6"
      ]
     },
     "execution_count": 134,
     "metadata": {},
     "output_type": "execute_result"
    }
   ],
   "source": [
    "import requests\n",
    "import json\n",
    "res = requests.get('http://comment5.news.sina.com.cn/page/info?version=1&format=js&channel=gn&newsid=comos-fxxsfip4305308&group=&compress=0&ie=utf-8&oe=utf-8&page=1&page_size=20')\n",
    "comments = res.text.strip('var data=')\n",
    "json.loads(comments)['result']['count']['total']"
   ]
  },
  {
   "cell_type": "code",
   "execution_count": 125,
   "metadata": {
    "collapsed": true
   },
   "outputs": [],
   "source": [
    "# ifxxsfip4305308\n",
    "newsurl = 'http://news.sina.com.cn/c/2016-11-10/doc-ifxxsfip4305308.shtml'"
   ]
  },
  {
   "cell_type": "code",
   "execution_count": 135,
   "metadata": {
    "collapsed": false
   },
   "outputs": [
    {
     "data": {
      "text/plain": [
       "'fxxsfip4305308'"
      ]
     },
     "execution_count": 135,
     "metadata": {},
     "output_type": "execute_result"
    }
   ],
   "source": [
    "newsurl.split('/')[-1].lstrip('doc-i').rstrip('.shtml')"
   ]
  },
  {
   "cell_type": "markdown",
   "metadata": {},
   "source": [
    "## 正規表達法"
   ]
  },
  {
   "cell_type": "code",
   "execution_count": 137,
   "metadata": {
    "collapsed": false
   },
   "outputs": [
    {
     "data": {
      "text/plain": [
       "True"
      ]
     },
     "execution_count": 137,
     "metadata": {},
     "output_type": "execute_result"
    }
   ],
   "source": [
    "'apple' == 'apple'"
   ]
  },
  {
   "cell_type": "code",
   "execution_count": 139,
   "metadata": {
    "collapsed": false
   },
   "outputs": [
    {
     "name": "stdout",
     "output_type": "stream",
     "text": [
      "<_sre.SRE_Match object; span=(0, 1), match='a'>\n",
      "None\n"
     ]
    }
   ],
   "source": [
    "import re\n",
    "s = 'a'\n",
    "print(re.search('a', s))\n",
    "\n",
    "s = 'b'\n",
    "print(re.search('a', s))"
   ]
  },
  {
   "cell_type": "code",
   "execution_count": 140,
   "metadata": {
    "collapsed": false
   },
   "outputs": [
    {
     "name": "stdout",
     "output_type": "stream",
     "text": [
      "<_sre.SRE_Match object; span=(0, 1), match='y'>\n"
     ]
    }
   ],
   "source": [
    "# [abc] => a or b or c\n",
    "s = 'y'\n",
    "print(re.search('[abcdefghijklmnopqrstuvwxyz]', s))"
   ]
  },
  {
   "cell_type": "code",
   "execution_count": 141,
   "metadata": {
    "collapsed": false
   },
   "outputs": [
    {
     "name": "stdout",
     "output_type": "stream",
     "text": [
      "<_sre.SRE_Match object; span=(0, 1), match='y'>\n"
     ]
    }
   ],
   "source": [
    "# [abcdefghijklmnopqrstuvwxyz] = [a-z]\n",
    "print(re.search('[a-z]', s))"
   ]
  },
  {
   "cell_type": "code",
   "execution_count": 144,
   "metadata": {
    "collapsed": false
   },
   "outputs": [
    {
     "name": "stdout",
     "output_type": "stream",
     "text": [
      "<_sre.SRE_Match object; span=(0, 1), match='5'>\n",
      "<_sre.SRE_Match object; span=(0, 1), match='5'>\n",
      "<_sre.SRE_Match object; span=(0, 1), match='5'>\n"
     ]
    }
   ],
   "source": [
    "n = '5'\n",
    "print(re.search('[0123456789]', n))\n",
    "\n",
    "# [0123456789] => [0-9]\n",
    "print(re.search('[0-9]', n))\n",
    "# [0-9] = \\d\n",
    "print(re.search('\\d', n))"
   ]
  },
  {
   "cell_type": "code",
   "execution_count": 148,
   "metadata": {
    "collapsed": false
   },
   "outputs": [
    {
     "name": "stdout",
     "output_type": "stream",
     "text": [
      "<_sre.SRE_Match object; span=(0, 1), match='y'>\n",
      "None\n",
      "<_sre.SRE_Match object; span=(0, 1), match='Y'>\n",
      "<_sre.SRE_Match object; span=(0, 1), match='Y'>\n",
      "<_sre.SRE_Match object; span=(0, 1), match='Y'>\n"
     ]
    }
   ],
   "source": [
    "s = 'y'\n",
    "print(re.search('[a-z]', s))\n",
    "\n",
    "s = 'Y'\n",
    "print(re.search('[a-z]', s))\n",
    "print(re.search('[a-zA-Z]', s))\n",
    "print(re.search('[a-zA-Z0-9]', s))\n",
    "\n",
    "# [a-zA-Z0-9] => \\w\n",
    "print(re.search('\\w', s))"
   ]
  },
  {
   "cell_type": "code",
   "execution_count": 153,
   "metadata": {
    "collapsed": false
   },
   "outputs": [
    {
     "name": "stdout",
     "output_type": "stream",
     "text": [
      "<_sre.SRE_Match object; span=(0, 1), match='a'>\n",
      "<_sre.SRE_Match object; span=(0, 5), match='apple'>\n",
      "<_sre.SRE_Match object; span=(0, 5), match='apple'>\n",
      "<_sre.SRE_Match object; span=(0, 5), match='apple'>\n",
      "<_sre.SRE_Match object; span=(0, 5), match='apple'>\n",
      "<_sre.SRE_Match object; span=(0, 5), match='apple'>\n",
      "<_sre.SRE_Match object; span=(0, 5), match='apple'>\n"
     ]
    }
   ],
   "source": [
    "s = 'apple'\n",
    "print(re.search('\\w', s))\n",
    "\n",
    "# match 5 alphabet => {}\n",
    "print(re.search('\\w{5}', s))\n",
    "\n",
    "\n",
    "# {min ,max }\n",
    "# e.g. match 3 ~ 6 \n",
    "print(re.search('\\w{3,6}', s))\n",
    "\n",
    "# e.g. match 1 ~  \n",
    "print(re.search('\\w{1,}', s))\n",
    "# {1,} => +\n",
    "print(re.search('\\w+', s))\n",
    "\n",
    "\n",
    "# e.g. match 0 ~  \n",
    "print(re.search('\\w{0,}', s))\n",
    "# {0,} => *\n",
    "print(re.search('\\w*', s))"
   ]
  },
  {
   "cell_type": "code",
   "execution_count": 155,
   "metadata": {
    "collapsed": false
   },
   "outputs": [
    {
     "name": "stdout",
     "output_type": "stream",
     "text": [
      "<_sre.SRE_Match object; span=(0, 10), match='0912345678'>\n",
      "None\n",
      "None\n"
     ]
    }
   ],
   "source": [
    "phones = ['0912345678','0912-345-678','0912-345678']\n",
    "for phone in phones:\n",
    "    print(re.match('09\\d{8}' , phone))"
   ]
  },
  {
   "cell_type": "code",
   "execution_count": 156,
   "metadata": {
    "collapsed": false
   },
   "outputs": [
    {
     "name": "stdout",
     "output_type": "stream",
     "text": [
      "<_sre.SRE_Match object; span=(0, 10), match='0912345678'>\n",
      "<_sre.SRE_Match object; span=(0, 12), match='0912-345-678'>\n",
      "<_sre.SRE_Match object; span=(0, 11), match='0912-345678'>\n"
     ]
    }
   ],
   "source": [
    "phones = ['0912345678','0912-345-678','0912-345678']\n",
    "for phone in phones:\n",
    "    print(re.match('09\\d{2}-{0,1}\\d{3}-{0,1}\\d{3}' , phone))"
   ]
  },
  {
   "cell_type": "code",
   "execution_count": 157,
   "metadata": {
    "collapsed": false
   },
   "outputs": [
    {
     "name": "stdout",
     "output_type": "stream",
     "text": [
      "<_sre.SRE_Match object; span=(0, 10), match='0912345678'>\n",
      "<_sre.SRE_Match object; span=(0, 12), match='0912-345-678'>\n",
      "<_sre.SRE_Match object; span=(0, 11), match='0912-345678'>\n"
     ]
    }
   ],
   "source": [
    "# {0,1} => ?\n",
    "for phone in phones:\n",
    "    print(re.match('09\\d{2}-?\\d{3}-?\\d{3}' , phone))"
   ]
  },
  {
   "cell_type": "code",
   "execution_count": 160,
   "metadata": {
    "collapsed": false
   },
   "outputs": [],
   "source": [
    "p = '09123456780929038901830981098310923801230'\n",
    "# ^ => match begin, $ => match end\n",
    "re.match('^09\\d{2}-?\\d{3}-?\\d{3}$' , p)"
   ]
  },
  {
   "cell_type": "code",
   "execution_count": 164,
   "metadata": {
    "collapsed": false
   },
   "outputs": [
    {
     "name": "stdout",
     "output_type": "stream",
     "text": [
      "doc-ifxxsfip4305308.shtml\n",
      "fxxsfip4305308\n"
     ]
    }
   ],
   "source": [
    "# fxxsfip4305308\n",
    "newsurl = 'http://news.sina.com.cn/c/2016-11-10/doc-ifxxsfip4305308.shtml'\n",
    "m = re.search('doc-i(\\w+).shtml', newsurl)\n",
    "# group(0) => match all paterns\n",
    "print(m.group(0))\n",
    "\n",
    "# group(1) => match pattern within first ()\n",
    "print(m.group(1))"
   ]
  },
  {
   "cell_type": "code",
   "execution_count": 169,
   "metadata": {
    "collapsed": false
   },
   "outputs": [
    {
     "name": "stdout",
     "output_type": "stream",
     "text": [
      "http://news.sina.com.cn/c/2016-11-10/doc-ifxxsfip4305308.shtml\n",
      "http://comment5.news.sina.com.cn/page/info?version=1&format=js&channel=gn&newsid=comos-fxxsfip4305308&group=&compress=0&ie=utf-8&oe=utf-8&page=1&page_size=20\n"
     ]
    }
   ],
   "source": [
    "newsurl = 'http://news.sina.com.cn/c/2016-11-10/doc-ifxxsfip4305308.shtml'\n",
    "commentURL = 'http://comment5.news.sina.com.cn/page/info?version=1&format=js&channel=gn&newsid=comos-{}&group=&compress=0&ie=utf-8&oe=utf-8&page=1&page_size=20'\n",
    "print(newsurl)\n",
    "print(commenturl)"
   ]
  },
  {
   "cell_type": "markdown",
   "metadata": {},
   "source": [
    "## 建立一個抽取評論數的函式"
   ]
  },
  {
   "cell_type": "code",
   "execution_count": 28,
   "metadata": {
    "collapsed": false
   },
   "outputs": [],
   "source": [
    "def getCommentCount(newsurl):\n",
    "    m = re.search('doc-i(\\w+).shtml', newsurl)\n",
    "    newsid = m.group(1)\n",
    "    res = requests.get(commentURL.format(newsid))\n",
    "    comments = res.text.strip('var data=')\n",
    "    return json.loads(comments)['result']['count']['total']"
   ]
  },
  {
   "cell_type": "code",
   "execution_count": 173,
   "metadata": {
    "collapsed": false
   },
   "outputs": [
    {
     "data": {
      "text/plain": [
       "2780"
      ]
     },
     "execution_count": 173,
     "metadata": {},
     "output_type": "execute_result"
    }
   ],
   "source": [
    "s = 'http://news.sina.com.cn/c/nd/2016-11-09/doc-ifxxsmif2592720.shtml?cre=chinapc&mod=inf&loc=2&r=1&doct=0&rfunc=89&tj=none&s=0'\n",
    "getCommentCount(s)"
   ]
  },
  {
   "cell_type": "markdown",
   "metadata": {},
   "source": [
    "## 建立新聞內容抽取函式"
   ]
  },
  {
   "cell_type": "code",
   "execution_count": 59,
   "metadata": {
    "collapsed": false
   },
   "outputs": [],
   "source": [
    "import requests\n",
    "from bs4 import BeautifulSoup\n",
    "from datetime import datetime\n",
    "import re, json\n",
    "newsurl = 'http://news.sina.com.cn/o/2016-11-10/doc-ifxxsmuu5252838.shtml'\n",
    "commentURL = 'http://comment5.news.sina.com.cn/page/info?version=1&format=js&channel=gn&newsid=comos-{}&group=&compress=0&ie=utf-8&oe=utf-8&page=1&page_size=20'\n",
    "\n",
    "def getNewsDetail(newsurl):\n",
    "    result = {}\n",
    "    res = requests.get(newsurl)\n",
    "    res.encoding = 'utf-8'\n",
    "    soup = BeautifulSoup(res.text, 'html.parser')\n",
    "    result['title']      = soup.select('#artibodyTitle')[0].text\n",
    "    result['newssource'] = soup.select('.time-source')[0].contents[1].text.strip()\n",
    "    timesource           = soup.select('.time-source')[0].contents[0].strip()\n",
    "    result['dt']         = datetime.strptime(timesource, '%Y年%m月%d日%H:%M')\n",
    "    result['article']    = ''.join([p.text.strip() for p in soup.select('#artibody p')[:-1]])\n",
    "    try:\n",
    "        result['editor']     = soup.select('.article-editor')[0].text.lstrip('责任编辑：')\n",
    "    except:\n",
    "        print('editor not found')\n",
    "    result['comments']   = getCommentCount(newsurl)\n",
    "    return result "
   ]
  },
  {
   "cell_type": "code",
   "execution_count": 39,
   "metadata": {
    "collapsed": false
   },
   "outputs": [
    {
     "data": {
      "text/plain": [
       "{'article': '原标题：台湾新北街头发生百人打群架事件 警方制止反被打中新网11月10日电 据台湾《中时电子报》报道，台湾新北市三重区正义北路9日晚10时许发生街头斗殴事件，目击者指出，两派人马疑似因为车祸纠纷发生争执，其中一方打电话找了数十人前往助阵。警方获报后赶抵现场制止，竟也遭殴打、咬伤，警方随后出动快打部队控制现场状况，并带回相关涉案人员侦办。9日新北市三重区正义北路晚上10点多传出集体打群架事件，有网友提供影片表示，现场疑似因车祸纠纷而引发斗殴，一名摩托车骑士左转撞上一名抱小孩过马路的父亲，骑士因口气很凶，引发许多人前来追打，警方获报到场维持秩序，斗殴的激烈场面被网友拍下。根据网友上传的影片可看到，现场车祸纠纷引发近百人打群架，大批警力前往维持秩序，警方到场后还一度场面失控，连警察都被拉扯。有网友表示，本来只是单纯车祸擦伤，但疑似骑士是因撞到三重角头（注：黑社会的头头），态度还很差，才会被上百人围殴。由于斗殴现场正位于三重人车量大的正义北路上，一群男子叫嚣殴打的声音吓坏经过的路人和附近住户，民众将过程拍下发上网，让不少网友直呼“治安败坏”、“三重日常”。',\n",
       " 'comments': 44,\n",
       " 'dt': datetime.datetime(2016, 11, 10, 10, 30),\n",
       " 'editor': '康云凯 ',\n",
       " 'newssource': '中国新闻网',\n",
       " 'title': '台湾街头发生百人打群架 警方制止反被打(图)'}"
      ]
     },
     "execution_count": 39,
     "metadata": {},
     "output_type": "execute_result"
    }
   ],
   "source": [
    "getNewsDetail('http://news.sina.com.cn/o/2016-11-10/doc-ifxxsmuu5242123.shtml')"
   ]
  },
  {
   "cell_type": "code",
   "execution_count": 41,
   "metadata": {
    "collapsed": false
   },
   "outputs": [
    {
     "data": {
      "text/plain": [
       "'http://api.roll.news.sina.com.cn/zt_list?channel=news&cat_1=gnxw&cat_2==gdxw1||=gatxw||=zs-pl||=mtjj&level==1||=2&show_ext=1&show_all=1&show_num=22&tag=1&format=json&page=8&callback=newsloadercallback&_=1478757941311'"
      ]
     },
     "execution_count": 41,
     "metadata": {},
     "output_type": "execute_result"
    }
   ],
   "source": [
    "a = 'http://api.roll.news.sina.com.cn/zt_list?channel=news&cat_1=gnxw&cat_2==gdxw1||=gatxw||=zs-pl||=mtjj&level==1||=2&show_ext=1&show_all=1&show_num=22&tag=1&format=json&page=8&callback=newsloadercallback&_=1478757941311'\n",
    "a"
   ]
  },
  {
   "cell_type": "code",
   "execution_count": 43,
   "metadata": {
    "collapsed": false
   },
   "outputs": [
    {
     "data": {
      "text/plain": [
       "'http://api.roll.news.sina.com.cn/zt_list?channel=news&cat_1=gnxw&cat_2==gdxw1||=gatxw||=zs-pl||=mtjj&level==1||=2&show_ext=1&show_all=1&show_num=22&tag=1&format=json&page=9&callback=newsloadercallback&_=1478757982735'"
      ]
     },
     "execution_count": 43,
     "metadata": {},
     "output_type": "execute_result"
    }
   ],
   "source": [
    "b = 'http://api.roll.news.sina.com.cn/zt_list?channel=news&cat_1=gnxw&cat_2==gdxw1||=gatxw||=zs-pl||=mtjj&level==1||=2&show_ext=1&show_all=1&show_num=22&tag=1&format=json&page=9&callback=newsloadercallback&_=1478757982735'\n",
    "b"
   ]
  },
  {
   "cell_type": "markdown",
   "metadata": {},
   "source": [
    "## 整理API 資料"
   ]
  },
  {
   "cell_type": "code",
   "execution_count": 55,
   "metadata": {
    "collapsed": false
   },
   "outputs": [],
   "source": [
    "import requests\n",
    "from bs4 import BeautifulSoup\n",
    "import json\n",
    "apiurl = 'http://api.roll.news.sina.com.cn/zt_list?channel=news&cat_1=gnxw&cat_2==gdxw1||=gatxw||=zs-pl||=mtjj&level==1||=2&show_ext=1&show_all=1&show_num=22&tag=1&format=json&page=8&callback=newsloadercallback'\n",
    "res = requests.get(apiurl)\n",
    "jd = json.loads(res.text.lstrip('  newsloadercallback(').rstrip(');'))\n",
    "#jd"
   ]
  },
  {
   "cell_type": "code",
   "execution_count": 57,
   "metadata": {
    "collapsed": false
   },
   "outputs": [
    {
     "name": "stdout",
     "output_type": "stream",
     "text": [
      "http://news.sina.com.cn/c/nd/2016-11-08/doc-ifxxmyuk6231660.shtml\n",
      "http://news.sina.com.cn/c/nd/2016-11-08/doc-ifxxneua4415768.shtml\n",
      "http://news.sina.com.cn/o/2016-11-08/doc-ifxxnffr7078585.shtml\n",
      "http://news.sina.com.cn/o/2016-11-08/doc-ifxxnffr7077633.shtml\n",
      "http://news.sina.com.cn/o/2016-11-08/doc-ifxxmyuk6228193.shtml\n",
      "http://news.sina.com.cn/o/2016-11-08/doc-ifxxnffr7074289.shtml\n",
      "http://news.sina.com.cn/c/nd/2016-11-08/doc-ifxxneua4410026.shtml\n",
      "http://news.sina.com.cn/o/2016-11-08/doc-ifxxnffr7072674.shtml\n",
      "http://news.sina.com.cn/c/nd/2016-11-08/doc-ifxxneua4407669.shtml\n",
      "http://news.sina.com.cn/c/2016-11-08/doc-ifxxnffr7067804.shtml\n",
      "http://news.sina.com.cn/o/2016-11-08/doc-ifxxnffr7066349.shtml\n",
      "http://news.sina.com.cn/c/2016-11-08/doc-ifxxnffr7064444.shtml\n",
      "http://news.sina.com.cn/c/zs/2016-11-08/doc-ifxxneua4396926.shtml\n",
      "http://news.sina.com.cn/c/nd/2016-11-08/doc-ifxxneua4396922.shtml\n",
      "http://news.sina.com.cn/c/nd/2016-11-08/doc-ifxxnffr7043222.shtml\n",
      "http://news.sina.com.cn/o/2016-11-08/doc-ifxxmyuk6195028.shtml\n",
      "http://news.sina.com.cn/c/gat/2016-11-08/doc-ifxxnety7638622.shtml\n",
      "http://news.sina.com.cn/c/gat/2016-11-08/doc-ifxxneua4385295.shtml\n",
      "http://news.sina.com.cn/o/2016-11-08/doc-ifxxmyuk6193481.shtml\n",
      "http://news.sina.com.cn/o/2016-11-08/doc-ifxxmyuk6193474.shtml\n",
      "http://news.sina.com.cn/o/2016-11-08/doc-ifxxnffr7041396.shtml\n",
      "http://news.sina.com.cn/c/nd/2016-11-08/doc-ifxxnety7638391.shtml\n"
     ]
    }
   ],
   "source": [
    "for ent in jd['result']['data']:\n",
    "    print(ent['url'])"
   ]
  },
  {
   "cell_type": "markdown",
   "metadata": {},
   "source": [
    "## 剖析API 的 URL 連結"
   ]
  },
  {
   "cell_type": "code",
   "execution_count": 66,
   "metadata": {
    "collapsed": false
   },
   "outputs": [],
   "source": [
    "import requests\n",
    "from bs4 import BeautifulSoup\n",
    "import json\n",
    "apiurl = 'http://api.roll.news.sina.com.cn/zt_list?channel=news&cat_1=gnxw&cat_2==gdxw1||=gatxw||=zs-pl||=mtjj&level==1||=2&show_ext=1&show_all=1&show_num=22&tag=1&format=json&page=8&callback=newsloadercallback'\n",
    "\n",
    "def parseListLinks(url):\n",
    "    newsdetails = []\n",
    "    res = requests.get(url)\n",
    "    jd = json.loads(res.text.lstrip('  newsloadercallback(').rstrip(');'))\n",
    "    for ent in jd['result']['data']:\n",
    "        newsdetails.append(getNewsDetail(ent['url']))\n",
    "    return newsdetails"
   ]
  },
  {
   "cell_type": "code",
   "execution_count": 68,
   "metadata": {
    "collapsed": false
   },
   "outputs": [],
   "source": [
    "apiurl = 'http://api.roll.news.sina.com.cn/zt_list?channel=news&cat_1=gnxw&cat_2==gdxw1||=gatxw||=zs-pl||=mtjj&level==1||=2&show_ext=1&show_all=1&show_num=22&tag=1&format=json&page=8&callback=newsloadercallback'\n",
    "#parseListLinks(apiurl)"
   ]
  },
  {
   "cell_type": "code",
   "execution_count": 71,
   "metadata": {
    "collapsed": false
   },
   "outputs": [],
   "source": [
    "apiformat = 'http://api.roll.news.sina.com.cn/zt_list?channel=news&cat_1=gnxw&cat_2==gdxw1||=gatxw||=zs-pl||=mtjj&level==1||=2&show_ext=1&show_all=1&show_num=22&tag=1&format=json&page={}&callback=newsloadercallback'\n",
    "news_total = []\n",
    "for page in range(1,3):\n",
    "    news_total.extend(parseListLinks(apiformat.format(page)))"
   ]
  },
  {
   "cell_type": "code",
   "execution_count": 73,
   "metadata": {
    "collapsed": false
   },
   "outputs": [
    {
     "data": {
      "text/plain": [
       "44"
      ]
     },
     "execution_count": 73,
     "metadata": {},
     "output_type": "execute_result"
    }
   ],
   "source": [
    "len(news_total)"
   ]
  },
  {
   "cell_type": "code",
   "execution_count": 80,
   "metadata": {
    "collapsed": false
   },
   "outputs": [
    {
     "data": {
      "text/plain": [
       "{'article': '原标题：台湾新北街头发生百人打群架事件 警方制止反被打中新网11月10日电 据台湾《中时电子报》报道，台湾新北市三重区正义北路9日晚10时许发生街头斗殴事件，目击者指出，两派人马疑似因为车祸纠纷发生争执，其中一方打电话找了数十人前往助阵。警方获报后赶抵现场制止，竟也遭殴打、咬伤，警方随后出动快打部队控制现场状况，并带回相关涉案人员侦办。9日新北市三重区正义北路晚上10点多传出集体打群架事件，有网友提供影片表示，现场疑似因车祸纠纷而引发斗殴，一名摩托车骑士左转撞上一名抱小孩过马路的父亲，骑士因口气很凶，引发许多人前来追打，警方获报到场维持秩序，斗殴的激烈场面被网友拍下。根据网友上传的影片可看到，现场车祸纠纷引发近百人打群架，大批警力前往维持秩序，警方到场后还一度场面失控，连警察都被拉扯。有网友表示，本来只是单纯车祸擦伤，但疑似骑士是因撞到三重角头（注：黑社会的头头），态度还很差，才会被上百人围殴。由于斗殴现场正位于三重人车量大的正义北路上，一群男子叫嚣殴打的声音吓坏经过的路人和附近住户，民众将过程拍下发上网，让不少网友直呼“治安败坏”、“三重日常”。',\n",
       " 'comments': 49,\n",
       " 'dt': datetime.datetime(2016, 11, 10, 10, 30),\n",
       " 'editor': '康云凯 ',\n",
       " 'newssource': '中国新闻网',\n",
       " 'title': '台湾街头发生百人打群架 警方制止反被打(图)'}"
      ]
     },
     "execution_count": 80,
     "metadata": {},
     "output_type": "execute_result"
    }
   ],
   "source": [
    "news_total[20]"
   ]
  },
  {
   "cell_type": "markdown",
   "metadata": {},
   "source": [
    "## List Extend"
   ]
  },
  {
   "cell_type": "code",
   "execution_count": 70,
   "metadata": {
    "collapsed": false
   },
   "outputs": [
    {
     "data": {
      "text/plain": [
       "[1, 2, 3, 2, 3]"
      ]
     },
     "execution_count": 70,
     "metadata": {},
     "output_type": "execute_result"
    }
   ],
   "source": [
    "a = [1,2,3]\n",
    "b = [2,3]\n",
    "a.extend(b)\n",
    "a"
   ]
  },
  {
   "cell_type": "markdown",
   "metadata": {},
   "source": [
    "## 完整新浪爬蟲"
   ]
  },
  {
   "cell_type": "markdown",
   "metadata": {},
   "source": [
    "### 0. 引用套件"
   ]
  },
  {
   "cell_type": "code",
   "execution_count": 83,
   "metadata": {
    "collapsed": true
   },
   "outputs": [],
   "source": [
    "import requests\n",
    "from bs4 import BeautifulSoup\n",
    "import re, json\n",
    "from datetime import datetime"
   ]
  },
  {
   "cell_type": "markdown",
   "metadata": {},
   "source": [
    "### 1. 建立抓取內容頁函式"
   ]
  },
  {
   "cell_type": "code",
   "execution_count": 84,
   "metadata": {
    "collapsed": true
   },
   "outputs": [],
   "source": [
    "def getNewsDetail(newsurl):\n",
    "    result = {}\n",
    "    res = requests.get(newsurl)\n",
    "    res.encoding = 'utf-8'\n",
    "    soup = BeautifulSoup(res.text, 'html.parser')\n",
    "    result['title']      = soup.select('#artibodyTitle')[0].text\n",
    "    result['newssource'] = soup.select('.time-source')[0].contents[1].text.strip()\n",
    "    timesource           = soup.select('.time-source')[0].contents[0].strip()\n",
    "    result['dt']         = datetime.strptime(timesource, '%Y年%m月%d日%H:%M')\n",
    "    result['article']    = ''.join([p.text.strip() for p in soup.select('#artibody p')[:-1]])\n",
    "    try:\n",
    "        result['editor']     = soup.select('.article-editor')[0].text.lstrip('责任编辑：')\n",
    "    except:\n",
    "        print('editor not found')\n",
    "    result['comments']   = getCommentCount(newsurl)\n",
    "    return result "
   ]
  },
  {
   "cell_type": "markdown",
   "metadata": {},
   "source": [
    "### 2. 建立評論數擷取函式"
   ]
  },
  {
   "cell_type": "code",
   "execution_count": 85,
   "metadata": {
    "collapsed": true
   },
   "outputs": [],
   "source": [
    "def getCommentCount(newsurl):\n",
    "    m = re.search('doc-i(\\w+).shtml', newsurl)\n",
    "    newsid = m.group(1)\n",
    "    res = requests.get(commentURL.format(newsid))\n",
    "    comments = res.text.strip('var data=')\n",
    "    return json.loads(comments)['result']['count']['total']"
   ]
  },
  {
   "cell_type": "markdown",
   "metadata": {},
   "source": [
    "### 3. 抓取API 連結函式"
   ]
  },
  {
   "cell_type": "code",
   "execution_count": 86,
   "metadata": {
    "collapsed": true
   },
   "outputs": [],
   "source": [
    "def parseListLinks(url):\n",
    "    newsdetails = []\n",
    "    res = requests.get(url)\n",
    "    jd = json.loads(res.text.lstrip('  newsloadercallback(').rstrip(');'))\n",
    "    for ent in jd['result']['data']:\n",
    "        newsdetails.append(getNewsDetail(ent['url']))\n",
    "    return newsdetails"
   ]
  },
  {
   "cell_type": "markdown",
   "metadata": {},
   "source": [
    "### 4. 呼叫函式"
   ]
  },
  {
   "cell_type": "code",
   "execution_count": 98,
   "metadata": {
    "collapsed": true
   },
   "outputs": [],
   "source": [
    "apiformat = 'http://api.roll.news.sina.com.cn/zt_list?channel=news&cat_1=gnxw&cat_2==gdxw1||=gatxw||=zs-pl||=mtjj&level==1||=2&show_ext=1&show_all=1&show_num=22&tag=1&format=json&page={}&callback=newsloadercallback'\n",
    "commentURL = 'http://comment5.news.sina.com.cn/page/info?version=1&format=js&channel=gn&newsid=comos-{}&group=&compress=0&ie=utf-8&oe=utf-8&page=1&page_size=20'\n",
    "news_total = []\n",
    "for page in range(1,6):\n",
    "    news_total.extend(parseListLinks(apiformat.format(page)))"
   ]
  },
  {
   "cell_type": "code",
   "execution_count": 90,
   "metadata": {
    "collapsed": false
   },
   "outputs": [],
   "source": [
    "#news_total"
   ]
  },
  {
   "cell_type": "markdown",
   "metadata": {},
   "source": [
    "## 使用Pandas"
   ]
  },
  {
   "cell_type": "code",
   "execution_count": 92,
   "metadata": {
    "collapsed": false
   },
   "outputs": [
    {
     "data": {
      "text/html": [
       "<div>\n",
       "<table border=\"1\" class=\"dataframe\">\n",
       "  <thead>\n",
       "    <tr style=\"text-align: right;\">\n",
       "      <th></th>\n",
       "      <th>0</th>\n",
       "      <th>1</th>\n",
       "      <th>2</th>\n",
       "    </tr>\n",
       "  </thead>\n",
       "  <tbody>\n",
       "    <tr>\n",
       "      <th>0</th>\n",
       "      <td>1</td>\n",
       "      <td>2</td>\n",
       "      <td>3</td>\n",
       "    </tr>\n",
       "    <tr>\n",
       "      <th>1</th>\n",
       "      <td>2</td>\n",
       "      <td>3</td>\n",
       "      <td>4</td>\n",
       "    </tr>\n",
       "  </tbody>\n",
       "</table>\n",
       "</div>"
      ],
      "text/plain": [
       "   0  1  2\n",
       "0  1  2  3\n",
       "1  2  3  4"
      ]
     },
     "execution_count": 92,
     "metadata": {},
     "output_type": "execute_result"
    }
   ],
   "source": [
    "a = [[1,2,3], [2,3,4]]\n",
    "import pandas\n",
    "df = pandas.DataFrame(a)\n",
    "df"
   ]
  },
  {
   "cell_type": "code",
   "execution_count": 93,
   "metadata": {
    "collapsed": false
   },
   "outputs": [
    {
     "data": {
      "text/html": [
       "<div>\n",
       "<table border=\"1\" class=\"dataframe\">\n",
       "  <thead>\n",
       "    <tr style=\"text-align: right;\">\n",
       "      <th></th>\n",
       "      <th>a</th>\n",
       "      <th>b</th>\n",
       "      <th>c</th>\n",
       "    </tr>\n",
       "  </thead>\n",
       "  <tbody>\n",
       "    <tr>\n",
       "      <th>0</th>\n",
       "      <td>1</td>\n",
       "      <td>2.0</td>\n",
       "      <td>NaN</td>\n",
       "    </tr>\n",
       "    <tr>\n",
       "      <th>1</th>\n",
       "      <td>5</td>\n",
       "      <td>NaN</td>\n",
       "      <td>8.0</td>\n",
       "    </tr>\n",
       "  </tbody>\n",
       "</table>\n",
       "</div>"
      ],
      "text/plain": [
       "   a    b    c\n",
       "0  1  2.0  NaN\n",
       "1  5  NaN  8.0"
      ]
     },
     "execution_count": 93,
     "metadata": {},
     "output_type": "execute_result"
    }
   ],
   "source": [
    "b = [{'a':1, 'b':2},{'a':5, 'c':8}]\n",
    "import pandas\n",
    "df = pandas.DataFrame(b)\n",
    "df"
   ]
  },
  {
   "cell_type": "code",
   "execution_count": 99,
   "metadata": {
    "collapsed": false
   },
   "outputs": [
    {
     "data": {
      "text/html": [
       "<div>\n",
       "<table border=\"1\" class=\"dataframe\">\n",
       "  <thead>\n",
       "    <tr style=\"text-align: right;\">\n",
       "      <th></th>\n",
       "      <th>article</th>\n",
       "      <th>comments</th>\n",
       "      <th>dt</th>\n",
       "      <th>editor</th>\n",
       "      <th>newssource</th>\n",
       "      <th>title</th>\n",
       "    </tr>\n",
       "  </thead>\n",
       "  <tbody>\n",
       "    <tr>\n",
       "      <th>0</th>\n",
       "      <td>[快递员月薪上万元难招人！] 据中国快递协会基于往年双11及今年快递数据推测，今年双11快递...</td>\n",
       "      <td>0</td>\n",
       "      <td>2016-11-10 14:43:00</td>\n",
       "      <td>康云凯</td>\n",
       "      <td>央视</td>\n",
       "      <td>双十一快递将超10亿件 快递员月薪上万难招人</td>\n",
       "    </tr>\n",
       "    <tr>\n",
       "      <th>1</th>\n",
       "      <td>原标题：中国证监会投资者保护局原局长李量受贿案一审开庭新京报讯（记者金彧）据央视新闻报道，中...</td>\n",
       "      <td>0</td>\n",
       "      <td>2016-11-10 14:22:00</td>\n",
       "      <td>张小雅</td>\n",
       "      <td>新京报</td>\n",
       "      <td>证监会投资者保护局原局长李量受贿693万受审</td>\n",
       "    </tr>\n",
       "    <tr>\n",
       "      <th>2</th>\n",
       "      <td>原标题：湖北恩施州局地遭雪灾 直接经济损失近3100万元中新网11月10日电 据民政部网站消...</td>\n",
       "      <td>1</td>\n",
       "      <td>2016-11-10 14:18:00</td>\n",
       "      <td>康云凯</td>\n",
       "      <td>中国新闻网</td>\n",
       "      <td>湖北恩施局地遇暴雪厚度超10厘米 3.3万人受灾</td>\n",
       "    </tr>\n",
       "    <tr>\n",
       "      <th>3</th>\n",
       "      <td>原标题：重庆、云南发生洪涝滑坡灾害 致6人死亡失踪中新网11月10日电 据民政部网站消息，受...</td>\n",
       "      <td>0</td>\n",
       "      <td>2016-11-10 14:13:00</td>\n",
       "      <td>康云凯</td>\n",
       "      <td>中国新闻网</td>\n",
       "      <td>重庆云南发生洪涝滑坡灾害 致6人死亡失踪</td>\n",
       "    </tr>\n",
       "    <tr>\n",
       "      <th>4</th>\n",
       "      <td>原标题：专家：医改要把患者利益放在首位 医生利益放第二位中新网11月10日电 国务院深化医改...</td>\n",
       "      <td>2</td>\n",
       "      <td>2016-11-10 13:55:00</td>\n",
       "      <td>康云凯</td>\n",
       "      <td>中国新闻网</td>\n",
       "      <td>专家：医改要把患者利益放在首位</td>\n",
       "    </tr>\n",
       "  </tbody>\n",
       "</table>\n",
       "</div>"
      ],
      "text/plain": [
       "                                             article  comments  \\\n",
       "0  [快递员月薪上万元难招人！] 据中国快递协会基于往年双11及今年快递数据推测，今年双11快递...         0   \n",
       "1  原标题：中国证监会投资者保护局原局长李量受贿案一审开庭新京报讯（记者金彧）据央视新闻报道，中...         0   \n",
       "2  原标题：湖北恩施州局地遭雪灾 直接经济损失近3100万元中新网11月10日电 据民政部网站消...         1   \n",
       "3  原标题：重庆、云南发生洪涝滑坡灾害 致6人死亡失踪中新网11月10日电 据民政部网站消息，受...         0   \n",
       "4  原标题：专家：医改要把患者利益放在首位 医生利益放第二位中新网11月10日电 国务院深化医改...         2   \n",
       "\n",
       "                   dt editor newssource                     title  \n",
       "0 2016-11-10 14:43:00   康云凯          央视    双十一快递将超10亿件 快递员月薪上万难招人  \n",
       "1 2016-11-10 14:22:00   张小雅         新京报    证监会投资者保护局原局长李量受贿693万受审  \n",
       "2 2016-11-10 14:18:00   康云凯       中国新闻网  湖北恩施局地遇暴雪厚度超10厘米 3.3万人受灾  \n",
       "3 2016-11-10 14:13:00   康云凯       中国新闻网      重庆云南发生洪涝滑坡灾害 致6人死亡失踪  \n",
       "4 2016-11-10 13:55:00   康云凯       中国新闻网           专家：医改要把患者利益放在首位  "
      ]
     },
     "execution_count": 99,
     "metadata": {},
     "output_type": "execute_result"
    }
   ],
   "source": [
    "import pandas\n",
    "df = pandas.DataFrame(news_total)\n",
    "df.head()"
   ]
  },
  {
   "cell_type": "code",
   "execution_count": 100,
   "metadata": {
    "collapsed": false
   },
   "outputs": [
    {
     "name": "stdout",
     "output_type": "stream",
     "text": [
      "<class 'pandas.core.frame.DataFrame'>\n",
      "RangeIndex: 110 entries, 0 to 109\n",
      "Data columns (total 6 columns):\n",
      "article       110 non-null object\n",
      "comments      110 non-null int64\n",
      "dt            110 non-null datetime64[ns]\n",
      "editor        110 non-null object\n",
      "newssource    110 non-null object\n",
      "title         110 non-null object\n",
      "dtypes: datetime64[ns](1), int64(1), object(4)\n",
      "memory usage: 5.2+ KB\n"
     ]
    }
   ],
   "source": [
    "df.info()"
   ]
  },
  {
   "cell_type": "code",
   "execution_count": 101,
   "metadata": {
    "collapsed": false,
    "scrolled": true
   },
   "outputs": [
    {
     "data": {
      "text/html": [
       "<div>\n",
       "<table border=\"1\" class=\"dataframe\">\n",
       "  <thead>\n",
       "    <tr style=\"text-align: right;\">\n",
       "      <th></th>\n",
       "      <th>comments</th>\n",
       "    </tr>\n",
       "  </thead>\n",
       "  <tbody>\n",
       "    <tr>\n",
       "      <th>count</th>\n",
       "      <td>110.000000</td>\n",
       "    </tr>\n",
       "    <tr>\n",
       "      <th>mean</th>\n",
       "      <td>2998.600000</td>\n",
       "    </tr>\n",
       "    <tr>\n",
       "      <th>std</th>\n",
       "      <td>9331.521157</td>\n",
       "    </tr>\n",
       "    <tr>\n",
       "      <th>min</th>\n",
       "      <td>0.000000</td>\n",
       "    </tr>\n",
       "    <tr>\n",
       "      <th>25%</th>\n",
       "      <td>3.250000</td>\n",
       "    </tr>\n",
       "    <tr>\n",
       "      <th>50%</th>\n",
       "      <td>91.500000</td>\n",
       "    </tr>\n",
       "    <tr>\n",
       "      <th>75%</th>\n",
       "      <td>958.000000</td>\n",
       "    </tr>\n",
       "    <tr>\n",
       "      <th>max</th>\n",
       "      <td>80102.000000</td>\n",
       "    </tr>\n",
       "  </tbody>\n",
       "</table>\n",
       "</div>"
      ],
      "text/plain": [
       "           comments\n",
       "count    110.000000\n",
       "mean    2998.600000\n",
       "std     9331.521157\n",
       "min        0.000000\n",
       "25%        3.250000\n",
       "50%       91.500000\n",
       "75%      958.000000\n",
       "max    80102.000000"
      ]
     },
     "execution_count": 101,
     "metadata": {},
     "output_type": "execute_result"
    }
   ],
   "source": [
    "df.describe()"
   ]
  },
  {
   "cell_type": "code",
   "execution_count": 105,
   "metadata": {
    "collapsed": false,
    "scrolled": true
   },
   "outputs": [
    {
     "data": {
      "text/html": [
       "<div>\n",
       "<table border=\"1\" class=\"dataframe\">\n",
       "  <thead>\n",
       "    <tr style=\"text-align: right;\">\n",
       "      <th></th>\n",
       "      <th>article</th>\n",
       "      <th>comments</th>\n",
       "      <th>dt</th>\n",
       "      <th>editor</th>\n",
       "      <th>newssource</th>\n",
       "      <th>title</th>\n",
       "    </tr>\n",
       "  </thead>\n",
       "  <tbody>\n",
       "    <tr>\n",
       "      <th>89</th>\n",
       "      <td>原标题：广东东莞“追砸运钞车被击毙”事件 再调查成都商报首席记者 刘木木 发自广东东莞广东东...</td>\n",
       "      <td>80102</td>\n",
       "      <td>2016-11-09 04:47:00</td>\n",
       "      <td>李鹏</td>\n",
       "      <td>中国新闻网</td>\n",
       "      <td>男子追砸运钞车被毙 其父：儿子被钓鱼一样诱杀</td>\n",
       "    </tr>\n",
       "    <tr>\n",
       "      <th>104</th>\n",
       "      <td>原标题：破解看病难看病贵：医改新举措与你息息相关中新网北京11月9日电（记者 张尼）近日，中...</td>\n",
       "      <td>31784</td>\n",
       "      <td>2016-11-09 01:01:00</td>\n",
       "      <td>隗俊</td>\n",
       "      <td>中国新闻网</td>\n",
       "      <td>破解看病难看病贵:政府或将不再插手医院内政</td>\n",
       "    </tr>\n",
       "    <tr>\n",
       "      <th>58</th>\n",
       "      <td>原标题：“8·12”特大火灾爆炸事故系列案件在天津一审宣判新华社天津11月9日电(记者李靖、...</td>\n",
       "      <td>29631</td>\n",
       "      <td>2016-11-09 18:31:00</td>\n",
       "      <td>刘德宾 SN222</td>\n",
       "      <td>新华社</td>\n",
       "      <td>天津港爆炸案一审宣判 瑞海公司董事长获死缓</td>\n",
       "    </tr>\n",
       "    <tr>\n",
       "      <th>75</th>\n",
       "      <td>[环境保护部原副部长张力军受贿案一审宣判] 今天，北京市二中院公开宣判环境保护部原副部长张力...</td>\n",
       "      <td>20116</td>\n",
       "      <td>2016-11-09 12:00:00</td>\n",
       "      <td>康云凯</td>\n",
       "      <td>央视</td>\n",
       "      <td>环保部原副部长张力军受贿240万 一审获刑4年</td>\n",
       "    </tr>\n",
       "    <tr>\n",
       "      <th>27</th>\n",
       "      <td>原标题：全国农村留守儿童为何“锐减”5000多万？——三问全国农村留守儿童精准摸排情况新华社...</td>\n",
       "      <td>19080</td>\n",
       "      <td>2016-11-10 09:40:00</td>\n",
       "      <td>康云凯</td>\n",
       "      <td>新华社</td>\n",
       "      <td>新华社三问留守儿童摸排情况:为何锐减5000万</td>\n",
       "    </tr>\n",
       "  </tbody>\n",
       "</table>\n",
       "</div>"
      ],
      "text/plain": [
       "                                               article  comments  \\\n",
       "89   原标题：广东东莞“追砸运钞车被击毙”事件 再调查成都商报首席记者 刘木木 发自广东东莞广东东...     80102   \n",
       "104  原标题：破解看病难看病贵：医改新举措与你息息相关中新网北京11月9日电（记者 张尼）近日，中...     31784   \n",
       "58   原标题：“8·12”特大火灾爆炸事故系列案件在天津一审宣判新华社天津11月9日电(记者李靖、...     29631   \n",
       "75   [环境保护部原副部长张力军受贿案一审宣判] 今天，北京市二中院公开宣判环境保护部原副部长张力...     20116   \n",
       "27   原标题：全国农村留守儿童为何“锐减”5000多万？——三问全国农村留守儿童精准摸排情况新华社...     19080   \n",
       "\n",
       "                     dt     editor newssource                    title  \n",
       "89  2016-11-09 04:47:00        李鹏       中国新闻网   男子追砸运钞车被毙 其父：儿子被钓鱼一样诱杀  \n",
       "104 2016-11-09 01:01:00        隗俊       中国新闻网    破解看病难看病贵:政府或将不再插手医院内政  \n",
       "58  2016-11-09 18:31:00  刘德宾 SN222        新华社    天津港爆炸案一审宣判 瑞海公司董事长获死缓  \n",
       "75  2016-11-09 12:00:00       康云凯          央视  环保部原副部长张力军受贿240万 一审获刑4年  \n",
       "27  2016-11-10 09:40:00       康云凯         新华社  新华社三问留守儿童摸排情况:为何锐减5000万  "
      ]
     },
     "execution_count": 105,
     "metadata": {},
     "output_type": "execute_result"
    }
   ],
   "source": [
    "df.sort_values('comments', ascending=False).head()"
   ]
  },
  {
   "cell_type": "code",
   "execution_count": 117,
   "metadata": {
    "collapsed": false
   },
   "outputs": [
    {
     "name": "stdout",
     "output_type": "stream",
     "text": [
      "Populating the interactive namespace from numpy and matplotlib\n"
     ]
    },
    {
     "data": {
      "text/plain": [
       "<matplotlib.axes._subplots.AxesSubplot at 0xaecaf60>"
      ]
     },
     "execution_count": 117,
     "metadata": {},
     "output_type": "execute_result"
    },
    {
     "data": {
      "image/png": "[encoded data removed]",
      "text/plain": [
       "<matplotlib.figure.Figure at 0xa8050b8>"
      ]
     },
     "metadata": {},
     "output_type": "display_data"
    }
   ],
   "source": [
    "%pylab inline\n",
    "a  = df.dt.dt.hour.value_counts()\n",
    "a.sort_index().plot(kind='bar')\n",
    "#.plot(kind='line')"
   ]
  },
  {
   "cell_type": "markdown",
   "metadata": {},
   "source": [
    "## 使用Python 連結 SQLite"
   ]
  },
  {
   "cell_type": "code",
   "execution_count": 118,
   "metadata": {
    "collapsed": false
   },
   "outputs": [
    {
     "name": "stdout",
     "output_type": "stream",
     "text": [
      "('3.8.11',)\n"
     ]
    }
   ],
   "source": [
    "import sqlite3\n",
    "with sqlite3.connect('test.sqlite') as con:\n",
    "    cur = con.cursor()\n",
    "    cur.execute('SELECT SQLITE_VERSION()')\n",
    "    data = cur.fetchone()\n",
    "    print(data)\n",
    "    cur.close()"
   ]
  },
  {
   "cell_type": "code",
   "execution_count": 120,
   "metadata": {
    "collapsed": false
   },
   "outputs": [],
   "source": [
    "with sqlite3.connect(\"test.sqlite\") as con: \n",
    "    cur = con.cursor() \n",
    "    cur.execute(\"DROP TABLE IF EXISTS PhoneAddress\") \n",
    "    cur.execute(\"CREATE TABLE PhoneAddress(phone CHAR(10) PRIMARY KEY, address TEXT, name TEXT unique, age INT NOT NULL)\") \n",
    "    cur.execute(\"INSERT INTO  PhoneAddress VALUES('0912173381','United State','Jhon Doe',53)\") \n",
    "    cur.execute(\"INSERT INTO  PhoneAddress VALUES('0928375018','Tokyo Japan','MuMu Cat',6)\") \n",
    "    cur.execute(\"INSERT INTO  PhoneAddress VALUES('0957209108','Taipei','Richard',29)\") \n",
    "    cur.close()"
   ]
  },
  {
   "cell_type": "code",
   "execution_count": 123,
   "metadata": {
    "collapsed": false
   },
   "outputs": [
    {
     "name": "stdout",
     "output_type": "stream",
     "text": [
      "Jhon Doe 53\n",
      "MuMu Cat 6\n",
      "Richard 29\n"
     ]
    }
   ],
   "source": [
    "with sqlite3.connect(\"test.sqlite\") as con: \n",
    "    cur = con.cursor() \n",
    "    cur.execute(\"SELECT name,age FROM PhoneAddress\") \n",
    "    data = cur.fetchall() \n",
    "    for rec in data: \n",
    "        print(rec[0], rec[1])\n",
    "    cur.close()"
   ]
  },
  {
   "cell_type": "code",
   "execution_count": 124,
   "metadata": {
    "collapsed": false
   },
   "outputs": [
    {
     "name": "stdout",
     "output_type": "stream",
     "text": [
      "('Jhon Doe', 53)\n",
      "[('MuMu Cat', 6), ('Richard', 29)]\n"
     ]
    }
   ],
   "source": [
    "with sqlite3.connect(\"test.sqlite\") as con: \n",
    "    cur = con.cursor() \n",
    "    cur.execute(\"SELECT name,age FROM PhoneAddress\") \n",
    "    data1 = cur.fetchone()\n",
    "    print(data1)\n",
    "    data2 = cur.fetchall()\n",
    "    print(data2)\n",
    "    cur.close()"
   ]
  },
  {
   "cell_type": "code",
   "execution_count": null,
   "metadata": {
    "collapsed": true
   },
   "outputs": [],
   "source": []
  }
 ],
 "metadata": {
  "anaconda-cloud": {},
  "kernelspec": {
   "display_name": "Python [Root]",
   "language": "python",
   "name": "Python [Root]"
  },
  "language_info": {
   "codemirror_mode": {
    "name": "ipython",
    "version": 3
   },
   "file_extension": ".py",
   "mimetype": "text/x-python",
   "name": "python",
   "nbconvert_exporter": "python",
   "pygments_lexer": "ipython3",
   "version": "3.5.2"
  }
 },
 "nbformat": 4,
 "nbformat_minor": 0
}
